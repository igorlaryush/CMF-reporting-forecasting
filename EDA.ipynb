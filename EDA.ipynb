{
 "cells": [
  {
   "cell_type": "code",
   "execution_count": 64,
   "metadata": {},
   "outputs": [],
   "source": [
    "import pandas as pd \n",
    "import numpy as np\n",
    "\n",
    "import plotly.graph_objects as go\n",
    "import os\n",
    "import matplotlib.pyplot as plt\n",
    "\n",
    "from tqdm import tqdm\n",
    "\n",
    "pd.set_option('display.max_columns', 50)\n",
    "pd.set_option('display.max_rows', 50)"
   ]
  },
  {
   "cell_type": "code",
   "execution_count": 65,
   "metadata": {},
   "outputs": [],
   "source": [
    "def read_table(table_path, file=\"\"):\n",
    "        df = pd.read_excel(table_path, skiprows=28)\n",
    "        df = df.iloc[: , 8:]\n",
    "        df.drop(df.tail(49).index,\n",
    "                inplace = True)\n",
    "\n",
    "        df = df.set_index('INCOME STATEMENT').transpose()\n",
    "        cols_to_drop = ['BALANCE SHEET', 'CASH FLOW STATEMENT', 'CHANGES TO SHAREHOLDER EQUITY', 'Ratios']\n",
    "        df.drop(cols_to_drop, axis=1, inplace=True)\n",
    "        df['Company_name'] = file\n",
    "        return df"
   ]
  },
  {
   "cell_type": "code",
   "execution_count": 66,
   "metadata": {},
   "outputs": [
    {
     "name": "stderr",
     "output_type": "stream",
     "text": [
      "100%|██████████| 54/54 [00:06<00:00,  7.98it/s]\n"
     ]
    },
    {
     "data": {
      "text/plain": [
       "(2056, 282)"
      ]
     },
     "execution_count": 66,
     "metadata": {},
     "output_type": "execute_result"
    }
   ],
   "source": [
    "train_dir = 'data/oil_gas_train/'\n",
    "\n",
    "df = pd.concat([read_table(os.path.join(train_dir, file), file) for file in tqdm(os.listdir(train_dir))])\n",
    "\n",
    "company_names = df['Company_name'].copy()\n",
    "df.columns = ['{}_{}'.format(col, i) for i, col in enumerate(df.columns)]\n",
    "df = df[df.columns[df.nunique(dropna=False) > 1]]\n",
    "df = df.apply(pd.to_numeric, errors='coerce')\n",
    "df.iloc[:, -1] = company_names\n",
    "df.shape"
   ]
  },
  {
   "cell_type": "code",
   "execution_count": 67,
   "metadata": {},
   "outputs": [
    {
     "data": {
      "text/plain": [
       "11442"
      ]
     },
     "execution_count": 67,
     "metadata": {},
     "output_type": "execute_result"
    }
   ],
   "source": [
    "df.isna().sum().sum()"
   ]
  },
  {
   "cell_type": "code",
   "execution_count": 68,
   "metadata": {},
   "outputs": [],
   "source": [
    "def bar_plot(df, y_title: str = '', x_title: str = 'company_name'):\n",
    "    fig = go.Figure(go.Bar(\n",
    "        x=df.index,\n",
    "        y=df.values))\n",
    "    fig.update_layout(barmode='stack', yaxis={'title': y_title}, xaxis={\n",
    "                      'title': x_title, 'categoryorder': 'total descending'})\n",
    "\n",
    "    fig.show()"
   ]
  },
  {
   "cell_type": "code",
   "execution_count": 69,
   "metadata": {},
   "outputs": [
    {
     "data": {
      "application/vnd.plotly.v1+json": {
       "config": {
        "plotlyServerURL": "https://plot.ly"
       },
       "data": [
        {
         "type": "bar",
         "x": [
          "Revenue_",
          "Consensu",
          "% Surpri",
          "Revenue ",
          "Cost of ",
          "Gross Pr",
          "Gross ma",
          "Other Op",
          "Operatin",
          "Selling,",
          "Deprecia",
          "Prov. Fo",
          "Other Op",
          "Operatin",
          "Operatin",
          "Non-Oper",
          "Interest",
          "Interest",
          "Interest",
          "Foreign ",
          "Income (",
          "Other No",
          "Pretax I",
          "Consensu",
          "% Surpri",
          "Income T",
          "Income (",
          "Income (",
          "Net Extr",
          "Disconti",
          "XO & Acc",
          "Minority",
          "Net Inco",
          "Consensu",
          "% Surpri",
          "Preferre",
          "Other Ad",
          "Net Inco",
          "Net Inco",
          "Net Abno",
          "Net Extr",
          "EPS_45",
          "Consensu",
          "% Surpri",
          "Diluted ",
          "LTM Basi",
          "LTM Dilu",
          "Basic We",
          "Diluted ",
          "Diluted ",
          "Dividend",
          "Deprecia",
          "Amortiza",
          "Deprecia",
          "Amortiza",
          "Dep from",
          "Amort fr",
          "nan_68",
          "EBIT_70",
          "EBIT (LT",
          "EBITDA_7",
          "Consensu",
          "% Surpri",
          "EBITDA (",
          "NPAT_76",
          "Revenue ",
          "Net Inco",
          "Pretax I",
          "G-L on S",
          "ARD Loss",
          "ROA_84",
          "Consensu",
          "% Surpri",
          "ROE_87",
          "Consensu",
          "% Surpri",
          "Book Val",
          "Cash Flo",
          "Sales Pe",
          "Price_93",
          "Cash, Ca",
          "Cash & E",
          "ST Inves",
          "Accounts",
          "Accounts",
          "Notes Re",
          "Inventor",
          "Raw Mate",
          "Finished",
          "Other In",
          "Unbilled",
          "Other ST",
          "Prepaid ",
          "Derivati",
          "Assets H",
          "ST Defer",
          "Income T",
          "Disconti",
          "Misc ST ",
          "Total Cu",
          "Property",
          "PP&E Gro",
          "Accumula",
          "LT Inves",
          "LT Inves",
          "LT Marke",
          "LT Recei",
          "Goodwill",
          "Goodwill",
          "Other In",
          "Other LT",
          "LT Defer",
          "LT Deriv",
          "Prepaid ",
          "Disconti",
          "Investme",
          "Misc LT ",
          "Total Lo",
          "Total As",
          "Payables",
          "Accounts",
          "Accruals",
          "Accrued ",
          "Interest",
          "Other Ac",
          "ST Debt_",
          "ST Borro",
          "ST Capit",
          "Current ",
          "Other ST",
          "ST Defer",
          "ST Deriv",
          "ST Defer",
          "Disconti",
          "Misc ST ",
          "Total Cu",
          "LT Debt_",
          "LT Borro",
          "LT Capit",
          "Other LT",
          "Accrued ",
          "Pension ",
          "Pensions",
          "Other Po",
          "Deferred",
          "LT Defer",
          "Deferred",
          "Derivati",
          "Disconti",
          "Misc LT ",
          "Total No",
          "Total Li",
          "Preferre",
          "Share Ca",
          "Common S",
          "Addition",
          "Other Sh",
          "Treasury",
          "Retained",
          "Other Eq",
          "Minority",
          "Total Eq",
          "Total Li",
          "A = L + ",
          "Current ",
          "LT Asset",
          "Current ",
          "LT Liabi",
          "Total Li",
          "Net Inte",
          "Cash and",
          "Restrict",
          "Total De",
          "Net Debt",
          "Total Ca",
          "Line of ",
          "Line of ",
          "Line of ",
          "Amt Reco",
          "Rental E",
          "Rental E",
          "Rental E",
          "Rental E",
          "Rental E",
          "Rental E",
          "Rental E",
          "Rental E",
          "Rental E",
          "Total Op",
          "PV of Op",
          "Rental E",
          "Interest",
          "D&A Port",
          "Lease Ad",
          "Lease Ad",
          "Lease Ad",
          "Total De",
          "Lease Ad",
          "Shares O",
          "Share pr",
          "Days in ",
          "Net Inco",
          "Dep & Am",
          "NonCash ",
          "StockBas",
          "Deferred",
          "Other No",
          "Change i",
          "(Inc) De",
          "(Inc) De",
          "Inc (Dec",
          "Inc (Dec",
          "Net Cash",
          "Cash fro",
          "Change i",
          "Disp in ",
          "Disp of ",
          "Acq of F",
          "Capex_25",
          "Net Chan",
          "Dec in L",
          "Inc in L",
          "Net Cash",
          "Cash fro",
          "Cash for",
          "Cash for",
          "Other In",
          "Net Cash",
          "Cash fro",
          "Dividend",
          "Cash Fro",
          "Cash Fro",
          "Cash Fro",
          "Repaymen",
          "Cash (Re",
          "Increase",
          "Decrease",
          "Other Fi",
          "Net Cash",
          "Cash fro",
          "Effect o",
          "Net Chan",
          "Free Cas",
          "Consensu",
          "% Surpri",
          "Free Cas",
          "Free Cas",
          "Cash Pai",
          "Cash Pai",
          "Free Cas",
          "Operatin",
          "Free Cas",
          "Dividend",
          "Dividend",
          "Beginnin",
          "Net Inco",
          "Other Co",
          "Dividend",
          "Net Shar",
          "Other_29",
          "Ending E",
          "Beginnin",
          "Shares R",
          "Avg. Pri",
          "Shares I",
          "Ending S",
          "Share Re",
          "Net Shar",
          "EBITDAR_",
          "EBITDAR ",
          "EBITDA M",
          "EBITDA /",
          "EBITDA -",
          "CAPEX / ",
          "CAPEX / ",
          "FCF / DE",
          "Gross Le",
          "Net Leve",
          "Total Li",
          "Cash + A",
          "Cash % o"
         ],
         "y": [
          -36.21,
          0,
          -1.1721091492776887,
          -74.086961638304,
          -48376.999936,
          -1933.000064,
          -3.22200956937799,
          0,
          -3427.000064,
          -3428.999936,
          -1028,
          -44.738,
          -1083.000064,
          -2540,
          -3.9644565960355433,
          -1842,
          -387,
          -387,
          -0.066,
          -656,
          -940,
          -1675.000064,
          -1772.999936,
          -1817.4,
          -133.05676855895194,
          -4304.719872,
          -0.024,
          -8312.999936,
          -4906.999808,
          -4906.999808,
          -0.373,
          -185,
          -4658.719744,
          -1292.3,
          -1667.3285818181819,
          -490,
          -398,
          -4658.719744,
          -4658.719744,
          -2535.664896,
          -2559.000064,
          -53.78323745727539,
          -6.284,
          -110.09399721357556,
          -53.78323745727539,
          -71.07949829101562,
          -71.07952880859375,
          0,
          0,
          0,
          0,
          0,
          0,
          0,
          0,
          0,
          0,
          -0.363,
          -2540,
          -4475.999936,
          -1006,
          0,
          -6.6385,
          -114.705,
          -8312.999936,
          0,
          -5915.550208,
          -5798.999936,
          -578,
          0,
          -0.8318397139527235,
          -0.124,
          -11.884627719286385,
          -1.7131845393489582,
          -0.619,
          -68.62815100880945,
          -597.1246948242188,
          -5.652462005615234,
          -0.8836948638491462,
          0,
          0,
          0,
          0,
          0,
          0,
          0,
          0,
          0,
          0,
          -888,
          0,
          0,
          0,
          0,
          0,
          0,
          0,
          0,
          0,
          0,
          0,
          0,
          -80783.998976,
          0,
          0,
          0,
          0,
          0,
          0,
          0,
          0,
          0,
          0,
          0,
          0,
          0,
          0,
          0,
          0,
          0,
          0,
          0,
          0,
          0,
          0,
          0,
          -16,
          0,
          -1.732,
          -4,
          0,
          -4,
          0,
          0,
          -0.000128,
          0,
          0,
          0,
          0,
          0,
          -170,
          0,
          0,
          0,
          0,
          0,
          -11.357,
          0,
          0,
          0,
          0,
          0,
          0,
          0,
          0,
          0,
          0,
          -47130.001408,
          -22793.00096,
          -6342.000128,
          -5.129,
          -4187.998912,
          0,
          -191,
          -1097,
          -750,
          0,
          -82,
          0,
          -80.81009999999999,
          0,
          0,
          0,
          -888,
          -2675.52068,
          0,
          -85.3,
          -971.299968,
          0,
          0,
          0,
          0,
          0,
          0,
          0,
          0,
          0,
          0,
          0,
          0,
          0,
          0,
          -147.23240292733996,
          -2534.6351642456357,
          -1006,
          0,
          0,
          -2675.52068,
          0,
          0,
          90,
          -8296.999936,
          0,
          -2742.000064,
          -43,
          -2935.000064,
          -3247.000064,
          -2090,
          -1376,
          -2668.999936,
          -1663.000064,
          -958,
          -2182.000128,
          -421,
          -7376.000128,
          -0.096,
          -0.096,
          -7518.000128,
          -7518.000128,
          -570,
          0,
          -570,
          -6002.999808,
          -323.574016,
          -6002.999808,
          -159.888992,
          -2489.999872,
          -1860,
          -7281.999872,
          -5852.000256,
          -3771.000064,
          -4506.999808,
          -500,
          -5000,
          -3189.000064,
          0,
          -3199.000064,
          -3028,
          -1700.999936,
          -5896.999936,
          -163,
          -6636.000256,
          -6108.000256,
          -21282.52,
          -306.556992,
          -8761.947123076923,
          -3940.000192,
          -3904,
          -53.4,
          -12012.999936,
          -5.652461951656222,
          -55.795099235540555,
          0,
          0,
          -3923.999424,
          -4658.719744,
          -7763.452064,
          -5852.000256,
          -3189.000064,
          -18539.000384,
          -4187.998912,
          0,
          0,
          -54502.5641025641,
          -2124.944,
          0,
          -10753.898496,
          -2124.944,
          -1006,
          -1006,
          -2.408298245341637,
          -5224.25,
          -5224.25,
          -10.065041822901643,
          -222.61914259429625,
          -119.10902255639097,
          0,
          0,
          0,
          0,
          0
         ]
        }
       ],
       "layout": {
        "barmode": "stack",
        "template": {
         "data": {
          "bar": [
           {
            "error_x": {
             "color": "#2a3f5f"
            },
            "error_y": {
             "color": "#2a3f5f"
            },
            "marker": {
             "line": {
              "color": "#E5ECF6",
              "width": 0.5
             },
             "pattern": {
              "fillmode": "overlay",
              "size": 10,
              "solidity": 0.2
             }
            },
            "type": "bar"
           }
          ],
          "barpolar": [
           {
            "marker": {
             "line": {
              "color": "#E5ECF6",
              "width": 0.5
             },
             "pattern": {
              "fillmode": "overlay",
              "size": 10,
              "solidity": 0.2
             }
            },
            "type": "barpolar"
           }
          ],
          "carpet": [
           {
            "aaxis": {
             "endlinecolor": "#2a3f5f",
             "gridcolor": "white",
             "linecolor": "white",
             "minorgridcolor": "white",
             "startlinecolor": "#2a3f5f"
            },
            "baxis": {
             "endlinecolor": "#2a3f5f",
             "gridcolor": "white",
             "linecolor": "white",
             "minorgridcolor": "white",
             "startlinecolor": "#2a3f5f"
            },
            "type": "carpet"
           }
          ],
          "choropleth": [
           {
            "colorbar": {
             "outlinewidth": 0,
             "ticks": ""
            },
            "type": "choropleth"
           }
          ],
          "contour": [
           {
            "colorbar": {
             "outlinewidth": 0,
             "ticks": ""
            },
            "colorscale": [
             [
              0,
              "#0d0887"
             ],
             [
              0.1111111111111111,
              "#46039f"
             ],
             [
              0.2222222222222222,
              "#7201a8"
             ],
             [
              0.3333333333333333,
              "#9c179e"
             ],
             [
              0.4444444444444444,
              "#bd3786"
             ],
             [
              0.5555555555555556,
              "#d8576b"
             ],
             [
              0.6666666666666666,
              "#ed7953"
             ],
             [
              0.7777777777777778,
              "#fb9f3a"
             ],
             [
              0.8888888888888888,
              "#fdca26"
             ],
             [
              1,
              "#f0f921"
             ]
            ],
            "type": "contour"
           }
          ],
          "contourcarpet": [
           {
            "colorbar": {
             "outlinewidth": 0,
             "ticks": ""
            },
            "type": "contourcarpet"
           }
          ],
          "heatmap": [
           {
            "colorbar": {
             "outlinewidth": 0,
             "ticks": ""
            },
            "colorscale": [
             [
              0,
              "#0d0887"
             ],
             [
              0.1111111111111111,
              "#46039f"
             ],
             [
              0.2222222222222222,
              "#7201a8"
             ],
             [
              0.3333333333333333,
              "#9c179e"
             ],
             [
              0.4444444444444444,
              "#bd3786"
             ],
             [
              0.5555555555555556,
              "#d8576b"
             ],
             [
              0.6666666666666666,
              "#ed7953"
             ],
             [
              0.7777777777777778,
              "#fb9f3a"
             ],
             [
              0.8888888888888888,
              "#fdca26"
             ],
             [
              1,
              "#f0f921"
             ]
            ],
            "type": "heatmap"
           }
          ],
          "heatmapgl": [
           {
            "colorbar": {
             "outlinewidth": 0,
             "ticks": ""
            },
            "colorscale": [
             [
              0,
              "#0d0887"
             ],
             [
              0.1111111111111111,
              "#46039f"
             ],
             [
              0.2222222222222222,
              "#7201a8"
             ],
             [
              0.3333333333333333,
              "#9c179e"
             ],
             [
              0.4444444444444444,
              "#bd3786"
             ],
             [
              0.5555555555555556,
              "#d8576b"
             ],
             [
              0.6666666666666666,
              "#ed7953"
             ],
             [
              0.7777777777777778,
              "#fb9f3a"
             ],
             [
              0.8888888888888888,
              "#fdca26"
             ],
             [
              1,
              "#f0f921"
             ]
            ],
            "type": "heatmapgl"
           }
          ],
          "histogram": [
           {
            "marker": {
             "pattern": {
              "fillmode": "overlay",
              "size": 10,
              "solidity": 0.2
             }
            },
            "type": "histogram"
           }
          ],
          "histogram2d": [
           {
            "colorbar": {
             "outlinewidth": 0,
             "ticks": ""
            },
            "colorscale": [
             [
              0,
              "#0d0887"
             ],
             [
              0.1111111111111111,
              "#46039f"
             ],
             [
              0.2222222222222222,
              "#7201a8"
             ],
             [
              0.3333333333333333,
              "#9c179e"
             ],
             [
              0.4444444444444444,
              "#bd3786"
             ],
             [
              0.5555555555555556,
              "#d8576b"
             ],
             [
              0.6666666666666666,
              "#ed7953"
             ],
             [
              0.7777777777777778,
              "#fb9f3a"
             ],
             [
              0.8888888888888888,
              "#fdca26"
             ],
             [
              1,
              "#f0f921"
             ]
            ],
            "type": "histogram2d"
           }
          ],
          "histogram2dcontour": [
           {
            "colorbar": {
             "outlinewidth": 0,
             "ticks": ""
            },
            "colorscale": [
             [
              0,
              "#0d0887"
             ],
             [
              0.1111111111111111,
              "#46039f"
             ],
             [
              0.2222222222222222,
              "#7201a8"
             ],
             [
              0.3333333333333333,
              "#9c179e"
             ],
             [
              0.4444444444444444,
              "#bd3786"
             ],
             [
              0.5555555555555556,
              "#d8576b"
             ],
             [
              0.6666666666666666,
              "#ed7953"
             ],
             [
              0.7777777777777778,
              "#fb9f3a"
             ],
             [
              0.8888888888888888,
              "#fdca26"
             ],
             [
              1,
              "#f0f921"
             ]
            ],
            "type": "histogram2dcontour"
           }
          ],
          "mesh3d": [
           {
            "colorbar": {
             "outlinewidth": 0,
             "ticks": ""
            },
            "type": "mesh3d"
           }
          ],
          "parcoords": [
           {
            "line": {
             "colorbar": {
              "outlinewidth": 0,
              "ticks": ""
             }
            },
            "type": "parcoords"
           }
          ],
          "pie": [
           {
            "automargin": true,
            "type": "pie"
           }
          ],
          "scatter": [
           {
            "fillpattern": {
             "fillmode": "overlay",
             "size": 10,
             "solidity": 0.2
            },
            "type": "scatter"
           }
          ],
          "scatter3d": [
           {
            "line": {
             "colorbar": {
              "outlinewidth": 0,
              "ticks": ""
             }
            },
            "marker": {
             "colorbar": {
              "outlinewidth": 0,
              "ticks": ""
             }
            },
            "type": "scatter3d"
           }
          ],
          "scattercarpet": [
           {
            "marker": {
             "colorbar": {
              "outlinewidth": 0,
              "ticks": ""
             }
            },
            "type": "scattercarpet"
           }
          ],
          "scattergeo": [
           {
            "marker": {
             "colorbar": {
              "outlinewidth": 0,
              "ticks": ""
             }
            },
            "type": "scattergeo"
           }
          ],
          "scattergl": [
           {
            "marker": {
             "colorbar": {
              "outlinewidth": 0,
              "ticks": ""
             }
            },
            "type": "scattergl"
           }
          ],
          "scattermapbox": [
           {
            "marker": {
             "colorbar": {
              "outlinewidth": 0,
              "ticks": ""
             }
            },
            "type": "scattermapbox"
           }
          ],
          "scatterpolar": [
           {
            "marker": {
             "colorbar": {
              "outlinewidth": 0,
              "ticks": ""
             }
            },
            "type": "scatterpolar"
           }
          ],
          "scatterpolargl": [
           {
            "marker": {
             "colorbar": {
              "outlinewidth": 0,
              "ticks": ""
             }
            },
            "type": "scatterpolargl"
           }
          ],
          "scatterternary": [
           {
            "marker": {
             "colorbar": {
              "outlinewidth": 0,
              "ticks": ""
             }
            },
            "type": "scatterternary"
           }
          ],
          "surface": [
           {
            "colorbar": {
             "outlinewidth": 0,
             "ticks": ""
            },
            "colorscale": [
             [
              0,
              "#0d0887"
             ],
             [
              0.1111111111111111,
              "#46039f"
             ],
             [
              0.2222222222222222,
              "#7201a8"
             ],
             [
              0.3333333333333333,
              "#9c179e"
             ],
             [
              0.4444444444444444,
              "#bd3786"
             ],
             [
              0.5555555555555556,
              "#d8576b"
             ],
             [
              0.6666666666666666,
              "#ed7953"
             ],
             [
              0.7777777777777778,
              "#fb9f3a"
             ],
             [
              0.8888888888888888,
              "#fdca26"
             ],
             [
              1,
              "#f0f921"
             ]
            ],
            "type": "surface"
           }
          ],
          "table": [
           {
            "cells": {
             "fill": {
              "color": "#EBF0F8"
             },
             "line": {
              "color": "white"
             }
            },
            "header": {
             "fill": {
              "color": "#C8D4E3"
             },
             "line": {
              "color": "white"
             }
            },
            "type": "table"
           }
          ]
         },
         "layout": {
          "annotationdefaults": {
           "arrowcolor": "#2a3f5f",
           "arrowhead": 0,
           "arrowwidth": 1
          },
          "autotypenumbers": "strict",
          "coloraxis": {
           "colorbar": {
            "outlinewidth": 0,
            "ticks": ""
           }
          },
          "colorscale": {
           "diverging": [
            [
             0,
             "#8e0152"
            ],
            [
             0.1,
             "#c51b7d"
            ],
            [
             0.2,
             "#de77ae"
            ],
            [
             0.3,
             "#f1b6da"
            ],
            [
             0.4,
             "#fde0ef"
            ],
            [
             0.5,
             "#f7f7f7"
            ],
            [
             0.6,
             "#e6f5d0"
            ],
            [
             0.7,
             "#b8e186"
            ],
            [
             0.8,
             "#7fbc41"
            ],
            [
             0.9,
             "#4d9221"
            ],
            [
             1,
             "#276419"
            ]
           ],
           "sequential": [
            [
             0,
             "#0d0887"
            ],
            [
             0.1111111111111111,
             "#46039f"
            ],
            [
             0.2222222222222222,
             "#7201a8"
            ],
            [
             0.3333333333333333,
             "#9c179e"
            ],
            [
             0.4444444444444444,
             "#bd3786"
            ],
            [
             0.5555555555555556,
             "#d8576b"
            ],
            [
             0.6666666666666666,
             "#ed7953"
            ],
            [
             0.7777777777777778,
             "#fb9f3a"
            ],
            [
             0.8888888888888888,
             "#fdca26"
            ],
            [
             1,
             "#f0f921"
            ]
           ],
           "sequentialminus": [
            [
             0,
             "#0d0887"
            ],
            [
             0.1111111111111111,
             "#46039f"
            ],
            [
             0.2222222222222222,
             "#7201a8"
            ],
            [
             0.3333333333333333,
             "#9c179e"
            ],
            [
             0.4444444444444444,
             "#bd3786"
            ],
            [
             0.5555555555555556,
             "#d8576b"
            ],
            [
             0.6666666666666666,
             "#ed7953"
            ],
            [
             0.7777777777777778,
             "#fb9f3a"
            ],
            [
             0.8888888888888888,
             "#fdca26"
            ],
            [
             1,
             "#f0f921"
            ]
           ]
          },
          "colorway": [
           "#636efa",
           "#EF553B",
           "#00cc96",
           "#ab63fa",
           "#FFA15A",
           "#19d3f3",
           "#FF6692",
           "#B6E880",
           "#FF97FF",
           "#FECB52"
          ],
          "font": {
           "color": "#2a3f5f"
          },
          "geo": {
           "bgcolor": "white",
           "lakecolor": "white",
           "landcolor": "#E5ECF6",
           "showlakes": true,
           "showland": true,
           "subunitcolor": "white"
          },
          "hoverlabel": {
           "align": "left"
          },
          "hovermode": "closest",
          "mapbox": {
           "style": "light"
          },
          "paper_bgcolor": "white",
          "plot_bgcolor": "#E5ECF6",
          "polar": {
           "angularaxis": {
            "gridcolor": "white",
            "linecolor": "white",
            "ticks": ""
           },
           "bgcolor": "#E5ECF6",
           "radialaxis": {
            "gridcolor": "white",
            "linecolor": "white",
            "ticks": ""
           }
          },
          "scene": {
           "xaxis": {
            "backgroundcolor": "#E5ECF6",
            "gridcolor": "white",
            "gridwidth": 2,
            "linecolor": "white",
            "showbackground": true,
            "ticks": "",
            "zerolinecolor": "white"
           },
           "yaxis": {
            "backgroundcolor": "#E5ECF6",
            "gridcolor": "white",
            "gridwidth": 2,
            "linecolor": "white",
            "showbackground": true,
            "ticks": "",
            "zerolinecolor": "white"
           },
           "zaxis": {
            "backgroundcolor": "#E5ECF6",
            "gridcolor": "white",
            "gridwidth": 2,
            "linecolor": "white",
            "showbackground": true,
            "ticks": "",
            "zerolinecolor": "white"
           }
          },
          "shapedefaults": {
           "line": {
            "color": "#2a3f5f"
           }
          },
          "ternary": {
           "aaxis": {
            "gridcolor": "white",
            "linecolor": "white",
            "ticks": ""
           },
           "baxis": {
            "gridcolor": "white",
            "linecolor": "white",
            "ticks": ""
           },
           "bgcolor": "#E5ECF6",
           "caxis": {
            "gridcolor": "white",
            "linecolor": "white",
            "ticks": ""
           }
          },
          "title": {
           "x": 0.05
          },
          "xaxis": {
           "automargin": true,
           "gridcolor": "white",
           "linecolor": "white",
           "ticks": "",
           "title": {
            "standoff": 15
           },
           "zerolinecolor": "white",
           "zerolinewidth": 2
          },
          "yaxis": {
           "automargin": true,
           "gridcolor": "white",
           "linecolor": "white",
           "ticks": "",
           "title": {
            "standoff": 15
           },
           "zerolinecolor": "white",
           "zerolinewidth": 2
          }
         }
        },
        "xaxis": {
         "categoryorder": "total descending",
         "title": {
          "text": "feature"
         }
        },
        "yaxis": {
         "title": {
          "text": "min value"
         }
        }
       }
      }
     },
     "metadata": {},
     "output_type": "display_data"
    },
    {
     "data": {
      "application/vnd.plotly.v1+json": {
       "config": {
        "plotlyServerURL": "https://plot.ly"
       },
       "data": [
        {
         "type": "bar",
         "x": [
          "Revenue_",
          "Consensu",
          "% Surpri",
          "Revenue ",
          "Cost of ",
          "Gross Pr",
          "Gross ma",
          "Other Op",
          "Operatin",
          "Selling,",
          "Deprecia",
          "Prov. Fo",
          "Other Op",
          "Operatin",
          "Operatin",
          "Non-Oper",
          "Interest",
          "Interest",
          "Interest",
          "Foreign ",
          "Income (",
          "Other No",
          "Pretax I",
          "Consensu",
          "% Surpri",
          "Income T",
          "Income (",
          "Income (",
          "Net Extr",
          "Disconti",
          "XO & Acc",
          "Minority",
          "Net Inco",
          "Consensu",
          "% Surpri",
          "Preferre",
          "Other Ad",
          "Net Inco",
          "Net Inco",
          "Net Abno",
          "Net Extr",
          "EPS_45",
          "Consensu",
          "% Surpri",
          "Diluted ",
          "LTM Basi",
          "LTM Dilu",
          "Basic We",
          "Diluted ",
          "Diluted ",
          "Dividend",
          "Deprecia",
          "Amortiza",
          "Deprecia",
          "Amortiza",
          "Dep from",
          "Amort fr",
          "nan_68",
          "EBIT_70",
          "EBIT (LT",
          "EBITDA_7",
          "Consensu",
          "% Surpri",
          "EBITDA (",
          "NPAT_76",
          "Revenue ",
          "Net Inco",
          "Pretax I",
          "G-L on S",
          "ARD Loss",
          "ROA_84",
          "Consensu",
          "% Surpri",
          "ROE_87",
          "Consensu",
          "% Surpri",
          "Book Val",
          "Cash Flo",
          "Sales Pe",
          "Price_93",
          "Cash, Ca",
          "Cash & E",
          "ST Inves",
          "Accounts",
          "Accounts",
          "Notes Re",
          "Inventor",
          "Raw Mate",
          "Finished",
          "Other In",
          "Unbilled",
          "Other ST",
          "Prepaid ",
          "Derivati",
          "Assets H",
          "ST Defer",
          "Income T",
          "Disconti",
          "Misc ST ",
          "Total Cu",
          "Property",
          "PP&E Gro",
          "Accumula",
          "LT Inves",
          "LT Inves",
          "LT Marke",
          "LT Recei",
          "Goodwill",
          "Goodwill",
          "Other In",
          "Other LT",
          "LT Defer",
          "LT Deriv",
          "Prepaid ",
          "Disconti",
          "Investme",
          "Misc LT ",
          "Total Lo",
          "Total As",
          "Payables",
          "Accounts",
          "Accruals",
          "Accrued ",
          "Interest",
          "Other Ac",
          "ST Debt_",
          "ST Borro",
          "ST Capit",
          "Current ",
          "Other ST",
          "ST Defer",
          "ST Deriv",
          "ST Defer",
          "Disconti",
          "Misc ST ",
          "Total Cu",
          "LT Debt_",
          "LT Borro",
          "LT Capit",
          "Other LT",
          "Accrued ",
          "Pension ",
          "Pensions",
          "Other Po",
          "Deferred",
          "LT Defer",
          "Deferred",
          "Derivati",
          "Disconti",
          "Misc LT ",
          "Total No",
          "Total Li",
          "Preferre",
          "Share Ca",
          "Common S",
          "Addition",
          "Other Sh",
          "Treasury",
          "Retained",
          "Other Eq",
          "Minority",
          "Total Eq",
          "Total Li",
          "A = L + ",
          "Current ",
          "LT Asset",
          "Current ",
          "LT Liabi",
          "Total Li",
          "Net Inte",
          "Cash and",
          "Restrict",
          "Total De",
          "Net Debt",
          "Total Ca",
          "Line of ",
          "Line of ",
          "Line of ",
          "Amt Reco",
          "Rental E",
          "Rental E",
          "Rental E",
          "Rental E",
          "Rental E",
          "Rental E",
          "Rental E",
          "Rental E",
          "Rental E",
          "Total Op",
          "PV of Op",
          "Rental E",
          "Interest",
          "D&A Port",
          "Lease Ad",
          "Lease Ad",
          "Lease Ad",
          "Total De",
          "Lease Ad",
          "Shares O",
          "Share pr",
          "Days in ",
          "Net Inco",
          "Dep & Am",
          "NonCash ",
          "StockBas",
          "Deferred",
          "Other No",
          "Change i",
          "(Inc) De",
          "(Inc) De",
          "Inc (Dec",
          "Inc (Dec",
          "Net Cash",
          "Cash fro",
          "Change i",
          "Disp in ",
          "Disp of ",
          "Acq of F",
          "Capex_25",
          "Net Chan",
          "Dec in L",
          "Inc in L",
          "Net Cash",
          "Cash fro",
          "Cash for",
          "Cash for",
          "Other In",
          "Net Cash",
          "Cash fro",
          "Dividend",
          "Cash Fro",
          "Cash Fro",
          "Cash Fro",
          "Repaymen",
          "Cash (Re",
          "Increase",
          "Decrease",
          "Other Fi",
          "Net Cash",
          "Cash fro",
          "Effect o",
          "Net Chan",
          "Free Cas",
          "Consensu",
          "% Surpri",
          "Free Cas",
          "Free Cas",
          "Cash Pai",
          "Cash Pai",
          "Free Cas",
          "Operatin",
          "Free Cas",
          "Dividend",
          "Dividend",
          "Beginnin",
          "Net Inco",
          "Other Co",
          "Dividend",
          "Net Shar",
          "Other_29",
          "Ending E",
          "Beginnin",
          "Shares R",
          "Avg. Pri",
          "Shares I",
          "Ending S",
          "Share Re",
          "Net Shar",
          "EBITDAR_",
          "EBITDAR ",
          "EBITDA M",
          "EBITDA /",
          "EBITDA -",
          "CAPEX / ",
          "CAPEX / ",
          "FCF / DE",
          "Gross Le",
          "Net Leve",
          "Total Li",
          "Cash + A",
          "Cash % o"
         ],
         "y": [
          54174.998528,
          61716.75,
          2.461646120218579,
          18980.82178217822,
          0,
          5797.998591999999,
          0.9975663498536521,
          67,
          116.268,
          30,
          88.844,
          40.203,
          193,
          5224.999936,
          13.744591866166715,
          1436,
          1.972,
          0.086439,
          60,
          379,
          1017,
          1568,
          6106.999808,
          6162.3330000000005,
          260.79821079691516,
          1203.000064,
          0.289,
          3071.000064,
          2559.000064,
          2559.000064,
          0,
          668.289024,
          3236.549888,
          3110.5,
          58.77668845315904,
          0,
          94.869,
          3236.549888,
          3236.549888,
          7794.451968,
          4906.999808,
          32.21898078918457,
          7.42,
          448.79798793792725,
          31.9720196723938,
          41.09000015258789,
          41.09000015258789,
          1948,
          1948,
          313.40095999999994,
          16,
          466,
          42,
          466,
          42,
          243.879008,
          1411.000064,
          2424.999936,
          5224.999936,
          17593.46176,
          7295.000064,
          8091.8330000000005,
          5.116290243476042,
          25248.154112,
          3071.000064,
          189961.99424,
          9840.09984,
          18492.769024,
          1406.041984,
          18.65,
          1.2942965608954111,
          0.061000000000000006,
          3.8822131471443506,
          2.893713285277724,
          0.42219999999999996,
          91.77832257430073,
          280.4063720703125,
          188.65381240844727,
          434.21931485625754,
          862.56,
          10267.000064,
          7534.000128,
          3984.999936,
          15575.000064,
          6497.999872,
          501,
          7944,
          302.363008,
          6973.000192,
          1012,
          36.708,
          11219.000256,
          474.827008,
          5048,
          10764.000256,
          963,
          1010,
          896,
          8938.999808,
          37065.998336,
          85559.001088,
          151252.992,
          0,
          2929.999872,
          2929.999872,
          763,
          300.492,
          9155.00032,
          9155.00032,
          1796,
          36723.999808,
          3256.999936,
          2108.450048,
          765,
          7789.25824,
          34019.999744,
          11237.000192,
          125814.996992,
          162880.995328,
          27515.00032,
          19637.000192,
          6268,
          5445.000192,
          6000,
          3904.999936,
          7001.999872,
          4196.999936,
          89,
          7001.999872,
          6249.999872,
          470.264,
          3214.000128,
          935,
          1894,
          5601.999872,
          36430.000128,
          27376.001024,
          26496.999424,
          966,
          38049.999936,
          988,
          4068,
          27,
          116,
          247.536992,
          602,
          18709.000192,
          2380,
          2454.000128,
          15934.999552,
          60145.999872,
          95837.999104,
          3064.999936,
          47096.999936,
          9388.903424,
          47078.998016,
          88.52,
          0,
          51285.999616,
          11856,
          5217.217024,
          70578.001856,
          162880.999744,
          0.0048639999877195805,
          0,
          32,
          0,
          0,
          0,
          135,
          10267.000064,
          1050.014976,
          29455.001088,
          24525.000704,
          95403.00064,
          8000,
          7849.999872,
          6012.999936,
          0,
          1044.673024,
          712,
          563.075968,
          554.307968,
          530.003008,
          1235.000064,
          1068.774016,
          2166.644992,
          1851.737984,
          4639.52,
          3678.6942665974793,
          451.524,
          220.72165599584875,
          337.1086402443538,
          5224.999936,
          7295.000064,
          396.0989731749646,
          29455.001088,
          95403.00064,
          2124.944,
          862.56,
          365,
          3401.999872,
          2500,
          7930.000064,
          365.28,
          3172.999936,
          7935.000064,
          1196,
          1368,
          2761.999872,
          2412.999936,
          996,
          4906.999808,
          6336,
          9687.00032,
          10707.00032,
          10707.00032,
          0,
          0,
          405,
          602.092992,
          0,
          3428.999936,
          3593.999872,
          655,
          213.847008,
          2507.000064,
          4637.000192,
          7197.000192,
          0,
          6360,
          4465.999872,
          4890.500096,
          146.9,
          2342.000128,
          2342.000128,
          0,
          2956.999936,
          2939.000064,
          5072.999936,
          227,
          4424.999936,
          3768,
          35295,
          152.73000000000002,
          3875.6580844302603,
          8198.000384,
          4368,
          962,
          9733.000192,
          187.7649276107256,
          13.604073709040224,
          16,
          1.3333333333333333,
          70578.001856,
          3236.549888,
          3163.719744,
          0,
          2342.000128,
          10273.999872,
          70578.001856,
          2124.944,
          155.515525,
          6552447.552447552,
          2124.944,
          2124.944,
          0,
          2124.944,
          7295.000064,
          7864.846336,
          7.235506201326795,
          726.21875,
          4141.295648795649,
          28.42124129862533,
          98.86248242317048,
          49.113,
          972.2857325714285,
          581.9999817142857,
          6.00370374882735,
          0.9713073743291762,
          6.678836930268796
         ]
        }
       ],
       "layout": {
        "barmode": "stack",
        "template": {
         "data": {
          "bar": [
           {
            "error_x": {
             "color": "#2a3f5f"
            },
            "error_y": {
             "color": "#2a3f5f"
            },
            "marker": {
             "line": {
              "color": "#E5ECF6",
              "width": 0.5
             },
             "pattern": {
              "fillmode": "overlay",
              "size": 10,
              "solidity": 0.2
             }
            },
            "type": "bar"
           }
          ],
          "barpolar": [
           {
            "marker": {
             "line": {
              "color": "#E5ECF6",
              "width": 0.5
             },
             "pattern": {
              "fillmode": "overlay",
              "size": 10,
              "solidity": 0.2
             }
            },
            "type": "barpolar"
           }
          ],
          "carpet": [
           {
            "aaxis": {
             "endlinecolor": "#2a3f5f",
             "gridcolor": "white",
             "linecolor": "white",
             "minorgridcolor": "white",
             "startlinecolor": "#2a3f5f"
            },
            "baxis": {
             "endlinecolor": "#2a3f5f",
             "gridcolor": "white",
             "linecolor": "white",
             "minorgridcolor": "white",
             "startlinecolor": "#2a3f5f"
            },
            "type": "carpet"
           }
          ],
          "choropleth": [
           {
            "colorbar": {
             "outlinewidth": 0,
             "ticks": ""
            },
            "type": "choropleth"
           }
          ],
          "contour": [
           {
            "colorbar": {
             "outlinewidth": 0,
             "ticks": ""
            },
            "colorscale": [
             [
              0,
              "#0d0887"
             ],
             [
              0.1111111111111111,
              "#46039f"
             ],
             [
              0.2222222222222222,
              "#7201a8"
             ],
             [
              0.3333333333333333,
              "#9c179e"
             ],
             [
              0.4444444444444444,
              "#bd3786"
             ],
             [
              0.5555555555555556,
              "#d8576b"
             ],
             [
              0.6666666666666666,
              "#ed7953"
             ],
             [
              0.7777777777777778,
              "#fb9f3a"
             ],
             [
              0.8888888888888888,
              "#fdca26"
             ],
             [
              1,
              "#f0f921"
             ]
            ],
            "type": "contour"
           }
          ],
          "contourcarpet": [
           {
            "colorbar": {
             "outlinewidth": 0,
             "ticks": ""
            },
            "type": "contourcarpet"
           }
          ],
          "heatmap": [
           {
            "colorbar": {
             "outlinewidth": 0,
             "ticks": ""
            },
            "colorscale": [
             [
              0,
              "#0d0887"
             ],
             [
              0.1111111111111111,
              "#46039f"
             ],
             [
              0.2222222222222222,
              "#7201a8"
             ],
             [
              0.3333333333333333,
              "#9c179e"
             ],
             [
              0.4444444444444444,
              "#bd3786"
             ],
             [
              0.5555555555555556,
              "#d8576b"
             ],
             [
              0.6666666666666666,
              "#ed7953"
             ],
             [
              0.7777777777777778,
              "#fb9f3a"
             ],
             [
              0.8888888888888888,
              "#fdca26"
             ],
             [
              1,
              "#f0f921"
             ]
            ],
            "type": "heatmap"
           }
          ],
          "heatmapgl": [
           {
            "colorbar": {
             "outlinewidth": 0,
             "ticks": ""
            },
            "colorscale": [
             [
              0,
              "#0d0887"
             ],
             [
              0.1111111111111111,
              "#46039f"
             ],
             [
              0.2222222222222222,
              "#7201a8"
             ],
             [
              0.3333333333333333,
              "#9c179e"
             ],
             [
              0.4444444444444444,
              "#bd3786"
             ],
             [
              0.5555555555555556,
              "#d8576b"
             ],
             [
              0.6666666666666666,
              "#ed7953"
             ],
             [
              0.7777777777777778,
              "#fb9f3a"
             ],
             [
              0.8888888888888888,
              "#fdca26"
             ],
             [
              1,
              "#f0f921"
             ]
            ],
            "type": "heatmapgl"
           }
          ],
          "histogram": [
           {
            "marker": {
             "pattern": {
              "fillmode": "overlay",
              "size": 10,
              "solidity": 0.2
             }
            },
            "type": "histogram"
           }
          ],
          "histogram2d": [
           {
            "colorbar": {
             "outlinewidth": 0,
             "ticks": ""
            },
            "colorscale": [
             [
              0,
              "#0d0887"
             ],
             [
              0.1111111111111111,
              "#46039f"
             ],
             [
              0.2222222222222222,
              "#7201a8"
             ],
             [
              0.3333333333333333,
              "#9c179e"
             ],
             [
              0.4444444444444444,
              "#bd3786"
             ],
             [
              0.5555555555555556,
              "#d8576b"
             ],
             [
              0.6666666666666666,
              "#ed7953"
             ],
             [
              0.7777777777777778,
              "#fb9f3a"
             ],
             [
              0.8888888888888888,
              "#fdca26"
             ],
             [
              1,
              "#f0f921"
             ]
            ],
            "type": "histogram2d"
           }
          ],
          "histogram2dcontour": [
           {
            "colorbar": {
             "outlinewidth": 0,
             "ticks": ""
            },
            "colorscale": [
             [
              0,
              "#0d0887"
             ],
             [
              0.1111111111111111,
              "#46039f"
             ],
             [
              0.2222222222222222,
              "#7201a8"
             ],
             [
              0.3333333333333333,
              "#9c179e"
             ],
             [
              0.4444444444444444,
              "#bd3786"
             ],
             [
              0.5555555555555556,
              "#d8576b"
             ],
             [
              0.6666666666666666,
              "#ed7953"
             ],
             [
              0.7777777777777778,
              "#fb9f3a"
             ],
             [
              0.8888888888888888,
              "#fdca26"
             ],
             [
              1,
              "#f0f921"
             ]
            ],
            "type": "histogram2dcontour"
           }
          ],
          "mesh3d": [
           {
            "colorbar": {
             "outlinewidth": 0,
             "ticks": ""
            },
            "type": "mesh3d"
           }
          ],
          "parcoords": [
           {
            "line": {
             "colorbar": {
              "outlinewidth": 0,
              "ticks": ""
             }
            },
            "type": "parcoords"
           }
          ],
          "pie": [
           {
            "automargin": true,
            "type": "pie"
           }
          ],
          "scatter": [
           {
            "fillpattern": {
             "fillmode": "overlay",
             "size": 10,
             "solidity": 0.2
            },
            "type": "scatter"
           }
          ],
          "scatter3d": [
           {
            "line": {
             "colorbar": {
              "outlinewidth": 0,
              "ticks": ""
             }
            },
            "marker": {
             "colorbar": {
              "outlinewidth": 0,
              "ticks": ""
             }
            },
            "type": "scatter3d"
           }
          ],
          "scattercarpet": [
           {
            "marker": {
             "colorbar": {
              "outlinewidth": 0,
              "ticks": ""
             }
            },
            "type": "scattercarpet"
           }
          ],
          "scattergeo": [
           {
            "marker": {
             "colorbar": {
              "outlinewidth": 0,
              "ticks": ""
             }
            },
            "type": "scattergeo"
           }
          ],
          "scattergl": [
           {
            "marker": {
             "colorbar": {
              "outlinewidth": 0,
              "ticks": ""
             }
            },
            "type": "scattergl"
           }
          ],
          "scattermapbox": [
           {
            "marker": {
             "colorbar": {
              "outlinewidth": 0,
              "ticks": ""
             }
            },
            "type": "scattermapbox"
           }
          ],
          "scatterpolar": [
           {
            "marker": {
             "colorbar": {
              "outlinewidth": 0,
              "ticks": ""
             }
            },
            "type": "scatterpolar"
           }
          ],
          "scatterpolargl": [
           {
            "marker": {
             "colorbar": {
              "outlinewidth": 0,
              "ticks": ""
             }
            },
            "type": "scatterpolargl"
           }
          ],
          "scatterternary": [
           {
            "marker": {
             "colorbar": {
              "outlinewidth": 0,
              "ticks": ""
             }
            },
            "type": "scatterternary"
           }
          ],
          "surface": [
           {
            "colorbar": {
             "outlinewidth": 0,
             "ticks": ""
            },
            "colorscale": [
             [
              0,
              "#0d0887"
             ],
             [
              0.1111111111111111,
              "#46039f"
             ],
             [
              0.2222222222222222,
              "#7201a8"
             ],
             [
              0.3333333333333333,
              "#9c179e"
             ],
             [
              0.4444444444444444,
              "#bd3786"
             ],
             [
              0.5555555555555556,
              "#d8576b"
             ],
             [
              0.6666666666666666,
              "#ed7953"
             ],
             [
              0.7777777777777778,
              "#fb9f3a"
             ],
             [
              0.8888888888888888,
              "#fdca26"
             ],
             [
              1,
              "#f0f921"
             ]
            ],
            "type": "surface"
           }
          ],
          "table": [
           {
            "cells": {
             "fill": {
              "color": "#EBF0F8"
             },
             "line": {
              "color": "white"
             }
            },
            "header": {
             "fill": {
              "color": "#C8D4E3"
             },
             "line": {
              "color": "white"
             }
            },
            "type": "table"
           }
          ]
         },
         "layout": {
          "annotationdefaults": {
           "arrowcolor": "#2a3f5f",
           "arrowhead": 0,
           "arrowwidth": 1
          },
          "autotypenumbers": "strict",
          "coloraxis": {
           "colorbar": {
            "outlinewidth": 0,
            "ticks": ""
           }
          },
          "colorscale": {
           "diverging": [
            [
             0,
             "#8e0152"
            ],
            [
             0.1,
             "#c51b7d"
            ],
            [
             0.2,
             "#de77ae"
            ],
            [
             0.3,
             "#f1b6da"
            ],
            [
             0.4,
             "#fde0ef"
            ],
            [
             0.5,
             "#f7f7f7"
            ],
            [
             0.6,
             "#e6f5d0"
            ],
            [
             0.7,
             "#b8e186"
            ],
            [
             0.8,
             "#7fbc41"
            ],
            [
             0.9,
             "#4d9221"
            ],
            [
             1,
             "#276419"
            ]
           ],
           "sequential": [
            [
             0,
             "#0d0887"
            ],
            [
             0.1111111111111111,
             "#46039f"
            ],
            [
             0.2222222222222222,
             "#7201a8"
            ],
            [
             0.3333333333333333,
             "#9c179e"
            ],
            [
             0.4444444444444444,
             "#bd3786"
            ],
            [
             0.5555555555555556,
             "#d8576b"
            ],
            [
             0.6666666666666666,
             "#ed7953"
            ],
            [
             0.7777777777777778,
             "#fb9f3a"
            ],
            [
             0.8888888888888888,
             "#fdca26"
            ],
            [
             1,
             "#f0f921"
            ]
           ],
           "sequentialminus": [
            [
             0,
             "#0d0887"
            ],
            [
             0.1111111111111111,
             "#46039f"
            ],
            [
             0.2222222222222222,
             "#7201a8"
            ],
            [
             0.3333333333333333,
             "#9c179e"
            ],
            [
             0.4444444444444444,
             "#bd3786"
            ],
            [
             0.5555555555555556,
             "#d8576b"
            ],
            [
             0.6666666666666666,
             "#ed7953"
            ],
            [
             0.7777777777777778,
             "#fb9f3a"
            ],
            [
             0.8888888888888888,
             "#fdca26"
            ],
            [
             1,
             "#f0f921"
            ]
           ]
          },
          "colorway": [
           "#636efa",
           "#EF553B",
           "#00cc96",
           "#ab63fa",
           "#FFA15A",
           "#19d3f3",
           "#FF6692",
           "#B6E880",
           "#FF97FF",
           "#FECB52"
          ],
          "font": {
           "color": "#2a3f5f"
          },
          "geo": {
           "bgcolor": "white",
           "lakecolor": "white",
           "landcolor": "#E5ECF6",
           "showlakes": true,
           "showland": true,
           "subunitcolor": "white"
          },
          "hoverlabel": {
           "align": "left"
          },
          "hovermode": "closest",
          "mapbox": {
           "style": "light"
          },
          "paper_bgcolor": "white",
          "plot_bgcolor": "#E5ECF6",
          "polar": {
           "angularaxis": {
            "gridcolor": "white",
            "linecolor": "white",
            "ticks": ""
           },
           "bgcolor": "#E5ECF6",
           "radialaxis": {
            "gridcolor": "white",
            "linecolor": "white",
            "ticks": ""
           }
          },
          "scene": {
           "xaxis": {
            "backgroundcolor": "#E5ECF6",
            "gridcolor": "white",
            "gridwidth": 2,
            "linecolor": "white",
            "showbackground": true,
            "ticks": "",
            "zerolinecolor": "white"
           },
           "yaxis": {
            "backgroundcolor": "#E5ECF6",
            "gridcolor": "white",
            "gridwidth": 2,
            "linecolor": "white",
            "showbackground": true,
            "ticks": "",
            "zerolinecolor": "white"
           },
           "zaxis": {
            "backgroundcolor": "#E5ECF6",
            "gridcolor": "white",
            "gridwidth": 2,
            "linecolor": "white",
            "showbackground": true,
            "ticks": "",
            "zerolinecolor": "white"
           }
          },
          "shapedefaults": {
           "line": {
            "color": "#2a3f5f"
           }
          },
          "ternary": {
           "aaxis": {
            "gridcolor": "white",
            "linecolor": "white",
            "ticks": ""
           },
           "baxis": {
            "gridcolor": "white",
            "linecolor": "white",
            "ticks": ""
           },
           "bgcolor": "#E5ECF6",
           "caxis": {
            "gridcolor": "white",
            "linecolor": "white",
            "ticks": ""
           }
          },
          "title": {
           "x": 0.05
          },
          "xaxis": {
           "automargin": true,
           "gridcolor": "white",
           "linecolor": "white",
           "ticks": "",
           "title": {
            "standoff": 15
           },
           "zerolinecolor": "white",
           "zerolinewidth": 2
          },
          "yaxis": {
           "automargin": true,
           "gridcolor": "white",
           "linecolor": "white",
           "ticks": "",
           "title": {
            "standoff": 15
           },
           "zerolinecolor": "white",
           "zerolinewidth": 2
          }
         }
        },
        "xaxis": {
         "categoryorder": "total descending",
         "title": {
          "text": "feature"
         }
        },
        "yaxis": {
         "title": {
          "text": "max value"
         }
        }
       }
      }
     },
     "metadata": {},
     "output_type": "display_data"
    }
   ],
   "source": [
    "min = df.drop(['Company_name_329'], axis=1).min()\n",
    "max = df.drop(['Company_name_329'], axis=1).max()\n",
    "min.index = [i[:8] for i in min.index]\n",
    "max.index = [i[:8] for i in max.index]\n",
    "\n",
    "bar_plot(min,  'min value', 'feature')\n",
    "bar_plot(max,  'max value', 'feature')\n"
   ]
  },
  {
   "cell_type": "code",
   "execution_count": 70,
   "metadata": {},
   "outputs": [
    {
     "name": "stderr",
     "output_type": "stream",
     "text": [
      "C:\\Users\\igorl\\AppData\\Local\\Temp\\ipykernel_18300\\3710489783.py:1: FutureWarning:\n",
      "\n",
      "The default value of numeric_only in DataFrame.mean is deprecated. In a future version, it will default to False. In addition, specifying 'numeric_only=None' is deprecated. Select only valid columns or specify the value of numeric_only to silence this warning.\n",
      "\n"
     ]
    },
    {
     "data": {
      "application/vnd.plotly.v1+json": {
       "config": {
        "plotlyServerURL": "https://plot.ly"
       },
       "data": [
        {
         "type": "bar",
         "x": [
          "Revenue_",
          "Consensu",
          "% Surpri",
          "Revenue ",
          "Cost of ",
          "Gross Pr",
          "Gross ma",
          "Other Op",
          "Operatin",
          "Selling,",
          "Deprecia",
          "Prov. Fo",
          "Other Op",
          "Operatin",
          "Operatin",
          "Non-Oper",
          "Interest",
          "Interest",
          "Interest",
          "Foreign ",
          "Income (",
          "Other No",
          "Pretax I",
          "Consensu",
          "% Surpri",
          "Income T",
          "Income (",
          "Income (",
          "Net Extr",
          "Disconti",
          "XO & Acc",
          "Minority",
          "Net Inco",
          "Consensu",
          "% Surpri",
          "Preferre",
          "Other Ad",
          "Net Inco",
          "Net Inco",
          "Net Abno",
          "Net Extr",
          "EPS_45",
          "Consensu",
          "% Surpri",
          "Diluted ",
          "LTM Basi",
          "LTM Dilu",
          "Basic We",
          "Diluted ",
          "Diluted ",
          "Dividend",
          "Deprecia",
          "Amortiza",
          "Deprecia",
          "Amortiza",
          "Dep from",
          "Amort fr",
          "nan_68",
          "EBIT_70",
          "EBIT (LT",
          "EBITDA_7",
          "Consensu",
          "% Surpri",
          "EBITDA (",
          "NPAT_76",
          "Revenue ",
          "Net Inco",
          "Pretax I",
          "G-L on S",
          "ARD Loss",
          "ROA_84",
          "Consensu",
          "% Surpri",
          "ROE_87",
          "Consensu",
          "% Surpri",
          "Book Val",
          "Cash Flo",
          "Sales Pe",
          "Price_93",
          "Cash, Ca",
          "Cash & E",
          "ST Inves",
          "Accounts",
          "Accounts",
          "Notes Re",
          "Inventor",
          "Raw Mate",
          "Finished",
          "Other In",
          "Unbilled",
          "Other ST",
          "Prepaid ",
          "Derivati",
          "Assets H",
          "ST Defer",
          "Income T",
          "Disconti",
          "Misc ST ",
          "Total Cu",
          "Property",
          "PP&E Gro",
          "Accumula",
          "LT Inves",
          "LT Inves",
          "LT Marke",
          "LT Recei",
          "Goodwill",
          "Goodwill",
          "Other In",
          "Other LT",
          "LT Defer",
          "LT Deriv",
          "Prepaid ",
          "Disconti",
          "Investme",
          "Misc LT ",
          "Total Lo",
          "Total As",
          "Payables",
          "Accounts",
          "Accruals",
          "Accrued ",
          "Interest",
          "Other Ac",
          "ST Debt_",
          "ST Borro",
          "ST Capit",
          "Current ",
          "Other ST",
          "ST Defer",
          "ST Deriv",
          "ST Defer",
          "Disconti",
          "Misc ST ",
          "Total Cu",
          "LT Debt_",
          "LT Borro",
          "LT Capit",
          "Other LT",
          "Accrued ",
          "Pension ",
          "Pensions",
          "Other Po",
          "Deferred",
          "LT Defer",
          "Deferred",
          "Derivati",
          "Disconti",
          "Misc LT ",
          "Total No",
          "Total Li",
          "Preferre",
          "Share Ca",
          "Common S",
          "Addition",
          "Other Sh",
          "Treasury",
          "Retained",
          "Other Eq",
          "Minority",
          "Total Eq",
          "Total Li",
          "A = L + ",
          "Current ",
          "LT Asset",
          "Current ",
          "LT Liabi",
          "Total Li",
          "Net Inte",
          "Cash and",
          "Restrict",
          "Total De",
          "Net Debt",
          "Total Ca",
          "Line of ",
          "Line of ",
          "Line of ",
          "Amt Reco",
          "Rental E",
          "Rental E",
          "Rental E",
          "Rental E",
          "Rental E",
          "Rental E",
          "Rental E",
          "Rental E",
          "Rental E",
          "Total Op",
          "PV of Op",
          "Rental E",
          "Interest",
          "D&A Port",
          "Lease Ad",
          "Lease Ad",
          "Lease Ad",
          "Total De",
          "Lease Ad",
          "Shares O",
          "Share pr",
          "Days in ",
          "Net Inco",
          "Dep & Am",
          "NonCash ",
          "StockBas",
          "Deferred",
          "Other No",
          "Change i",
          "(Inc) De",
          "(Inc) De",
          "Inc (Dec",
          "Inc (Dec",
          "Net Cash",
          "Cash fro",
          "Change i",
          "Disp in ",
          "Disp of ",
          "Acq of F",
          "Capex_25",
          "Net Chan",
          "Dec in L",
          "Inc in L",
          "Net Cash",
          "Cash fro",
          "Cash for",
          "Cash for",
          "Other In",
          "Net Cash",
          "Cash fro",
          "Dividend",
          "Cash Fro",
          "Cash Fro",
          "Cash Fro",
          "Repaymen",
          "Cash (Re",
          "Increase",
          "Decrease",
          "Other Fi",
          "Net Cash",
          "Cash fro",
          "Effect o",
          "Net Chan",
          "Free Cas",
          "Consensu",
          "% Surpri",
          "Free Cas",
          "Free Cas",
          "Cash Pai",
          "Cash Pai",
          "Free Cas",
          "Operatin",
          "Free Cas",
          "Dividend",
          "Dividend",
          "Beginnin",
          "Net Inco",
          "Other Co",
          "Dividend",
          "Net Shar",
          "Other_29",
          "Ending E",
          "Beginnin",
          "Shares R",
          "Avg. Pri",
          "Shares I",
          "Ending S",
          "Share Re",
          "Net Shar",
          "EBITDAR_",
          "EBITDAR ",
          "EBITDA M",
          "EBITDA /",
          "EBITDA -",
          "CAPEX / ",
          "CAPEX / ",
          "FCF / DE",
          "Gross Le",
          "Net Leve",
          "Total Li",
          "Cash + A",
          "Cash % o"
         ],
         "y": [
          776.7134953769455,
          791.9255063229572,
          0.008863674774109275,
          18.02146838132859,
          -514.5000167816147,
          260.8755097714008,
          0.29583452919122094,
          0.24637645914396888,
          -133.6779552948689,
          -84.01562268385214,
          -18.5352976692607,
          -0.007685311284046689,
          -32.65640345377061,
          128.73468021187227,
          0.10614388785341873,
          -22.316140955982487,
          -17.888249840466926,
          -29.04420710554475,
          0.6237567495136187,
          -0.6220817120622568,
          6.447781438229571,
          0.6375317217290863,
          106.44577868640566,
          101.41525583657587,
          0.06578936669465218,
          -48.35727453290337,
          0.0005068093385214007,
          -40.37339102869649,
          7.310313584143969,
          7.310676424610895,
          -0.00036284046692607004,
          -2.0112791828793775,
          56.01998087008298,
          57.06269892996109,
          -1.1036390304986503,
          -1.7473137159533074,
          -0.43930675924124507,
          53.90670430594145,
          53.90670430594145,
          98.57669508679865,
          -7.310313584143969,
          0.2824828956978549,
          0.26899513618677046,
          0.4069558959344149,
          0.27531707902532193,
          1.1912981347082918,
          1.1630931764466155,
          180.06466031271887,
          182.52972718460603,
          2.465066871887159,
          0.07604336753206288,
          9.019541149805448,
          0.20599173151750977,
          9.019541149805448,
          0.20599173151750977,
          18.111110783082022,
          72.35166193058076,
          174.04404720184826,
          128.73468021187227,
          556.4281510701985,
          322.54268551361866,
          301.57576896887156,
          -0.02220290870286255,
          1328.488043217291,
          -60.109637791847824,
          3249.579504151265,
          257.77448992312134,
          469.64155504462553,
          1.686324113326848,
          0.01851141304347826,
          0.03396314855182102,
          0.0005299124513618678,
          0.011946650889336066,
          0.05908786393074657,
          0.00917170233463035,
          0.20813771464850106,
          18.74715740791253,
          1.8338415917807318,
          4.209852467307137,
          37.28525155291829,
          413.2815267699416,
          376.4585346405642,
          36.82299212937743,
          422.52877862694544,
          302.1367831502918,
          2.510186104085603,
          92.13920670476655,
          3.314256809338522,
          37.868711607003895,
          21.762557894941633,
          0.12118871595330738,
          279.1883512650778,
          7.955427273832686,
          87.75096432587549,
          29.6544470155642,
          9.886701574902723,
          14.566403428015564,
          2.7295719883268483,
          126.54271278064202,
          1205.6065835374511,
          6973.450207792316,
          14579.882272400777,
          -7780.3709035335605,
          34.58748117071985,
          34.138417186770425,
          0.8827821011673151,
          0.5473130111867706,
          225.31072907003892,
          214.05791424902725,
          10.874317603112841,
          660.3761615311284,
          54.188029880836574,
          30.043904239785995,
          1.2397859922178989,
          10.179852743190661,
          376.2684133078794,
          188.4561753672179,
          7892.059800720817,
          9098.010112210117,
          702.075391589008,
          387.72097861429967,
          288.0679364334975,
          69.02848842169261,
          19.641317053015563,
          225.6846075,
          127.05115516634241,
          24.690835242217897,
          1.4382721454280156,
          96.10513973540857,
          204.36099145428014,
          5.895134137645914,
          40.904220662451365,
          7.303099341926069,
          2.7587597237354085,
          147.4997776819066,
          1031.0920839722762,
          2415.6192174343387,
          2375.700564314688,
          20.56248573784047,
          1473.3565515277237,
          4.9769221789883265,
          89.61797841099222,
          0.07292461089494164,
          0.3013501945525292,
          2.7633351245136186,
          0.8990637159533075,
          762.6605280481518,
          18.580632477140078,
          4.053081704280156,
          589.8050098677043,
          3888.9192494581716,
          4920.011333430448,
          83.7231338122568,
          3039.146244210117,
          182.80471892028285,
          2832.6812380783076,
          0.8565972762645915,
          -847.6384247772373,
          1736.3908810428015,
          67.26478481177043,
          179.25621496692605,
          4178.09164745428,
          9098.102980884729,
          -0.10380626195650891,
          -1.371195652173913,
          -1.8603260869565217,
          0,
          -0.05380434782608696,
          0,
          1.275753560691877,
          414.1643088711089,
          2.9129537743190665,
          2542.670372600681,
          2127.5680088458175,
          6720.762020054961,
          1397.5903203424125,
          1007.5268745136187,
          406.70668793913046,
          0,
          16.112148457684825,
          11.552574550097276,
          8.456279375972763,
          6.64802401896887,
          5.069107306420234,
          24.16939531322957,
          14.1710926848249,
          38.34048806031128,
          22.248711994163425,
          75.46734301799609,
          62.108822553188666,
          5.724677840466926,
          3.841927236540577,
          3.1347196920308513,
          118.35454158948089,
          328.06384777626454,
          35.338744199594764,
          2679.832432681681,
          6803.183827621355,
          182.84329365868192,
          37.28525155291829,
          91.64640077821012,
          -34.61665843968871,
          192.0515783044747,
          128.10094530593386,
          5.255376933365758,
          -13.965099300583658,
          136.81066767315173,
          -5.5077240646886265,
          3.3575952451361872,
          -0.6353519027237355,
          -1.065400641536965,
          -7.517327665369562,
          3.8181905097276267,
          284.7974588219845,
          -277.101099436284,
          88.57500943774318,
          88.44393547373541,
          -365.7301939907587,
          -363.99766359776265,
          -0.9226668365758754,
          3.0294484319066144,
          -3.9412947431906615,
          -16.3328193463035,
          4.2854022101167315,
          -20.448340241245138,
          -0.1698813151750973,
          -0.7450423370622571,
          7.086400953307393,
          -288.82026105496107,
          -28.639905985894945,
          20.25268746838521,
          0.6706546196498056,
          187.5796546381323,
          -166.69497171595333,
          3.9624853351167326,
          34.00029631906615,
          -30.03714512791829,
          4.198849567607003,
          0.457644,
          -4.338107169747084,
          -0.39290564202334627,
          -5.836246202334631,
          -79.23793684338521,
          -1.816146400778215,
          -0.8334400609002282,
          -44.23847921046359,
          28.01185511381323,
          33.807866656128404,
          21.342977738326848,
          -328.4704377866002,
          2.053383689499849,
          -1.1265189215205473,
          0.31625202687948084,
          0.014259445876917434,
          4236.000853360272,
          53.954824777514915,
          -90.74501542437535,
          -28.639905985894945,
          3.9624853351167326,
          7.668359708130516,
          4178.09164745428,
          182.5409575891188,
          0.6989158659246779,
          5498.220880137838,
          -0.20826596566991284,
          182.84329365868192,
          -31.358609018914294,
          36.556805320019585,
          328.2673633540856,
          368.34010823735406,
          0.4500581530759526,
          -33.78953759931485,
          -38.183036083585854,
          0.7729227270466622,
          1.1970378939460384,
          -0.0674494142906391,
          3.225556220307718,
          2.967090229395177,
          0.549183866095157,
          0.09021811594545268,
          0.16248245850016638
         ]
        }
       ],
       "layout": {
        "barmode": "stack",
        "template": {
         "data": {
          "bar": [
           {
            "error_x": {
             "color": "#2a3f5f"
            },
            "error_y": {
             "color": "#2a3f5f"
            },
            "marker": {
             "line": {
              "color": "#E5ECF6",
              "width": 0.5
             },
             "pattern": {
              "fillmode": "overlay",
              "size": 10,
              "solidity": 0.2
             }
            },
            "type": "bar"
           }
          ],
          "barpolar": [
           {
            "marker": {
             "line": {
              "color": "#E5ECF6",
              "width": 0.5
             },
             "pattern": {
              "fillmode": "overlay",
              "size": 10,
              "solidity": 0.2
             }
            },
            "type": "barpolar"
           }
          ],
          "carpet": [
           {
            "aaxis": {
             "endlinecolor": "#2a3f5f",
             "gridcolor": "white",
             "linecolor": "white",
             "minorgridcolor": "white",
             "startlinecolor": "#2a3f5f"
            },
            "baxis": {
             "endlinecolor": "#2a3f5f",
             "gridcolor": "white",
             "linecolor": "white",
             "minorgridcolor": "white",
             "startlinecolor": "#2a3f5f"
            },
            "type": "carpet"
           }
          ],
          "choropleth": [
           {
            "colorbar": {
             "outlinewidth": 0,
             "ticks": ""
            },
            "type": "choropleth"
           }
          ],
          "contour": [
           {
            "colorbar": {
             "outlinewidth": 0,
             "ticks": ""
            },
            "colorscale": [
             [
              0,
              "#0d0887"
             ],
             [
              0.1111111111111111,
              "#46039f"
             ],
             [
              0.2222222222222222,
              "#7201a8"
             ],
             [
              0.3333333333333333,
              "#9c179e"
             ],
             [
              0.4444444444444444,
              "#bd3786"
             ],
             [
              0.5555555555555556,
              "#d8576b"
             ],
             [
              0.6666666666666666,
              "#ed7953"
             ],
             [
              0.7777777777777778,
              "#fb9f3a"
             ],
             [
              0.8888888888888888,
              "#fdca26"
             ],
             [
              1,
              "#f0f921"
             ]
            ],
            "type": "contour"
           }
          ],
          "contourcarpet": [
           {
            "colorbar": {
             "outlinewidth": 0,
             "ticks": ""
            },
            "type": "contourcarpet"
           }
          ],
          "heatmap": [
           {
            "colorbar": {
             "outlinewidth": 0,
             "ticks": ""
            },
            "colorscale": [
             [
              0,
              "#0d0887"
             ],
             [
              0.1111111111111111,
              "#46039f"
             ],
             [
              0.2222222222222222,
              "#7201a8"
             ],
             [
              0.3333333333333333,
              "#9c179e"
             ],
             [
              0.4444444444444444,
              "#bd3786"
             ],
             [
              0.5555555555555556,
              "#d8576b"
             ],
             [
              0.6666666666666666,
              "#ed7953"
             ],
             [
              0.7777777777777778,
              "#fb9f3a"
             ],
             [
              0.8888888888888888,
              "#fdca26"
             ],
             [
              1,
              "#f0f921"
             ]
            ],
            "type": "heatmap"
           }
          ],
          "heatmapgl": [
           {
            "colorbar": {
             "outlinewidth": 0,
             "ticks": ""
            },
            "colorscale": [
             [
              0,
              "#0d0887"
             ],
             [
              0.1111111111111111,
              "#46039f"
             ],
             [
              0.2222222222222222,
              "#7201a8"
             ],
             [
              0.3333333333333333,
              "#9c179e"
             ],
             [
              0.4444444444444444,
              "#bd3786"
             ],
             [
              0.5555555555555556,
              "#d8576b"
             ],
             [
              0.6666666666666666,
              "#ed7953"
             ],
             [
              0.7777777777777778,
              "#fb9f3a"
             ],
             [
              0.8888888888888888,
              "#fdca26"
             ],
             [
              1,
              "#f0f921"
             ]
            ],
            "type": "heatmapgl"
           }
          ],
          "histogram": [
           {
            "marker": {
             "pattern": {
              "fillmode": "overlay",
              "size": 10,
              "solidity": 0.2
             }
            },
            "type": "histogram"
           }
          ],
          "histogram2d": [
           {
            "colorbar": {
             "outlinewidth": 0,
             "ticks": ""
            },
            "colorscale": [
             [
              0,
              "#0d0887"
             ],
             [
              0.1111111111111111,
              "#46039f"
             ],
             [
              0.2222222222222222,
              "#7201a8"
             ],
             [
              0.3333333333333333,
              "#9c179e"
             ],
             [
              0.4444444444444444,
              "#bd3786"
             ],
             [
              0.5555555555555556,
              "#d8576b"
             ],
             [
              0.6666666666666666,
              "#ed7953"
             ],
             [
              0.7777777777777778,
              "#fb9f3a"
             ],
             [
              0.8888888888888888,
              "#fdca26"
             ],
             [
              1,
              "#f0f921"
             ]
            ],
            "type": "histogram2d"
           }
          ],
          "histogram2dcontour": [
           {
            "colorbar": {
             "outlinewidth": 0,
             "ticks": ""
            },
            "colorscale": [
             [
              0,
              "#0d0887"
             ],
             [
              0.1111111111111111,
              "#46039f"
             ],
             [
              0.2222222222222222,
              "#7201a8"
             ],
             [
              0.3333333333333333,
              "#9c179e"
             ],
             [
              0.4444444444444444,
              "#bd3786"
             ],
             [
              0.5555555555555556,
              "#d8576b"
             ],
             [
              0.6666666666666666,
              "#ed7953"
             ],
             [
              0.7777777777777778,
              "#fb9f3a"
             ],
             [
              0.8888888888888888,
              "#fdca26"
             ],
             [
              1,
              "#f0f921"
             ]
            ],
            "type": "histogram2dcontour"
           }
          ],
          "mesh3d": [
           {
            "colorbar": {
             "outlinewidth": 0,
             "ticks": ""
            },
            "type": "mesh3d"
           }
          ],
          "parcoords": [
           {
            "line": {
             "colorbar": {
              "outlinewidth": 0,
              "ticks": ""
             }
            },
            "type": "parcoords"
           }
          ],
          "pie": [
           {
            "automargin": true,
            "type": "pie"
           }
          ],
          "scatter": [
           {
            "fillpattern": {
             "fillmode": "overlay",
             "size": 10,
             "solidity": 0.2
            },
            "type": "scatter"
           }
          ],
          "scatter3d": [
           {
            "line": {
             "colorbar": {
              "outlinewidth": 0,
              "ticks": ""
             }
            },
            "marker": {
             "colorbar": {
              "outlinewidth": 0,
              "ticks": ""
             }
            },
            "type": "scatter3d"
           }
          ],
          "scattercarpet": [
           {
            "marker": {
             "colorbar": {
              "outlinewidth": 0,
              "ticks": ""
             }
            },
            "type": "scattercarpet"
           }
          ],
          "scattergeo": [
           {
            "marker": {
             "colorbar": {
              "outlinewidth": 0,
              "ticks": ""
             }
            },
            "type": "scattergeo"
           }
          ],
          "scattergl": [
           {
            "marker": {
             "colorbar": {
              "outlinewidth": 0,
              "ticks": ""
             }
            },
            "type": "scattergl"
           }
          ],
          "scattermapbox": [
           {
            "marker": {
             "colorbar": {
              "outlinewidth": 0,
              "ticks": ""
             }
            },
            "type": "scattermapbox"
           }
          ],
          "scatterpolar": [
           {
            "marker": {
             "colorbar": {
              "outlinewidth": 0,
              "ticks": ""
             }
            },
            "type": "scatterpolar"
           }
          ],
          "scatterpolargl": [
           {
            "marker": {
             "colorbar": {
              "outlinewidth": 0,
              "ticks": ""
             }
            },
            "type": "scatterpolargl"
           }
          ],
          "scatterternary": [
           {
            "marker": {
             "colorbar": {
              "outlinewidth": 0,
              "ticks": ""
             }
            },
            "type": "scatterternary"
           }
          ],
          "surface": [
           {
            "colorbar": {
             "outlinewidth": 0,
             "ticks": ""
            },
            "colorscale": [
             [
              0,
              "#0d0887"
             ],
             [
              0.1111111111111111,
              "#46039f"
             ],
             [
              0.2222222222222222,
              "#7201a8"
             ],
             [
              0.3333333333333333,
              "#9c179e"
             ],
             [
              0.4444444444444444,
              "#bd3786"
             ],
             [
              0.5555555555555556,
              "#d8576b"
             ],
             [
              0.6666666666666666,
              "#ed7953"
             ],
             [
              0.7777777777777778,
              "#fb9f3a"
             ],
             [
              0.8888888888888888,
              "#fdca26"
             ],
             [
              1,
              "#f0f921"
             ]
            ],
            "type": "surface"
           }
          ],
          "table": [
           {
            "cells": {
             "fill": {
              "color": "#EBF0F8"
             },
             "line": {
              "color": "white"
             }
            },
            "header": {
             "fill": {
              "color": "#C8D4E3"
             },
             "line": {
              "color": "white"
             }
            },
            "type": "table"
           }
          ]
         },
         "layout": {
          "annotationdefaults": {
           "arrowcolor": "#2a3f5f",
           "arrowhead": 0,
           "arrowwidth": 1
          },
          "autotypenumbers": "strict",
          "coloraxis": {
           "colorbar": {
            "outlinewidth": 0,
            "ticks": ""
           }
          },
          "colorscale": {
           "diverging": [
            [
             0,
             "#8e0152"
            ],
            [
             0.1,
             "#c51b7d"
            ],
            [
             0.2,
             "#de77ae"
            ],
            [
             0.3,
             "#f1b6da"
            ],
            [
             0.4,
             "#fde0ef"
            ],
            [
             0.5,
             "#f7f7f7"
            ],
            [
             0.6,
             "#e6f5d0"
            ],
            [
             0.7,
             "#b8e186"
            ],
            [
             0.8,
             "#7fbc41"
            ],
            [
             0.9,
             "#4d9221"
            ],
            [
             1,
             "#276419"
            ]
           ],
           "sequential": [
            [
             0,
             "#0d0887"
            ],
            [
             0.1111111111111111,
             "#46039f"
            ],
            [
             0.2222222222222222,
             "#7201a8"
            ],
            [
             0.3333333333333333,
             "#9c179e"
            ],
            [
             0.4444444444444444,
             "#bd3786"
            ],
            [
             0.5555555555555556,
             "#d8576b"
            ],
            [
             0.6666666666666666,
             "#ed7953"
            ],
            [
             0.7777777777777778,
             "#fb9f3a"
            ],
            [
             0.8888888888888888,
             "#fdca26"
            ],
            [
             1,
             "#f0f921"
            ]
           ],
           "sequentialminus": [
            [
             0,
             "#0d0887"
            ],
            [
             0.1111111111111111,
             "#46039f"
            ],
            [
             0.2222222222222222,
             "#7201a8"
            ],
            [
             0.3333333333333333,
             "#9c179e"
            ],
            [
             0.4444444444444444,
             "#bd3786"
            ],
            [
             0.5555555555555556,
             "#d8576b"
            ],
            [
             0.6666666666666666,
             "#ed7953"
            ],
            [
             0.7777777777777778,
             "#fb9f3a"
            ],
            [
             0.8888888888888888,
             "#fdca26"
            ],
            [
             1,
             "#f0f921"
            ]
           ]
          },
          "colorway": [
           "#636efa",
           "#EF553B",
           "#00cc96",
           "#ab63fa",
           "#FFA15A",
           "#19d3f3",
           "#FF6692",
           "#B6E880",
           "#FF97FF",
           "#FECB52"
          ],
          "font": {
           "color": "#2a3f5f"
          },
          "geo": {
           "bgcolor": "white",
           "lakecolor": "white",
           "landcolor": "#E5ECF6",
           "showlakes": true,
           "showland": true,
           "subunitcolor": "white"
          },
          "hoverlabel": {
           "align": "left"
          },
          "hovermode": "closest",
          "mapbox": {
           "style": "light"
          },
          "paper_bgcolor": "white",
          "plot_bgcolor": "#E5ECF6",
          "polar": {
           "angularaxis": {
            "gridcolor": "white",
            "linecolor": "white",
            "ticks": ""
           },
           "bgcolor": "#E5ECF6",
           "radialaxis": {
            "gridcolor": "white",
            "linecolor": "white",
            "ticks": ""
           }
          },
          "scene": {
           "xaxis": {
            "backgroundcolor": "#E5ECF6",
            "gridcolor": "white",
            "gridwidth": 2,
            "linecolor": "white",
            "showbackground": true,
            "ticks": "",
            "zerolinecolor": "white"
           },
           "yaxis": {
            "backgroundcolor": "#E5ECF6",
            "gridcolor": "white",
            "gridwidth": 2,
            "linecolor": "white",
            "showbackground": true,
            "ticks": "",
            "zerolinecolor": "white"
           },
           "zaxis": {
            "backgroundcolor": "#E5ECF6",
            "gridcolor": "white",
            "gridwidth": 2,
            "linecolor": "white",
            "showbackground": true,
            "ticks": "",
            "zerolinecolor": "white"
           }
          },
          "shapedefaults": {
           "line": {
            "color": "#2a3f5f"
           }
          },
          "ternary": {
           "aaxis": {
            "gridcolor": "white",
            "linecolor": "white",
            "ticks": ""
           },
           "baxis": {
            "gridcolor": "white",
            "linecolor": "white",
            "ticks": ""
           },
           "bgcolor": "#E5ECF6",
           "caxis": {
            "gridcolor": "white",
            "linecolor": "white",
            "ticks": ""
           }
          },
          "title": {
           "x": 0.05
          },
          "xaxis": {
           "automargin": true,
           "gridcolor": "white",
           "linecolor": "white",
           "ticks": "",
           "title": {
            "standoff": 15
           },
           "zerolinecolor": "white",
           "zerolinewidth": 2
          },
          "yaxis": {
           "automargin": true,
           "gridcolor": "white",
           "linecolor": "white",
           "ticks": "",
           "title": {
            "standoff": 15
           },
           "zerolinecolor": "white",
           "zerolinewidth": 2
          }
         }
        },
        "xaxis": {
         "categoryorder": "total descending",
         "title": {
          "text": "feature"
         }
        },
        "yaxis": {
         "title": {
          "text": "mean"
         }
        }
       }
      }
     },
     "metadata": {},
     "output_type": "display_data"
    },
    {
     "data": {
      "application/vnd.plotly.v1+json": {
       "config": {
        "plotlyServerURL": "https://plot.ly"
       },
       "data": [
        {
         "type": "bar",
         "x": [
          "Revenue_",
          "Consensu",
          "% Surpri",
          "Revenue ",
          "Cost of ",
          "Gross Pr",
          "Gross ma",
          "Other Op",
          "Operatin",
          "Selling,",
          "Deprecia",
          "Prov. Fo",
          "Other Op",
          "Operatin",
          "Operatin",
          "Non-Oper",
          "Interest",
          "Interest",
          "Interest",
          "Foreign ",
          "Income (",
          "Other No",
          "Pretax I",
          "Consensu",
          "% Surpri",
          "Income T",
          "Income (",
          "Income (",
          "Net Extr",
          "Disconti",
          "XO & Acc",
          "Minority",
          "Net Inco",
          "Consensu",
          "% Surpri",
          "Preferre",
          "Other Ad",
          "Net Inco",
          "Net Inco",
          "Net Abno",
          "Net Extr",
          "EPS_45",
          "Consensu",
          "% Surpri",
          "Diluted ",
          "LTM Basi",
          "LTM Dilu",
          "Basic We",
          "Diluted ",
          "Diluted ",
          "Dividend",
          "Deprecia",
          "Amortiza",
          "Deprecia",
          "Amortiza",
          "Dep from",
          "Amort fr",
          "nan_68",
          "EBIT_70",
          "EBIT (LT",
          "EBITDA_7",
          "Consensu",
          "% Surpri",
          "EBITDA (",
          "NPAT_76",
          "Revenue ",
          "Net Inco",
          "Pretax I",
          "G-L on S",
          "ARD Loss",
          "ROA_84",
          "Consensu",
          "% Surpri",
          "ROE_87",
          "Consensu",
          "% Surpri",
          "Book Val",
          "Cash Flo",
          "Sales Pe",
          "Price_93",
          "Cash, Ca",
          "Cash & E",
          "ST Inves",
          "Accounts",
          "Accounts",
          "Notes Re",
          "Inventor",
          "Raw Mate",
          "Finished",
          "Other In",
          "Unbilled",
          "Other ST",
          "Prepaid ",
          "Derivati",
          "Assets H",
          "ST Defer",
          "Income T",
          "Disconti",
          "Misc ST ",
          "Total Cu",
          "Property",
          "PP&E Gro",
          "Accumula",
          "LT Inves",
          "LT Inves",
          "LT Marke",
          "LT Recei",
          "Goodwill",
          "Goodwill",
          "Other In",
          "Other LT",
          "LT Defer",
          "LT Deriv",
          "Prepaid ",
          "Disconti",
          "Investme",
          "Misc LT ",
          "Total Lo",
          "Total As",
          "Payables",
          "Accounts",
          "Accruals",
          "Accrued ",
          "Interest",
          "Other Ac",
          "ST Debt_",
          "ST Borro",
          "ST Capit",
          "Current ",
          "Other ST",
          "ST Defer",
          "ST Deriv",
          "ST Defer",
          "Disconti",
          "Misc ST ",
          "Total Cu",
          "LT Debt_",
          "LT Borro",
          "LT Capit",
          "Other LT",
          "Accrued ",
          "Pension ",
          "Pensions",
          "Other Po",
          "Deferred",
          "LT Defer",
          "Deferred",
          "Derivati",
          "Disconti",
          "Misc LT ",
          "Total No",
          "Total Li",
          "Preferre",
          "Share Ca",
          "Common S",
          "Addition",
          "Other Sh",
          "Treasury",
          "Retained",
          "Other Eq",
          "Minority",
          "Total Eq",
          "Total Li",
          "A = L + ",
          "Current ",
          "LT Asset",
          "Current ",
          "LT Liabi",
          "Total Li",
          "Net Inte",
          "Cash and",
          "Restrict",
          "Total De",
          "Net Debt",
          "Total Ca",
          "Line of ",
          "Line of ",
          "Line of ",
          "Amt Reco",
          "Rental E",
          "Rental E",
          "Rental E",
          "Rental E",
          "Rental E",
          "Rental E",
          "Rental E",
          "Rental E",
          "Rental E",
          "Total Op",
          "PV of Op",
          "Rental E",
          "Interest",
          "D&A Port",
          "Lease Ad",
          "Lease Ad",
          "Lease Ad",
          "Total De",
          "Lease Ad",
          "Shares O",
          "Share pr",
          "Days in ",
          "Net Inco",
          "Dep & Am",
          "NonCash ",
          "StockBas",
          "Deferred",
          "Other No",
          "Change i",
          "(Inc) De",
          "(Inc) De",
          "Inc (Dec",
          "Inc (Dec",
          "Net Cash",
          "Cash fro",
          "Change i",
          "Disp in ",
          "Disp of ",
          "Acq of F",
          "Capex_25",
          "Net Chan",
          "Dec in L",
          "Inc in L",
          "Net Cash",
          "Cash fro",
          "Cash for",
          "Cash for",
          "Other In",
          "Net Cash",
          "Cash fro",
          "Dividend",
          "Cash Fro",
          "Cash Fro",
          "Cash Fro",
          "Repaymen",
          "Cash (Re",
          "Increase",
          "Decrease",
          "Other Fi",
          "Net Cash",
          "Cash fro",
          "Effect o",
          "Net Chan",
          "Free Cas",
          "Consensu",
          "% Surpri",
          "Free Cas",
          "Free Cas",
          "Cash Pai",
          "Cash Pai",
          "Free Cas",
          "Operatin",
          "Free Cas",
          "Dividend",
          "Dividend",
          "Beginnin",
          "Net Inco",
          "Other Co",
          "Dividend",
          "Net Shar",
          "Other_29",
          "Ending E",
          "Beginnin",
          "Shares R",
          "Avg. Pri",
          "Shares I",
          "Ending S",
          "Share Re",
          "Net Shar",
          "EBITDAR_",
          "EBITDAR ",
          "EBITDA M",
          "EBITDA /",
          "EBITDA -",
          "CAPEX / ",
          "CAPEX / ",
          "FCF / DE",
          "Gross Le",
          "Net Leve",
          "Total Li",
          "Cash + A",
          "Cash % o",
          "Company_"
         ],
         "y": [
          0,
          0,
          0,
          442,
          0,
          0,
          0,
          0,
          0,
          0,
          0,
          0,
          0,
          0,
          0,
          0,
          0,
          0,
          0,
          0,
          0,
          0,
          0,
          0,
          0,
          0,
          0,
          0,
          0,
          0,
          0,
          0,
          0,
          0,
          0,
          0,
          0,
          0,
          0,
          0,
          0,
          0,
          0,
          0,
          0,
          0,
          0,
          0,
          0,
          0,
          0,
          0,
          0,
          0,
          0,
          1368,
          1368,
          0,
          0,
          0,
          0,
          0,
          0,
          0,
          216,
          0,
          0,
          0,
          0,
          216,
          0,
          0,
          0,
          0,
          0,
          0,
          0,
          0,
          0,
          0,
          0,
          0,
          0,
          0,
          0,
          0,
          0,
          0,
          0,
          0,
          0,
          0,
          0,
          0,
          0,
          0,
          0,
          0,
          0,
          0,
          0,
          0,
          0,
          0,
          0,
          0,
          0,
          0,
          0,
          0,
          0,
          0,
          0,
          0,
          0,
          0,
          0,
          0,
          0,
          0,
          0,
          432,
          0,
          0,
          0,
          0,
          0,
          0,
          0,
          0,
          0,
          0,
          0,
          0,
          0,
          0,
          0,
          0,
          0,
          0,
          0,
          0,
          0,
          0,
          0,
          0,
          0,
          0,
          0,
          0,
          0,
          0,
          0,
          0,
          0,
          0,
          0,
          0,
          0,
          0,
          0,
          0,
          0,
          216,
          216,
          216,
          216,
          216,
          216,
          216,
          0,
          0,
          0,
          0,
          0,
          0,
          0,
          216,
          2,
          0,
          0,
          0,
          0,
          0,
          0,
          0,
          0,
          0,
          0,
          0,
          0,
          432,
          432,
          216,
          0,
          432,
          216,
          216,
          0,
          0,
          0,
          0,
          0,
          0,
          0,
          0,
          0,
          0,
          0,
          0,
          0,
          0,
          0,
          0,
          0,
          0,
          0,
          0,
          0,
          0,
          0,
          0,
          0,
          0,
          0,
          0,
          0,
          0,
          0,
          0,
          0,
          0,
          0,
          0,
          0,
          0,
          0,
          0,
          0,
          0,
          0,
          0,
          0,
          0,
          0,
          2,
          0,
          0,
          0,
          0,
          415,
          415,
          0,
          0,
          2,
          2,
          0,
          0,
          0,
          2,
          0,
          2,
          38,
          0,
          2,
          0,
          0,
          218,
          0,
          0,
          216,
          216,
          216,
          216,
          216,
          216,
          244,
          394,
          262,
          216,
          216,
          0
         ]
        }
       ],
       "layout": {
        "barmode": "stack",
        "template": {
         "data": {
          "bar": [
           {
            "error_x": {
             "color": "#2a3f5f"
            },
            "error_y": {
             "color": "#2a3f5f"
            },
            "marker": {
             "line": {
              "color": "#E5ECF6",
              "width": 0.5
             },
             "pattern": {
              "fillmode": "overlay",
              "size": 10,
              "solidity": 0.2
             }
            },
            "type": "bar"
           }
          ],
          "barpolar": [
           {
            "marker": {
             "line": {
              "color": "#E5ECF6",
              "width": 0.5
             },
             "pattern": {
              "fillmode": "overlay",
              "size": 10,
              "solidity": 0.2
             }
            },
            "type": "barpolar"
           }
          ],
          "carpet": [
           {
            "aaxis": {
             "endlinecolor": "#2a3f5f",
             "gridcolor": "white",
             "linecolor": "white",
             "minorgridcolor": "white",
             "startlinecolor": "#2a3f5f"
            },
            "baxis": {
             "endlinecolor": "#2a3f5f",
             "gridcolor": "white",
             "linecolor": "white",
             "minorgridcolor": "white",
             "startlinecolor": "#2a3f5f"
            },
            "type": "carpet"
           }
          ],
          "choropleth": [
           {
            "colorbar": {
             "outlinewidth": 0,
             "ticks": ""
            },
            "type": "choropleth"
           }
          ],
          "contour": [
           {
            "colorbar": {
             "outlinewidth": 0,
             "ticks": ""
            },
            "colorscale": [
             [
              0,
              "#0d0887"
             ],
             [
              0.1111111111111111,
              "#46039f"
             ],
             [
              0.2222222222222222,
              "#7201a8"
             ],
             [
              0.3333333333333333,
              "#9c179e"
             ],
             [
              0.4444444444444444,
              "#bd3786"
             ],
             [
              0.5555555555555556,
              "#d8576b"
             ],
             [
              0.6666666666666666,
              "#ed7953"
             ],
             [
              0.7777777777777778,
              "#fb9f3a"
             ],
             [
              0.8888888888888888,
              "#fdca26"
             ],
             [
              1,
              "#f0f921"
             ]
            ],
            "type": "contour"
           }
          ],
          "contourcarpet": [
           {
            "colorbar": {
             "outlinewidth": 0,
             "ticks": ""
            },
            "type": "contourcarpet"
           }
          ],
          "heatmap": [
           {
            "colorbar": {
             "outlinewidth": 0,
             "ticks": ""
            },
            "colorscale": [
             [
              0,
              "#0d0887"
             ],
             [
              0.1111111111111111,
              "#46039f"
             ],
             [
              0.2222222222222222,
              "#7201a8"
             ],
             [
              0.3333333333333333,
              "#9c179e"
             ],
             [
              0.4444444444444444,
              "#bd3786"
             ],
             [
              0.5555555555555556,
              "#d8576b"
             ],
             [
              0.6666666666666666,
              "#ed7953"
             ],
             [
              0.7777777777777778,
              "#fb9f3a"
             ],
             [
              0.8888888888888888,
              "#fdca26"
             ],
             [
              1,
              "#f0f921"
             ]
            ],
            "type": "heatmap"
           }
          ],
          "heatmapgl": [
           {
            "colorbar": {
             "outlinewidth": 0,
             "ticks": ""
            },
            "colorscale": [
             [
              0,
              "#0d0887"
             ],
             [
              0.1111111111111111,
              "#46039f"
             ],
             [
              0.2222222222222222,
              "#7201a8"
             ],
             [
              0.3333333333333333,
              "#9c179e"
             ],
             [
              0.4444444444444444,
              "#bd3786"
             ],
             [
              0.5555555555555556,
              "#d8576b"
             ],
             [
              0.6666666666666666,
              "#ed7953"
             ],
             [
              0.7777777777777778,
              "#fb9f3a"
             ],
             [
              0.8888888888888888,
              "#fdca26"
             ],
             [
              1,
              "#f0f921"
             ]
            ],
            "type": "heatmapgl"
           }
          ],
          "histogram": [
           {
            "marker": {
             "pattern": {
              "fillmode": "overlay",
              "size": 10,
              "solidity": 0.2
             }
            },
            "type": "histogram"
           }
          ],
          "histogram2d": [
           {
            "colorbar": {
             "outlinewidth": 0,
             "ticks": ""
            },
            "colorscale": [
             [
              0,
              "#0d0887"
             ],
             [
              0.1111111111111111,
              "#46039f"
             ],
             [
              0.2222222222222222,
              "#7201a8"
             ],
             [
              0.3333333333333333,
              "#9c179e"
             ],
             [
              0.4444444444444444,
              "#bd3786"
             ],
             [
              0.5555555555555556,
              "#d8576b"
             ],
             [
              0.6666666666666666,
              "#ed7953"
             ],
             [
              0.7777777777777778,
              "#fb9f3a"
             ],
             [
              0.8888888888888888,
              "#fdca26"
             ],
             [
              1,
              "#f0f921"
             ]
            ],
            "type": "histogram2d"
           }
          ],
          "histogram2dcontour": [
           {
            "colorbar": {
             "outlinewidth": 0,
             "ticks": ""
            },
            "colorscale": [
             [
              0,
              "#0d0887"
             ],
             [
              0.1111111111111111,
              "#46039f"
             ],
             [
              0.2222222222222222,
              "#7201a8"
             ],
             [
              0.3333333333333333,
              "#9c179e"
             ],
             [
              0.4444444444444444,
              "#bd3786"
             ],
             [
              0.5555555555555556,
              "#d8576b"
             ],
             [
              0.6666666666666666,
              "#ed7953"
             ],
             [
              0.7777777777777778,
              "#fb9f3a"
             ],
             [
              0.8888888888888888,
              "#fdca26"
             ],
             [
              1,
              "#f0f921"
             ]
            ],
            "type": "histogram2dcontour"
           }
          ],
          "mesh3d": [
           {
            "colorbar": {
             "outlinewidth": 0,
             "ticks": ""
            },
            "type": "mesh3d"
           }
          ],
          "parcoords": [
           {
            "line": {
             "colorbar": {
              "outlinewidth": 0,
              "ticks": ""
             }
            },
            "type": "parcoords"
           }
          ],
          "pie": [
           {
            "automargin": true,
            "type": "pie"
           }
          ],
          "scatter": [
           {
            "fillpattern": {
             "fillmode": "overlay",
             "size": 10,
             "solidity": 0.2
            },
            "type": "scatter"
           }
          ],
          "scatter3d": [
           {
            "line": {
             "colorbar": {
              "outlinewidth": 0,
              "ticks": ""
             }
            },
            "marker": {
             "colorbar": {
              "outlinewidth": 0,
              "ticks": ""
             }
            },
            "type": "scatter3d"
           }
          ],
          "scattercarpet": [
           {
            "marker": {
             "colorbar": {
              "outlinewidth": 0,
              "ticks": ""
             }
            },
            "type": "scattercarpet"
           }
          ],
          "scattergeo": [
           {
            "marker": {
             "colorbar": {
              "outlinewidth": 0,
              "ticks": ""
             }
            },
            "type": "scattergeo"
           }
          ],
          "scattergl": [
           {
            "marker": {
             "colorbar": {
              "outlinewidth": 0,
              "ticks": ""
             }
            },
            "type": "scattergl"
           }
          ],
          "scattermapbox": [
           {
            "marker": {
             "colorbar": {
              "outlinewidth": 0,
              "ticks": ""
             }
            },
            "type": "scattermapbox"
           }
          ],
          "scatterpolar": [
           {
            "marker": {
             "colorbar": {
              "outlinewidth": 0,
              "ticks": ""
             }
            },
            "type": "scatterpolar"
           }
          ],
          "scatterpolargl": [
           {
            "marker": {
             "colorbar": {
              "outlinewidth": 0,
              "ticks": ""
             }
            },
            "type": "scatterpolargl"
           }
          ],
          "scatterternary": [
           {
            "marker": {
             "colorbar": {
              "outlinewidth": 0,
              "ticks": ""
             }
            },
            "type": "scatterternary"
           }
          ],
          "surface": [
           {
            "colorbar": {
             "outlinewidth": 0,
             "ticks": ""
            },
            "colorscale": [
             [
              0,
              "#0d0887"
             ],
             [
              0.1111111111111111,
              "#46039f"
             ],
             [
              0.2222222222222222,
              "#7201a8"
             ],
             [
              0.3333333333333333,
              "#9c179e"
             ],
             [
              0.4444444444444444,
              "#bd3786"
             ],
             [
              0.5555555555555556,
              "#d8576b"
             ],
             [
              0.6666666666666666,
              "#ed7953"
             ],
             [
              0.7777777777777778,
              "#fb9f3a"
             ],
             [
              0.8888888888888888,
              "#fdca26"
             ],
             [
              1,
              "#f0f921"
             ]
            ],
            "type": "surface"
           }
          ],
          "table": [
           {
            "cells": {
             "fill": {
              "color": "#EBF0F8"
             },
             "line": {
              "color": "white"
             }
            },
            "header": {
             "fill": {
              "color": "#C8D4E3"
             },
             "line": {
              "color": "white"
             }
            },
            "type": "table"
           }
          ]
         },
         "layout": {
          "annotationdefaults": {
           "arrowcolor": "#2a3f5f",
           "arrowhead": 0,
           "arrowwidth": 1
          },
          "autotypenumbers": "strict",
          "coloraxis": {
           "colorbar": {
            "outlinewidth": 0,
            "ticks": ""
           }
          },
          "colorscale": {
           "diverging": [
            [
             0,
             "#8e0152"
            ],
            [
             0.1,
             "#c51b7d"
            ],
            [
             0.2,
             "#de77ae"
            ],
            [
             0.3,
             "#f1b6da"
            ],
            [
             0.4,
             "#fde0ef"
            ],
            [
             0.5,
             "#f7f7f7"
            ],
            [
             0.6,
             "#e6f5d0"
            ],
            [
             0.7,
             "#b8e186"
            ],
            [
             0.8,
             "#7fbc41"
            ],
            [
             0.9,
             "#4d9221"
            ],
            [
             1,
             "#276419"
            ]
           ],
           "sequential": [
            [
             0,
             "#0d0887"
            ],
            [
             0.1111111111111111,
             "#46039f"
            ],
            [
             0.2222222222222222,
             "#7201a8"
            ],
            [
             0.3333333333333333,
             "#9c179e"
            ],
            [
             0.4444444444444444,
             "#bd3786"
            ],
            [
             0.5555555555555556,
             "#d8576b"
            ],
            [
             0.6666666666666666,
             "#ed7953"
            ],
            [
             0.7777777777777778,
             "#fb9f3a"
            ],
            [
             0.8888888888888888,
             "#fdca26"
            ],
            [
             1,
             "#f0f921"
            ]
           ],
           "sequentialminus": [
            [
             0,
             "#0d0887"
            ],
            [
             0.1111111111111111,
             "#46039f"
            ],
            [
             0.2222222222222222,
             "#7201a8"
            ],
            [
             0.3333333333333333,
             "#9c179e"
            ],
            [
             0.4444444444444444,
             "#bd3786"
            ],
            [
             0.5555555555555556,
             "#d8576b"
            ],
            [
             0.6666666666666666,
             "#ed7953"
            ],
            [
             0.7777777777777778,
             "#fb9f3a"
            ],
            [
             0.8888888888888888,
             "#fdca26"
            ],
            [
             1,
             "#f0f921"
            ]
           ]
          },
          "colorway": [
           "#636efa",
           "#EF553B",
           "#00cc96",
           "#ab63fa",
           "#FFA15A",
           "#19d3f3",
           "#FF6692",
           "#B6E880",
           "#FF97FF",
           "#FECB52"
          ],
          "font": {
           "color": "#2a3f5f"
          },
          "geo": {
           "bgcolor": "white",
           "lakecolor": "white",
           "landcolor": "#E5ECF6",
           "showlakes": true,
           "showland": true,
           "subunitcolor": "white"
          },
          "hoverlabel": {
           "align": "left"
          },
          "hovermode": "closest",
          "mapbox": {
           "style": "light"
          },
          "paper_bgcolor": "white",
          "plot_bgcolor": "#E5ECF6",
          "polar": {
           "angularaxis": {
            "gridcolor": "white",
            "linecolor": "white",
            "ticks": ""
           },
           "bgcolor": "#E5ECF6",
           "radialaxis": {
            "gridcolor": "white",
            "linecolor": "white",
            "ticks": ""
           }
          },
          "scene": {
           "xaxis": {
            "backgroundcolor": "#E5ECF6",
            "gridcolor": "white",
            "gridwidth": 2,
            "linecolor": "white",
            "showbackground": true,
            "ticks": "",
            "zerolinecolor": "white"
           },
           "yaxis": {
            "backgroundcolor": "#E5ECF6",
            "gridcolor": "white",
            "gridwidth": 2,
            "linecolor": "white",
            "showbackground": true,
            "ticks": "",
            "zerolinecolor": "white"
           },
           "zaxis": {
            "backgroundcolor": "#E5ECF6",
            "gridcolor": "white",
            "gridwidth": 2,
            "linecolor": "white",
            "showbackground": true,
            "ticks": "",
            "zerolinecolor": "white"
           }
          },
          "shapedefaults": {
           "line": {
            "color": "#2a3f5f"
           }
          },
          "ternary": {
           "aaxis": {
            "gridcolor": "white",
            "linecolor": "white",
            "ticks": ""
           },
           "baxis": {
            "gridcolor": "white",
            "linecolor": "white",
            "ticks": ""
           },
           "bgcolor": "#E5ECF6",
           "caxis": {
            "gridcolor": "white",
            "linecolor": "white",
            "ticks": ""
           }
          },
          "title": {
           "x": 0.05
          },
          "xaxis": {
           "automargin": true,
           "gridcolor": "white",
           "linecolor": "white",
           "ticks": "",
           "title": {
            "standoff": 15
           },
           "zerolinecolor": "white",
           "zerolinewidth": 2
          },
          "yaxis": {
           "automargin": true,
           "gridcolor": "white",
           "linecolor": "white",
           "ticks": "",
           "title": {
            "standoff": 15
           },
           "zerolinecolor": "white",
           "zerolinewidth": 2
          }
         }
        },
        "xaxis": {
         "categoryorder": "total descending",
         "title": {
          "text": "feature"
         }
        },
        "yaxis": {
         "title": {
          "text": "na_sum"
         }
        }
       }
      }
     },
     "metadata": {},
     "output_type": "display_data"
    }
   ],
   "source": [
    "mean = df.mean()\n",
    "mean.index = [i[:8] for i in mean.index]\n",
    "bar_plot(mean, 'mean', 'feature')\n",
    "\n",
    "na = df.isna().sum()\n",
    "na.index = [i[:8] for i in na.index]\n",
    "bar_plot(na, 'na_sum', 'feature')"
   ]
  },
  {
   "cell_type": "code",
   "execution_count": 71,
   "metadata": {},
   "outputs": [
    {
     "data": {
      "application/vnd.plotly.v1+json": {
       "config": {
        "plotlyServerURL": "https://plot.ly"
       },
       "data": [
        {
         "type": "bar",
         "x": [
          "AMPY.xlsx",
          "APA.xlsx",
          "AR.xlsx",
          "BATL.xlsx",
          "BCEI.xlsx",
          "BRY.xlsx",
          "BSM.xlsx",
          "CDEV.xlsx",
          "CHK.xlsx",
          "CLR.xlsx",
          "CNX.xlsx",
          "COG.xlsx",
          "COP.xlsx",
          "CPE.xlsx",
          "CRBO.xlsx",
          "CRC.xlsx",
          "CRK.xlsx",
          "DEN.xlsx",
          "DVN.xlsx",
          "EGY.xlsx",
          "EOG.xlsx",
          "EQT.xlsx",
          "ESTE.xlsx",
          "FANG.xlsx",
          "GDP.xlsx",
          "HES.xlsx",
          "LONE.xlsx",
          "LPI.xlsx",
          "MCF.xlsx",
          "MGY.xlsx",
          "MNRL.xlsx",
          "MRO.xlsx",
          "MTDR.xlsx",
          "MUR.xlsx",
          "NOG.xlsx",
          "OAS.xlsx",
          "OVV.xlsx",
          "PDCE.xlsx",
          "PVAC.xlsx",
          "PXD.xlsx",
          "REI.xlsx",
          "RRC.xlsx",
          "SBOW.xlsx",
          "SD.xlsx",
          "SM.xlsx",
          "SWN.xlsx",
          "TALO.xlsx",
          "TPL.xlsx",
          "VNOM.xlsx",
          "WLL.xlsx",
          "WTI.xlsx",
          "XEC.xlsx",
          "XOG.xlsx",
          "¦Ъ¦-¦¬¦¦¦-8.xlsx"
         ],
         "y": [
          79.75944715789474,
          2531.868422736842,
          614.1413418947368,
          136.56971136842105,
          73.96107957894738,
          43.97513094736843,
          68.45694736842105,
          70.23894757894736,
          3008.684218947368,
          809.0674218947368,
          710.012659368421,
          404.0914728421053,
          11246.842064842105,
          76.9252372631579,
          7.7498782380952385,
          386,
          106.93831621052631,
          434.75371115789477,
          2638.7894770526314,
          30.151921052631575,
          3159.8761970526316,
          653.690841263158,
          18.007763157894736,
          284.23238534210526,
          35.78457894736842,
          2913.499991578947,
          15.970275157894736,
          189.59884210526317,
          34.06928,
          60.377394947368416,
          3.8526315789473684,
          2096.5263208421056,
          115.42456621052631,
          1854.364930526316,
          99.46847905263158,
          303.78397326315786,
          1489.7368488421052,
          189.20947136842105,
          86.81373705263158,
          1302.121084631579,
          13.999960421052632,
          511.54086821052636,
          92.04481431578948,
          260.26686736842106,
          410.6406854736842,
          795.6579772631579,
          184.78820863157895,
          37.34732921052631,
          29.017815789473683,
          494.27870778947374,
          171.1124747368421,
          472.2787368421053,
          82.5554212631579,
          82.5554212631579
         ]
        }
       ],
       "layout": {
        "barmode": "stack",
        "template": {
         "data": {
          "bar": [
           {
            "error_x": {
             "color": "#2a3f5f"
            },
            "error_y": {
             "color": "#2a3f5f"
            },
            "marker": {
             "line": {
              "color": "#E5ECF6",
              "width": 0.5
             },
             "pattern": {
              "fillmode": "overlay",
              "size": 10,
              "solidity": 0.2
             }
            },
            "type": "bar"
           }
          ],
          "barpolar": [
           {
            "marker": {
             "line": {
              "color": "#E5ECF6",
              "width": 0.5
             },
             "pattern": {
              "fillmode": "overlay",
              "size": 10,
              "solidity": 0.2
             }
            },
            "type": "barpolar"
           }
          ],
          "carpet": [
           {
            "aaxis": {
             "endlinecolor": "#2a3f5f",
             "gridcolor": "white",
             "linecolor": "white",
             "minorgridcolor": "white",
             "startlinecolor": "#2a3f5f"
            },
            "baxis": {
             "endlinecolor": "#2a3f5f",
             "gridcolor": "white",
             "linecolor": "white",
             "minorgridcolor": "white",
             "startlinecolor": "#2a3f5f"
            },
            "type": "carpet"
           }
          ],
          "choropleth": [
           {
            "colorbar": {
             "outlinewidth": 0,
             "ticks": ""
            },
            "type": "choropleth"
           }
          ],
          "contour": [
           {
            "colorbar": {
             "outlinewidth": 0,
             "ticks": ""
            },
            "colorscale": [
             [
              0,
              "#0d0887"
             ],
             [
              0.1111111111111111,
              "#46039f"
             ],
             [
              0.2222222222222222,
              "#7201a8"
             ],
             [
              0.3333333333333333,
              "#9c179e"
             ],
             [
              0.4444444444444444,
              "#bd3786"
             ],
             [
              0.5555555555555556,
              "#d8576b"
             ],
             [
              0.6666666666666666,
              "#ed7953"
             ],
             [
              0.7777777777777778,
              "#fb9f3a"
             ],
             [
              0.8888888888888888,
              "#fdca26"
             ],
             [
              1,
              "#f0f921"
             ]
            ],
            "type": "contour"
           }
          ],
          "contourcarpet": [
           {
            "colorbar": {
             "outlinewidth": 0,
             "ticks": ""
            },
            "type": "contourcarpet"
           }
          ],
          "heatmap": [
           {
            "colorbar": {
             "outlinewidth": 0,
             "ticks": ""
            },
            "colorscale": [
             [
              0,
              "#0d0887"
             ],
             [
              0.1111111111111111,
              "#46039f"
             ],
             [
              0.2222222222222222,
              "#7201a8"
             ],
             [
              0.3333333333333333,
              "#9c179e"
             ],
             [
              0.4444444444444444,
              "#bd3786"
             ],
             [
              0.5555555555555556,
              "#d8576b"
             ],
             [
              0.6666666666666666,
              "#ed7953"
             ],
             [
              0.7777777777777778,
              "#fb9f3a"
             ],
             [
              0.8888888888888888,
              "#fdca26"
             ],
             [
              1,
              "#f0f921"
             ]
            ],
            "type": "heatmap"
           }
          ],
          "heatmapgl": [
           {
            "colorbar": {
             "outlinewidth": 0,
             "ticks": ""
            },
            "colorscale": [
             [
              0,
              "#0d0887"
             ],
             [
              0.1111111111111111,
              "#46039f"
             ],
             [
              0.2222222222222222,
              "#7201a8"
             ],
             [
              0.3333333333333333,
              "#9c179e"
             ],
             [
              0.4444444444444444,
              "#bd3786"
             ],
             [
              0.5555555555555556,
              "#d8576b"
             ],
             [
              0.6666666666666666,
              "#ed7953"
             ],
             [
              0.7777777777777778,
              "#fb9f3a"
             ],
             [
              0.8888888888888888,
              "#fdca26"
             ],
             [
              1,
              "#f0f921"
             ]
            ],
            "type": "heatmapgl"
           }
          ],
          "histogram": [
           {
            "marker": {
             "pattern": {
              "fillmode": "overlay",
              "size": 10,
              "solidity": 0.2
             }
            },
            "type": "histogram"
           }
          ],
          "histogram2d": [
           {
            "colorbar": {
             "outlinewidth": 0,
             "ticks": ""
            },
            "colorscale": [
             [
              0,
              "#0d0887"
             ],
             [
              0.1111111111111111,
              "#46039f"
             ],
             [
              0.2222222222222222,
              "#7201a8"
             ],
             [
              0.3333333333333333,
              "#9c179e"
             ],
             [
              0.4444444444444444,
              "#bd3786"
             ],
             [
              0.5555555555555556,
              "#d8576b"
             ],
             [
              0.6666666666666666,
              "#ed7953"
             ],
             [
              0.7777777777777778,
              "#fb9f3a"
             ],
             [
              0.8888888888888888,
              "#fdca26"
             ],
             [
              1,
              "#f0f921"
             ]
            ],
            "type": "histogram2d"
           }
          ],
          "histogram2dcontour": [
           {
            "colorbar": {
             "outlinewidth": 0,
             "ticks": ""
            },
            "colorscale": [
             [
              0,
              "#0d0887"
             ],
             [
              0.1111111111111111,
              "#46039f"
             ],
             [
              0.2222222222222222,
              "#7201a8"
             ],
             [
              0.3333333333333333,
              "#9c179e"
             ],
             [
              0.4444444444444444,
              "#bd3786"
             ],
             [
              0.5555555555555556,
              "#d8576b"
             ],
             [
              0.6666666666666666,
              "#ed7953"
             ],
             [
              0.7777777777777778,
              "#fb9f3a"
             ],
             [
              0.8888888888888888,
              "#fdca26"
             ],
             [
              1,
              "#f0f921"
             ]
            ],
            "type": "histogram2dcontour"
           }
          ],
          "mesh3d": [
           {
            "colorbar": {
             "outlinewidth": 0,
             "ticks": ""
            },
            "type": "mesh3d"
           }
          ],
          "parcoords": [
           {
            "line": {
             "colorbar": {
              "outlinewidth": 0,
              "ticks": ""
             }
            },
            "type": "parcoords"
           }
          ],
          "pie": [
           {
            "automargin": true,
            "type": "pie"
           }
          ],
          "scatter": [
           {
            "fillpattern": {
             "fillmode": "overlay",
             "size": 10,
             "solidity": 0.2
            },
            "type": "scatter"
           }
          ],
          "scatter3d": [
           {
            "line": {
             "colorbar": {
              "outlinewidth": 0,
              "ticks": ""
             }
            },
            "marker": {
             "colorbar": {
              "outlinewidth": 0,
              "ticks": ""
             }
            },
            "type": "scatter3d"
           }
          ],
          "scattercarpet": [
           {
            "marker": {
             "colorbar": {
              "outlinewidth": 0,
              "ticks": ""
             }
            },
            "type": "scattercarpet"
           }
          ],
          "scattergeo": [
           {
            "marker": {
             "colorbar": {
              "outlinewidth": 0,
              "ticks": ""
             }
            },
            "type": "scattergeo"
           }
          ],
          "scattergl": [
           {
            "marker": {
             "colorbar": {
              "outlinewidth": 0,
              "ticks": ""
             }
            },
            "type": "scattergl"
           }
          ],
          "scattermapbox": [
           {
            "marker": {
             "colorbar": {
              "outlinewidth": 0,
              "ticks": ""
             }
            },
            "type": "scattermapbox"
           }
          ],
          "scatterpolar": [
           {
            "marker": {
             "colorbar": {
              "outlinewidth": 0,
              "ticks": ""
             }
            },
            "type": "scatterpolar"
           }
          ],
          "scatterpolargl": [
           {
            "marker": {
             "colorbar": {
              "outlinewidth": 0,
              "ticks": ""
             }
            },
            "type": "scatterpolargl"
           }
          ],
          "scatterternary": [
           {
            "marker": {
             "colorbar": {
              "outlinewidth": 0,
              "ticks": ""
             }
            },
            "type": "scatterternary"
           }
          ],
          "surface": [
           {
            "colorbar": {
             "outlinewidth": 0,
             "ticks": ""
            },
            "colorscale": [
             [
              0,
              "#0d0887"
             ],
             [
              0.1111111111111111,
              "#46039f"
             ],
             [
              0.2222222222222222,
              "#7201a8"
             ],
             [
              0.3333333333333333,
              "#9c179e"
             ],
             [
              0.4444444444444444,
              "#bd3786"
             ],
             [
              0.5555555555555556,
              "#d8576b"
             ],
             [
              0.6666666666666666,
              "#ed7953"
             ],
             [
              0.7777777777777778,
              "#fb9f3a"
             ],
             [
              0.8888888888888888,
              "#fdca26"
             ],
             [
              1,
              "#f0f921"
             ]
            ],
            "type": "surface"
           }
          ],
          "table": [
           {
            "cells": {
             "fill": {
              "color": "#EBF0F8"
             },
             "line": {
              "color": "white"
             }
            },
            "header": {
             "fill": {
              "color": "#C8D4E3"
             },
             "line": {
              "color": "white"
             }
            },
            "type": "table"
           }
          ]
         },
         "layout": {
          "annotationdefaults": {
           "arrowcolor": "#2a3f5f",
           "arrowhead": 0,
           "arrowwidth": 1
          },
          "autotypenumbers": "strict",
          "coloraxis": {
           "colorbar": {
            "outlinewidth": 0,
            "ticks": ""
           }
          },
          "colorscale": {
           "diverging": [
            [
             0,
             "#8e0152"
            ],
            [
             0.1,
             "#c51b7d"
            ],
            [
             0.2,
             "#de77ae"
            ],
            [
             0.3,
             "#f1b6da"
            ],
            [
             0.4,
             "#fde0ef"
            ],
            [
             0.5,
             "#f7f7f7"
            ],
            [
             0.6,
             "#e6f5d0"
            ],
            [
             0.7,
             "#b8e186"
            ],
            [
             0.8,
             "#7fbc41"
            ],
            [
             0.9,
             "#4d9221"
            ],
            [
             1,
             "#276419"
            ]
           ],
           "sequential": [
            [
             0,
             "#0d0887"
            ],
            [
             0.1111111111111111,
             "#46039f"
            ],
            [
             0.2222222222222222,
             "#7201a8"
            ],
            [
             0.3333333333333333,
             "#9c179e"
            ],
            [
             0.4444444444444444,
             "#bd3786"
            ],
            [
             0.5555555555555556,
             "#d8576b"
            ],
            [
             0.6666666666666666,
             "#ed7953"
            ],
            [
             0.7777777777777778,
             "#fb9f3a"
            ],
            [
             0.8888888888888888,
             "#fdca26"
            ],
            [
             1,
             "#f0f921"
            ]
           ],
           "sequentialminus": [
            [
             0,
             "#0d0887"
            ],
            [
             0.1111111111111111,
             "#46039f"
            ],
            [
             0.2222222222222222,
             "#7201a8"
            ],
            [
             0.3333333333333333,
             "#9c179e"
            ],
            [
             0.4444444444444444,
             "#bd3786"
            ],
            [
             0.5555555555555556,
             "#d8576b"
            ],
            [
             0.6666666666666666,
             "#ed7953"
            ],
            [
             0.7777777777777778,
             "#fb9f3a"
            ],
            [
             0.8888888888888888,
             "#fdca26"
            ],
            [
             1,
             "#f0f921"
            ]
           ]
          },
          "colorway": [
           "#636efa",
           "#EF553B",
           "#00cc96",
           "#ab63fa",
           "#FFA15A",
           "#19d3f3",
           "#FF6692",
           "#B6E880",
           "#FF97FF",
           "#FECB52"
          ],
          "font": {
           "color": "#2a3f5f"
          },
          "geo": {
           "bgcolor": "white",
           "lakecolor": "white",
           "landcolor": "#E5ECF6",
           "showlakes": true,
           "showland": true,
           "subunitcolor": "white"
          },
          "hoverlabel": {
           "align": "left"
          },
          "hovermode": "closest",
          "mapbox": {
           "style": "light"
          },
          "paper_bgcolor": "white",
          "plot_bgcolor": "#E5ECF6",
          "polar": {
           "angularaxis": {
            "gridcolor": "white",
            "linecolor": "white",
            "ticks": ""
           },
           "bgcolor": "#E5ECF6",
           "radialaxis": {
            "gridcolor": "white",
            "linecolor": "white",
            "ticks": ""
           }
          },
          "scene": {
           "xaxis": {
            "backgroundcolor": "#E5ECF6",
            "gridcolor": "white",
            "gridwidth": 2,
            "linecolor": "white",
            "showbackground": true,
            "ticks": "",
            "zerolinecolor": "white"
           },
           "yaxis": {
            "backgroundcolor": "#E5ECF6",
            "gridcolor": "white",
            "gridwidth": 2,
            "linecolor": "white",
            "showbackground": true,
            "ticks": "",
            "zerolinecolor": "white"
           },
           "zaxis": {
            "backgroundcolor": "#E5ECF6",
            "gridcolor": "white",
            "gridwidth": 2,
            "linecolor": "white",
            "showbackground": true,
            "ticks": "",
            "zerolinecolor": "white"
           }
          },
          "shapedefaults": {
           "line": {
            "color": "#2a3f5f"
           }
          },
          "ternary": {
           "aaxis": {
            "gridcolor": "white",
            "linecolor": "white",
            "ticks": ""
           },
           "baxis": {
            "gridcolor": "white",
            "linecolor": "white",
            "ticks": ""
           },
           "bgcolor": "#E5ECF6",
           "caxis": {
            "gridcolor": "white",
            "linecolor": "white",
            "ticks": ""
           }
          },
          "title": {
           "x": 0.05
          },
          "xaxis": {
           "automargin": true,
           "gridcolor": "white",
           "linecolor": "white",
           "ticks": "",
           "title": {
            "standoff": 15
           },
           "zerolinecolor": "white",
           "zerolinewidth": 2
          },
          "yaxis": {
           "automargin": true,
           "gridcolor": "white",
           "linecolor": "white",
           "ticks": "",
           "title": {
            "standoff": 15
           },
           "zerolinecolor": "white",
           "zerolinewidth": 2
          }
         }
        },
        "xaxis": {
         "categoryorder": "total descending",
         "title": {
          "text": "company_name"
         }
        },
        "yaxis": {
         "title": {
          "text": "mean rev"
         }
        }
       }
      }
     },
     "metadata": {},
     "output_type": "display_data"
    }
   ],
   "source": [
    "mean_rev_by_comp = df.groupby(['Company_name_329'])['Revenue_0'].mean()\n",
    "bar_plot(mean_rev_by_comp, 'mean rev')\n"
   ]
  },
  {
   "cell_type": "code",
   "execution_count": 72,
   "metadata": {},
   "outputs": [
    {
     "data": {
      "application/vnd.plotly.v1+json": {
       "config": {
        "plotlyServerURL": "https://plot.ly"
       },
       "data": [
        {
         "type": "bar",
         "x": [
          "AMPY.xlsx",
          "APA.xlsx",
          "AR.xlsx",
          "BATL.xlsx",
          "BCEI.xlsx",
          "BRY.xlsx",
          "BSM.xlsx",
          "CDEV.xlsx",
          "CHK.xlsx",
          "CLR.xlsx",
          "CNX.xlsx",
          "COG.xlsx",
          "COP.xlsx",
          "CPE.xlsx",
          "CRBO.xlsx",
          "CRC.xlsx",
          "CRK.xlsx",
          "DEN.xlsx",
          "DVN.xlsx",
          "EGY.xlsx",
          "EOG.xlsx",
          "EQT.xlsx",
          "ESTE.xlsx",
          "FANG.xlsx",
          "GDP.xlsx",
          "HES.xlsx",
          "LONE.xlsx",
          "LPI.xlsx",
          "MCF.xlsx",
          "MGY.xlsx",
          "MNRL.xlsx",
          "MRO.xlsx",
          "MTDR.xlsx",
          "MUR.xlsx",
          "NOG.xlsx",
          "OAS.xlsx",
          "OVV.xlsx",
          "PDCE.xlsx",
          "PVAC.xlsx",
          "PXD.xlsx",
          "REI.xlsx",
          "RRC.xlsx",
          "SBOW.xlsx",
          "SD.xlsx",
          "SM.xlsx",
          "SWN.xlsx",
          "TALO.xlsx",
          "TPL.xlsx",
          "VNOM.xlsx",
          "WLL.xlsx",
          "WTI.xlsx",
          "XEC.xlsx",
          "XOG.xlsx",
          "¦Ъ¦-¦¬¦¦¦-8.xlsx"
         ],
         "y": [
          0,
          596,
          0,
          24.197,
          21.436696,
          0,
          0,
          0,
          507,
          -36.21,
          238.336992,
          209.008992,
          2748.999936,
          23.163,
          0.000202,
          0,
          36.163,
          163.01,
          394,
          10.976,
          1357.453952,
          338.593984,
          1.764,
          0,
          6.245,
          833,
          0,
          0,
          12.547,
          0,
          0,
          496,
          15.548328,
          209.864992,
          -6.934,
          58.232,
          726,
          61.011,
          -13.403,
          507.105984,
          0,
          251.987008,
          24.846,
          16.655,
          169.540992,
          530,
          80.877,
          5.715768,
          0,
          91.6,
          77.715,
          245.668,
          0,
          0
         ]
        }
       ],
       "layout": {
        "barmode": "stack",
        "template": {
         "data": {
          "bar": [
           {
            "error_x": {
             "color": "#2a3f5f"
            },
            "error_y": {
             "color": "#2a3f5f"
            },
            "marker": {
             "line": {
              "color": "#E5ECF6",
              "width": 0.5
             },
             "pattern": {
              "fillmode": "overlay",
              "size": 10,
              "solidity": 0.2
             }
            },
            "type": "bar"
           }
          ],
          "barpolar": [
           {
            "marker": {
             "line": {
              "color": "#E5ECF6",
              "width": 0.5
             },
             "pattern": {
              "fillmode": "overlay",
              "size": 10,
              "solidity": 0.2
             }
            },
            "type": "barpolar"
           }
          ],
          "carpet": [
           {
            "aaxis": {
             "endlinecolor": "#2a3f5f",
             "gridcolor": "white",
             "linecolor": "white",
             "minorgridcolor": "white",
             "startlinecolor": "#2a3f5f"
            },
            "baxis": {
             "endlinecolor": "#2a3f5f",
             "gridcolor": "white",
             "linecolor": "white",
             "minorgridcolor": "white",
             "startlinecolor": "#2a3f5f"
            },
            "type": "carpet"
           }
          ],
          "choropleth": [
           {
            "colorbar": {
             "outlinewidth": 0,
             "ticks": ""
            },
            "type": "choropleth"
           }
          ],
          "contour": [
           {
            "colorbar": {
             "outlinewidth": 0,
             "ticks": ""
            },
            "colorscale": [
             [
              0,
              "#0d0887"
             ],
             [
              0.1111111111111111,
              "#46039f"
             ],
             [
              0.2222222222222222,
              "#7201a8"
             ],
             [
              0.3333333333333333,
              "#9c179e"
             ],
             [
              0.4444444444444444,
              "#bd3786"
             ],
             [
              0.5555555555555556,
              "#d8576b"
             ],
             [
              0.6666666666666666,
              "#ed7953"
             ],
             [
              0.7777777777777778,
              "#fb9f3a"
             ],
             [
              0.8888888888888888,
              "#fdca26"
             ],
             [
              1,
              "#f0f921"
             ]
            ],
            "type": "contour"
           }
          ],
          "contourcarpet": [
           {
            "colorbar": {
             "outlinewidth": 0,
             "ticks": ""
            },
            "type": "contourcarpet"
           }
          ],
          "heatmap": [
           {
            "colorbar": {
             "outlinewidth": 0,
             "ticks": ""
            },
            "colorscale": [
             [
              0,
              "#0d0887"
             ],
             [
              0.1111111111111111,
              "#46039f"
             ],
             [
              0.2222222222222222,
              "#7201a8"
             ],
             [
              0.3333333333333333,
              "#9c179e"
             ],
             [
              0.4444444444444444,
              "#bd3786"
             ],
             [
              0.5555555555555556,
              "#d8576b"
             ],
             [
              0.6666666666666666,
              "#ed7953"
             ],
             [
              0.7777777777777778,
              "#fb9f3a"
             ],
             [
              0.8888888888888888,
              "#fdca26"
             ],
             [
              1,
              "#f0f921"
             ]
            ],
            "type": "heatmap"
           }
          ],
          "heatmapgl": [
           {
            "colorbar": {
             "outlinewidth": 0,
             "ticks": ""
            },
            "colorscale": [
             [
              0,
              "#0d0887"
             ],
             [
              0.1111111111111111,
              "#46039f"
             ],
             [
              0.2222222222222222,
              "#7201a8"
             ],
             [
              0.3333333333333333,
              "#9c179e"
             ],
             [
              0.4444444444444444,
              "#bd3786"
             ],
             [
              0.5555555555555556,
              "#d8576b"
             ],
             [
              0.6666666666666666,
              "#ed7953"
             ],
             [
              0.7777777777777778,
              "#fb9f3a"
             ],
             [
              0.8888888888888888,
              "#fdca26"
             ],
             [
              1,
              "#f0f921"
             ]
            ],
            "type": "heatmapgl"
           }
          ],
          "histogram": [
           {
            "marker": {
             "pattern": {
              "fillmode": "overlay",
              "size": 10,
              "solidity": 0.2
             }
            },
            "type": "histogram"
           }
          ],
          "histogram2d": [
           {
            "colorbar": {
             "outlinewidth": 0,
             "ticks": ""
            },
            "colorscale": [
             [
              0,
              "#0d0887"
             ],
             [
              0.1111111111111111,
              "#46039f"
             ],
             [
              0.2222222222222222,
              "#7201a8"
             ],
             [
              0.3333333333333333,
              "#9c179e"
             ],
             [
              0.4444444444444444,
              "#bd3786"
             ],
             [
              0.5555555555555556,
              "#d8576b"
             ],
             [
              0.6666666666666666,
              "#ed7953"
             ],
             [
              0.7777777777777778,
              "#fb9f3a"
             ],
             [
              0.8888888888888888,
              "#fdca26"
             ],
             [
              1,
              "#f0f921"
             ]
            ],
            "type": "histogram2d"
           }
          ],
          "histogram2dcontour": [
           {
            "colorbar": {
             "outlinewidth": 0,
             "ticks": ""
            },
            "colorscale": [
             [
              0,
              "#0d0887"
             ],
             [
              0.1111111111111111,
              "#46039f"
             ],
             [
              0.2222222222222222,
              "#7201a8"
             ],
             [
              0.3333333333333333,
              "#9c179e"
             ],
             [
              0.4444444444444444,
              "#bd3786"
             ],
             [
              0.5555555555555556,
              "#d8576b"
             ],
             [
              0.6666666666666666,
              "#ed7953"
             ],
             [
              0.7777777777777778,
              "#fb9f3a"
             ],
             [
              0.8888888888888888,
              "#fdca26"
             ],
             [
              1,
              "#f0f921"
             ]
            ],
            "type": "histogram2dcontour"
           }
          ],
          "mesh3d": [
           {
            "colorbar": {
             "outlinewidth": 0,
             "ticks": ""
            },
            "type": "mesh3d"
           }
          ],
          "parcoords": [
           {
            "line": {
             "colorbar": {
              "outlinewidth": 0,
              "ticks": ""
             }
            },
            "type": "parcoords"
           }
          ],
          "pie": [
           {
            "automargin": true,
            "type": "pie"
           }
          ],
          "scatter": [
           {
            "fillpattern": {
             "fillmode": "overlay",
             "size": 10,
             "solidity": 0.2
            },
            "type": "scatter"
           }
          ],
          "scatter3d": [
           {
            "line": {
             "colorbar": {
              "outlinewidth": 0,
              "ticks": ""
             }
            },
            "marker": {
             "colorbar": {
              "outlinewidth": 0,
              "ticks": ""
             }
            },
            "type": "scatter3d"
           }
          ],
          "scattercarpet": [
           {
            "marker": {
             "colorbar": {
              "outlinewidth": 0,
              "ticks": ""
             }
            },
            "type": "scattercarpet"
           }
          ],
          "scattergeo": [
           {
            "marker": {
             "colorbar": {
              "outlinewidth": 0,
              "ticks": ""
             }
            },
            "type": "scattergeo"
           }
          ],
          "scattergl": [
           {
            "marker": {
             "colorbar": {
              "outlinewidth": 0,
              "ticks": ""
             }
            },
            "type": "scattergl"
           }
          ],
          "scattermapbox": [
           {
            "marker": {
             "colorbar": {
              "outlinewidth": 0,
              "ticks": ""
             }
            },
            "type": "scattermapbox"
           }
          ],
          "scatterpolar": [
           {
            "marker": {
             "colorbar": {
              "outlinewidth": 0,
              "ticks": ""
             }
            },
            "type": "scatterpolar"
           }
          ],
          "scatterpolargl": [
           {
            "marker": {
             "colorbar": {
              "outlinewidth": 0,
              "ticks": ""
             }
            },
            "type": "scatterpolargl"
           }
          ],
          "scatterternary": [
           {
            "marker": {
             "colorbar": {
              "outlinewidth": 0,
              "ticks": ""
             }
            },
            "type": "scatterternary"
           }
          ],
          "surface": [
           {
            "colorbar": {
             "outlinewidth": 0,
             "ticks": ""
            },
            "colorscale": [
             [
              0,
              "#0d0887"
             ],
             [
              0.1111111111111111,
              "#46039f"
             ],
             [
              0.2222222222222222,
              "#7201a8"
             ],
             [
              0.3333333333333333,
              "#9c179e"
             ],
             [
              0.4444444444444444,
              "#bd3786"
             ],
             [
              0.5555555555555556,
              "#d8576b"
             ],
             [
              0.6666666666666666,
              "#ed7953"
             ],
             [
              0.7777777777777778,
              "#fb9f3a"
             ],
             [
              0.8888888888888888,
              "#fdca26"
             ],
             [
              1,
              "#f0f921"
             ]
            ],
            "type": "surface"
           }
          ],
          "table": [
           {
            "cells": {
             "fill": {
              "color": "#EBF0F8"
             },
             "line": {
              "color": "white"
             }
            },
            "header": {
             "fill": {
              "color": "#C8D4E3"
             },
             "line": {
              "color": "white"
             }
            },
            "type": "table"
           }
          ]
         },
         "layout": {
          "annotationdefaults": {
           "arrowcolor": "#2a3f5f",
           "arrowhead": 0,
           "arrowwidth": 1
          },
          "autotypenumbers": "strict",
          "coloraxis": {
           "colorbar": {
            "outlinewidth": 0,
            "ticks": ""
           }
          },
          "colorscale": {
           "diverging": [
            [
             0,
             "#8e0152"
            ],
            [
             0.1,
             "#c51b7d"
            ],
            [
             0.2,
             "#de77ae"
            ],
            [
             0.3,
             "#f1b6da"
            ],
            [
             0.4,
             "#fde0ef"
            ],
            [
             0.5,
             "#f7f7f7"
            ],
            [
             0.6,
             "#e6f5d0"
            ],
            [
             0.7,
             "#b8e186"
            ],
            [
             0.8,
             "#7fbc41"
            ],
            [
             0.9,
             "#4d9221"
            ],
            [
             1,
             "#276419"
            ]
           ],
           "sequential": [
            [
             0,
             "#0d0887"
            ],
            [
             0.1111111111111111,
             "#46039f"
            ],
            [
             0.2222222222222222,
             "#7201a8"
            ],
            [
             0.3333333333333333,
             "#9c179e"
            ],
            [
             0.4444444444444444,
             "#bd3786"
            ],
            [
             0.5555555555555556,
             "#d8576b"
            ],
            [
             0.6666666666666666,
             "#ed7953"
            ],
            [
             0.7777777777777778,
             "#fb9f3a"
            ],
            [
             0.8888888888888888,
             "#fdca26"
            ],
            [
             1,
             "#f0f921"
            ]
           ],
           "sequentialminus": [
            [
             0,
             "#0d0887"
            ],
            [
             0.1111111111111111,
             "#46039f"
            ],
            [
             0.2222222222222222,
             "#7201a8"
            ],
            [
             0.3333333333333333,
             "#9c179e"
            ],
            [
             0.4444444444444444,
             "#bd3786"
            ],
            [
             0.5555555555555556,
             "#d8576b"
            ],
            [
             0.6666666666666666,
             "#ed7953"
            ],
            [
             0.7777777777777778,
             "#fb9f3a"
            ],
            [
             0.8888888888888888,
             "#fdca26"
            ],
            [
             1,
             "#f0f921"
            ]
           ]
          },
          "colorway": [
           "#636efa",
           "#EF553B",
           "#00cc96",
           "#ab63fa",
           "#FFA15A",
           "#19d3f3",
           "#FF6692",
           "#B6E880",
           "#FF97FF",
           "#FECB52"
          ],
          "font": {
           "color": "#2a3f5f"
          },
          "geo": {
           "bgcolor": "white",
           "lakecolor": "white",
           "landcolor": "#E5ECF6",
           "showlakes": true,
           "showland": true,
           "subunitcolor": "white"
          },
          "hoverlabel": {
           "align": "left"
          },
          "hovermode": "closest",
          "mapbox": {
           "style": "light"
          },
          "paper_bgcolor": "white",
          "plot_bgcolor": "#E5ECF6",
          "polar": {
           "angularaxis": {
            "gridcolor": "white",
            "linecolor": "white",
            "ticks": ""
           },
           "bgcolor": "#E5ECF6",
           "radialaxis": {
            "gridcolor": "white",
            "linecolor": "white",
            "ticks": ""
           }
          },
          "scene": {
           "xaxis": {
            "backgroundcolor": "#E5ECF6",
            "gridcolor": "white",
            "gridwidth": 2,
            "linecolor": "white",
            "showbackground": true,
            "ticks": "",
            "zerolinecolor": "white"
           },
           "yaxis": {
            "backgroundcolor": "#E5ECF6",
            "gridcolor": "white",
            "gridwidth": 2,
            "linecolor": "white",
            "showbackground": true,
            "ticks": "",
            "zerolinecolor": "white"
           },
           "zaxis": {
            "backgroundcolor": "#E5ECF6",
            "gridcolor": "white",
            "gridwidth": 2,
            "linecolor": "white",
            "showbackground": true,
            "ticks": "",
            "zerolinecolor": "white"
           }
          },
          "shapedefaults": {
           "line": {
            "color": "#2a3f5f"
           }
          },
          "ternary": {
           "aaxis": {
            "gridcolor": "white",
            "linecolor": "white",
            "ticks": ""
           },
           "baxis": {
            "gridcolor": "white",
            "linecolor": "white",
            "ticks": ""
           },
           "bgcolor": "#E5ECF6",
           "caxis": {
            "gridcolor": "white",
            "linecolor": "white",
            "ticks": ""
           }
          },
          "title": {
           "x": 0.05
          },
          "xaxis": {
           "automargin": true,
           "gridcolor": "white",
           "linecolor": "white",
           "ticks": "",
           "title": {
            "standoff": 15
           },
           "zerolinecolor": "white",
           "zerolinewidth": 2
          },
          "yaxis": {
           "automargin": true,
           "gridcolor": "white",
           "linecolor": "white",
           "ticks": "",
           "title": {
            "standoff": 15
           },
           "zerolinecolor": "white",
           "zerolinewidth": 2
          }
         }
        },
        "xaxis": {
         "categoryorder": "total descending",
         "title": {
          "text": "company_name"
         }
        },
        "yaxis": {
         "title": {
          "text": "min rev"
         }
        }
       }
      }
     },
     "metadata": {},
     "output_type": "display_data"
    },
    {
     "data": {
      "application/vnd.plotly.v1+json": {
       "config": {
        "plotlyServerURL": "https://plot.ly"
       },
       "data": [
        {
         "type": "bar",
         "x": [
          "AMPY.xlsx",
          "APA.xlsx",
          "AR.xlsx",
          "BATL.xlsx",
          "BCEI.xlsx",
          "BRY.xlsx",
          "BSM.xlsx",
          "CDEV.xlsx",
          "CHK.xlsx",
          "CLR.xlsx",
          "CNX.xlsx",
          "COG.xlsx",
          "COP.xlsx",
          "CPE.xlsx",
          "CRBO.xlsx",
          "CRC.xlsx",
          "CRK.xlsx",
          "DEN.xlsx",
          "DVN.xlsx",
          "EGY.xlsx",
          "EOG.xlsx",
          "EQT.xlsx",
          "ESTE.xlsx",
          "FANG.xlsx",
          "GDP.xlsx",
          "HES.xlsx",
          "LONE.xlsx",
          "LPI.xlsx",
          "MCF.xlsx",
          "MGY.xlsx",
          "MNRL.xlsx",
          "MRO.xlsx",
          "MTDR.xlsx",
          "MUR.xlsx",
          "NOG.xlsx",
          "OAS.xlsx",
          "OVV.xlsx",
          "PDCE.xlsx",
          "PVAC.xlsx",
          "PXD.xlsx",
          "REI.xlsx",
          "RRC.xlsx",
          "SBOW.xlsx",
          "SD.xlsx",
          "SM.xlsx",
          "SWN.xlsx",
          "TALO.xlsx",
          "TPL.xlsx",
          "VNOM.xlsx",
          "WLL.xlsx",
          "WTI.xlsx",
          "XEC.xlsx",
          "XOG.xlsx",
          "¦Ъ¦-¦¬¦¦¦-8.xlsx"
         ],
         "y": [
          166.518,
          4496,
          1242.779008,
          311.999008,
          155.376992,
          339.264992,
          246.047008,
          252.944,
          5190.000128,
          1645.328,
          1563.006976,
          716.300992,
          54174.998528,
          289.919008,
          42.465,
          1092,
          289.248,
          672.88,
          4800.999936,
          67.767,
          4625.866752,
          1231.453056,
          68.994,
          1116,
          65.364,
          10085.000192,
          55.709,
          345.776,
          78.555,
          255.055008,
          33.614,
          4124.999936,
          312.687008,
          7384.573952,
          506.784992,
          589.177984,
          2643.000064,
          368.155008,
          134.319008,
          2654.000128,
          52.231184,
          880.689024,
          157.904992,
          1377.181952,
          674.979968,
          1076,
          286.809984,
          191.324,
          92.711,
          825.76,
          262.994,
          649.529024,
          323.168992,
          323.168992
         ]
        }
       ],
       "layout": {
        "barmode": "stack",
        "template": {
         "data": {
          "bar": [
           {
            "error_x": {
             "color": "#2a3f5f"
            },
            "error_y": {
             "color": "#2a3f5f"
            },
            "marker": {
             "line": {
              "color": "#E5ECF6",
              "width": 0.5
             },
             "pattern": {
              "fillmode": "overlay",
              "size": 10,
              "solidity": 0.2
             }
            },
            "type": "bar"
           }
          ],
          "barpolar": [
           {
            "marker": {
             "line": {
              "color": "#E5ECF6",
              "width": 0.5
             },
             "pattern": {
              "fillmode": "overlay",
              "size": 10,
              "solidity": 0.2
             }
            },
            "type": "barpolar"
           }
          ],
          "carpet": [
           {
            "aaxis": {
             "endlinecolor": "#2a3f5f",
             "gridcolor": "white",
             "linecolor": "white",
             "minorgridcolor": "white",
             "startlinecolor": "#2a3f5f"
            },
            "baxis": {
             "endlinecolor": "#2a3f5f",
             "gridcolor": "white",
             "linecolor": "white",
             "minorgridcolor": "white",
             "startlinecolor": "#2a3f5f"
            },
            "type": "carpet"
           }
          ],
          "choropleth": [
           {
            "colorbar": {
             "outlinewidth": 0,
             "ticks": ""
            },
            "type": "choropleth"
           }
          ],
          "contour": [
           {
            "colorbar": {
             "outlinewidth": 0,
             "ticks": ""
            },
            "colorscale": [
             [
              0,
              "#0d0887"
             ],
             [
              0.1111111111111111,
              "#46039f"
             ],
             [
              0.2222222222222222,
              "#7201a8"
             ],
             [
              0.3333333333333333,
              "#9c179e"
             ],
             [
              0.4444444444444444,
              "#bd3786"
             ],
             [
              0.5555555555555556,
              "#d8576b"
             ],
             [
              0.6666666666666666,
              "#ed7953"
             ],
             [
              0.7777777777777778,
              "#fb9f3a"
             ],
             [
              0.8888888888888888,
              "#fdca26"
             ],
             [
              1,
              "#f0f921"
             ]
            ],
            "type": "contour"
           }
          ],
          "contourcarpet": [
           {
            "colorbar": {
             "outlinewidth": 0,
             "ticks": ""
            },
            "type": "contourcarpet"
           }
          ],
          "heatmap": [
           {
            "colorbar": {
             "outlinewidth": 0,
             "ticks": ""
            },
            "colorscale": [
             [
              0,
              "#0d0887"
             ],
             [
              0.1111111111111111,
              "#46039f"
             ],
             [
              0.2222222222222222,
              "#7201a8"
             ],
             [
              0.3333333333333333,
              "#9c179e"
             ],
             [
              0.4444444444444444,
              "#bd3786"
             ],
             [
              0.5555555555555556,
              "#d8576b"
             ],
             [
              0.6666666666666666,
              "#ed7953"
             ],
             [
              0.7777777777777778,
              "#fb9f3a"
             ],
             [
              0.8888888888888888,
              "#fdca26"
             ],
             [
              1,
              "#f0f921"
             ]
            ],
            "type": "heatmap"
           }
          ],
          "heatmapgl": [
           {
            "colorbar": {
             "outlinewidth": 0,
             "ticks": ""
            },
            "colorscale": [
             [
              0,
              "#0d0887"
             ],
             [
              0.1111111111111111,
              "#46039f"
             ],
             [
              0.2222222222222222,
              "#7201a8"
             ],
             [
              0.3333333333333333,
              "#9c179e"
             ],
             [
              0.4444444444444444,
              "#bd3786"
             ],
             [
              0.5555555555555556,
              "#d8576b"
             ],
             [
              0.6666666666666666,
              "#ed7953"
             ],
             [
              0.7777777777777778,
              "#fb9f3a"
             ],
             [
              0.8888888888888888,
              "#fdca26"
             ],
             [
              1,
              "#f0f921"
             ]
            ],
            "type": "heatmapgl"
           }
          ],
          "histogram": [
           {
            "marker": {
             "pattern": {
              "fillmode": "overlay",
              "size": 10,
              "solidity": 0.2
             }
            },
            "type": "histogram"
           }
          ],
          "histogram2d": [
           {
            "colorbar": {
             "outlinewidth": 0,
             "ticks": ""
            },
            "colorscale": [
             [
              0,
              "#0d0887"
             ],
             [
              0.1111111111111111,
              "#46039f"
             ],
             [
              0.2222222222222222,
              "#7201a8"
             ],
             [
              0.3333333333333333,
              "#9c179e"
             ],
             [
              0.4444444444444444,
              "#bd3786"
             ],
             [
              0.5555555555555556,
              "#d8576b"
             ],
             [
              0.6666666666666666,
              "#ed7953"
             ],
             [
              0.7777777777777778,
              "#fb9f3a"
             ],
             [
              0.8888888888888888,
              "#fdca26"
             ],
             [
              1,
              "#f0f921"
             ]
            ],
            "type": "histogram2d"
           }
          ],
          "histogram2dcontour": [
           {
            "colorbar": {
             "outlinewidth": 0,
             "ticks": ""
            },
            "colorscale": [
             [
              0,
              "#0d0887"
             ],
             [
              0.1111111111111111,
              "#46039f"
             ],
             [
              0.2222222222222222,
              "#7201a8"
             ],
             [
              0.3333333333333333,
              "#9c179e"
             ],
             [
              0.4444444444444444,
              "#bd3786"
             ],
             [
              0.5555555555555556,
              "#d8576b"
             ],
             [
              0.6666666666666666,
              "#ed7953"
             ],
             [
              0.7777777777777778,
              "#fb9f3a"
             ],
             [
              0.8888888888888888,
              "#fdca26"
             ],
             [
              1,
              "#f0f921"
             ]
            ],
            "type": "histogram2dcontour"
           }
          ],
          "mesh3d": [
           {
            "colorbar": {
             "outlinewidth": 0,
             "ticks": ""
            },
            "type": "mesh3d"
           }
          ],
          "parcoords": [
           {
            "line": {
             "colorbar": {
              "outlinewidth": 0,
              "ticks": ""
             }
            },
            "type": "parcoords"
           }
          ],
          "pie": [
           {
            "automargin": true,
            "type": "pie"
           }
          ],
          "scatter": [
           {
            "fillpattern": {
             "fillmode": "overlay",
             "size": 10,
             "solidity": 0.2
            },
            "type": "scatter"
           }
          ],
          "scatter3d": [
           {
            "line": {
             "colorbar": {
              "outlinewidth": 0,
              "ticks": ""
             }
            },
            "marker": {
             "colorbar": {
              "outlinewidth": 0,
              "ticks": ""
             }
            },
            "type": "scatter3d"
           }
          ],
          "scattercarpet": [
           {
            "marker": {
             "colorbar": {
              "outlinewidth": 0,
              "ticks": ""
             }
            },
            "type": "scattercarpet"
           }
          ],
          "scattergeo": [
           {
            "marker": {
             "colorbar": {
              "outlinewidth": 0,
              "ticks": ""
             }
            },
            "type": "scattergeo"
           }
          ],
          "scattergl": [
           {
            "marker": {
             "colorbar": {
              "outlinewidth": 0,
              "ticks": ""
             }
            },
            "type": "scattergl"
           }
          ],
          "scattermapbox": [
           {
            "marker": {
             "colorbar": {
              "outlinewidth": 0,
              "ticks": ""
             }
            },
            "type": "scattermapbox"
           }
          ],
          "scatterpolar": [
           {
            "marker": {
             "colorbar": {
              "outlinewidth": 0,
              "ticks": ""
             }
            },
            "type": "scatterpolar"
           }
          ],
          "scatterpolargl": [
           {
            "marker": {
             "colorbar": {
              "outlinewidth": 0,
              "ticks": ""
             }
            },
            "type": "scatterpolargl"
           }
          ],
          "scatterternary": [
           {
            "marker": {
             "colorbar": {
              "outlinewidth": 0,
              "ticks": ""
             }
            },
            "type": "scatterternary"
           }
          ],
          "surface": [
           {
            "colorbar": {
             "outlinewidth": 0,
             "ticks": ""
            },
            "colorscale": [
             [
              0,
              "#0d0887"
             ],
             [
              0.1111111111111111,
              "#46039f"
             ],
             [
              0.2222222222222222,
              "#7201a8"
             ],
             [
              0.3333333333333333,
              "#9c179e"
             ],
             [
              0.4444444444444444,
              "#bd3786"
             ],
             [
              0.5555555555555556,
              "#d8576b"
             ],
             [
              0.6666666666666666,
              "#ed7953"
             ],
             [
              0.7777777777777778,
              "#fb9f3a"
             ],
             [
              0.8888888888888888,
              "#fdca26"
             ],
             [
              1,
              "#f0f921"
             ]
            ],
            "type": "surface"
           }
          ],
          "table": [
           {
            "cells": {
             "fill": {
              "color": "#EBF0F8"
             },
             "line": {
              "color": "white"
             }
            },
            "header": {
             "fill": {
              "color": "#C8D4E3"
             },
             "line": {
              "color": "white"
             }
            },
            "type": "table"
           }
          ]
         },
         "layout": {
          "annotationdefaults": {
           "arrowcolor": "#2a3f5f",
           "arrowhead": 0,
           "arrowwidth": 1
          },
          "autotypenumbers": "strict",
          "coloraxis": {
           "colorbar": {
            "outlinewidth": 0,
            "ticks": ""
           }
          },
          "colorscale": {
           "diverging": [
            [
             0,
             "#8e0152"
            ],
            [
             0.1,
             "#c51b7d"
            ],
            [
             0.2,
             "#de77ae"
            ],
            [
             0.3,
             "#f1b6da"
            ],
            [
             0.4,
             "#fde0ef"
            ],
            [
             0.5,
             "#f7f7f7"
            ],
            [
             0.6,
             "#e6f5d0"
            ],
            [
             0.7,
             "#b8e186"
            ],
            [
             0.8,
             "#7fbc41"
            ],
            [
             0.9,
             "#4d9221"
            ],
            [
             1,
             "#276419"
            ]
           ],
           "sequential": [
            [
             0,
             "#0d0887"
            ],
            [
             0.1111111111111111,
             "#46039f"
            ],
            [
             0.2222222222222222,
             "#7201a8"
            ],
            [
             0.3333333333333333,
             "#9c179e"
            ],
            [
             0.4444444444444444,
             "#bd3786"
            ],
            [
             0.5555555555555556,
             "#d8576b"
            ],
            [
             0.6666666666666666,
             "#ed7953"
            ],
            [
             0.7777777777777778,
             "#fb9f3a"
            ],
            [
             0.8888888888888888,
             "#fdca26"
            ],
            [
             1,
             "#f0f921"
            ]
           ],
           "sequentialminus": [
            [
             0,
             "#0d0887"
            ],
            [
             0.1111111111111111,
             "#46039f"
            ],
            [
             0.2222222222222222,
             "#7201a8"
            ],
            [
             0.3333333333333333,
             "#9c179e"
            ],
            [
             0.4444444444444444,
             "#bd3786"
            ],
            [
             0.5555555555555556,
             "#d8576b"
            ],
            [
             0.6666666666666666,
             "#ed7953"
            ],
            [
             0.7777777777777778,
             "#fb9f3a"
            ],
            [
             0.8888888888888888,
             "#fdca26"
            ],
            [
             1,
             "#f0f921"
            ]
           ]
          },
          "colorway": [
           "#636efa",
           "#EF553B",
           "#00cc96",
           "#ab63fa",
           "#FFA15A",
           "#19d3f3",
           "#FF6692",
           "#B6E880",
           "#FF97FF",
           "#FECB52"
          ],
          "font": {
           "color": "#2a3f5f"
          },
          "geo": {
           "bgcolor": "white",
           "lakecolor": "white",
           "landcolor": "#E5ECF6",
           "showlakes": true,
           "showland": true,
           "subunitcolor": "white"
          },
          "hoverlabel": {
           "align": "left"
          },
          "hovermode": "closest",
          "mapbox": {
           "style": "light"
          },
          "paper_bgcolor": "white",
          "plot_bgcolor": "#E5ECF6",
          "polar": {
           "angularaxis": {
            "gridcolor": "white",
            "linecolor": "white",
            "ticks": ""
           },
           "bgcolor": "#E5ECF6",
           "radialaxis": {
            "gridcolor": "white",
            "linecolor": "white",
            "ticks": ""
           }
          },
          "scene": {
           "xaxis": {
            "backgroundcolor": "#E5ECF6",
            "gridcolor": "white",
            "gridwidth": 2,
            "linecolor": "white",
            "showbackground": true,
            "ticks": "",
            "zerolinecolor": "white"
           },
           "yaxis": {
            "backgroundcolor": "#E5ECF6",
            "gridcolor": "white",
            "gridwidth": 2,
            "linecolor": "white",
            "showbackground": true,
            "ticks": "",
            "zerolinecolor": "white"
           },
           "zaxis": {
            "backgroundcolor": "#E5ECF6",
            "gridcolor": "white",
            "gridwidth": 2,
            "linecolor": "white",
            "showbackground": true,
            "ticks": "",
            "zerolinecolor": "white"
           }
          },
          "shapedefaults": {
           "line": {
            "color": "#2a3f5f"
           }
          },
          "ternary": {
           "aaxis": {
            "gridcolor": "white",
            "linecolor": "white",
            "ticks": ""
           },
           "baxis": {
            "gridcolor": "white",
            "linecolor": "white",
            "ticks": ""
           },
           "bgcolor": "#E5ECF6",
           "caxis": {
            "gridcolor": "white",
            "linecolor": "white",
            "ticks": ""
           }
          },
          "title": {
           "x": 0.05
          },
          "xaxis": {
           "automargin": true,
           "gridcolor": "white",
           "linecolor": "white",
           "ticks": "",
           "title": {
            "standoff": 15
           },
           "zerolinecolor": "white",
           "zerolinewidth": 2
          },
          "yaxis": {
           "automargin": true,
           "gridcolor": "white",
           "linecolor": "white",
           "ticks": "",
           "title": {
            "standoff": 15
           },
           "zerolinecolor": "white",
           "zerolinewidth": 2
          }
         }
        },
        "xaxis": {
         "categoryorder": "total descending",
         "title": {
          "text": "company_name"
         }
        },
        "yaxis": {
         "title": {
          "text": "max rev"
         }
        }
       }
      }
     },
     "metadata": {},
     "output_type": "display_data"
    },
    {
     "data": {
      "application/vnd.plotly.v1+json": {
       "config": {
        "plotlyServerURL": "https://plot.ly"
       },
       "data": [
        {
         "type": "bar",
         "x": [
          "AMPY.xlsx",
          "APA.xlsx",
          "AR.xlsx",
          "BATL.xlsx",
          "BCEI.xlsx",
          "BRY.xlsx",
          "BSM.xlsx",
          "CDEV.xlsx",
          "CHK.xlsx",
          "CLR.xlsx",
          "CNX.xlsx",
          "COG.xlsx",
          "COP.xlsx",
          "CPE.xlsx",
          "CRBO.xlsx",
          "CRC.xlsx",
          "CRK.xlsx",
          "DEN.xlsx",
          "DVN.xlsx",
          "EGY.xlsx",
          "EOG.xlsx",
          "EQT.xlsx",
          "ESTE.xlsx",
          "FANG.xlsx",
          "GDP.xlsx",
          "HES.xlsx",
          "LONE.xlsx",
          "LPI.xlsx",
          "MCF.xlsx",
          "MGY.xlsx",
          "MNRL.xlsx",
          "MRO.xlsx",
          "MTDR.xlsx",
          "MUR.xlsx",
          "NOG.xlsx",
          "OAS.xlsx",
          "OVV.xlsx",
          "PDCE.xlsx",
          "PVAC.xlsx",
          "PXD.xlsx",
          "REI.xlsx",
          "RRC.xlsx",
          "SBOW.xlsx",
          "SD.xlsx",
          "SM.xlsx",
          "SWN.xlsx",
          "TALO.xlsx",
          "TPL.xlsx",
          "VNOM.xlsx",
          "WLL.xlsx",
          "WTI.xlsx",
          "XEC.xlsx",
          "XOG.xlsx",
          "¦Ъ¦-¦¬¦¦¦-8.xlsx"
         ],
         "y": [
          166.518,
          3900,
          1242.779008,
          287.802008,
          133.940296,
          339.264992,
          246.047008,
          252.944,
          4683.000128,
          1681.538,
          1324.6699839999999,
          507.2919999999999,
          51425.998591999996,
          266.756008,
          42.464798,
          1092,
          253.08499999999998,
          509.87,
          4406.999936,
          56.791,
          3268.4128,
          892.8590720000001,
          67.23,
          1116,
          59.11900000000001,
          9252.000192,
          55.709,
          345.776,
          66.00800000000001,
          255.055008,
          33.614,
          3628.999936,
          297.13867999999997,
          7174.70896,
          513.718992,
          530.9459840000001,
          1917.0000639999998,
          307.144008,
          147.722008,
          2146.8941440000003,
          52.231184,
          628.702016,
          133.058992,
          1360.526952,
          505.438976,
          546,
          205.93298399999998,
          185.60823200000002,
          92.711,
          734.16,
          185.27900000000002,
          403.86102400000004,
          323.168992,
          323.168992
         ]
        }
       ],
       "layout": {
        "barmode": "stack",
        "template": {
         "data": {
          "bar": [
           {
            "error_x": {
             "color": "#2a3f5f"
            },
            "error_y": {
             "color": "#2a3f5f"
            },
            "marker": {
             "line": {
              "color": "#E5ECF6",
              "width": 0.5
             },
             "pattern": {
              "fillmode": "overlay",
              "size": 10,
              "solidity": 0.2
             }
            },
            "type": "bar"
           }
          ],
          "barpolar": [
           {
            "marker": {
             "line": {
              "color": "#E5ECF6",
              "width": 0.5
             },
             "pattern": {
              "fillmode": "overlay",
              "size": 10,
              "solidity": 0.2
             }
            },
            "type": "barpolar"
           }
          ],
          "carpet": [
           {
            "aaxis": {
             "endlinecolor": "#2a3f5f",
             "gridcolor": "white",
             "linecolor": "white",
             "minorgridcolor": "white",
             "startlinecolor": "#2a3f5f"
            },
            "baxis": {
             "endlinecolor": "#2a3f5f",
             "gridcolor": "white",
             "linecolor": "white",
             "minorgridcolor": "white",
             "startlinecolor": "#2a3f5f"
            },
            "type": "carpet"
           }
          ],
          "choropleth": [
           {
            "colorbar": {
             "outlinewidth": 0,
             "ticks": ""
            },
            "type": "choropleth"
           }
          ],
          "contour": [
           {
            "colorbar": {
             "outlinewidth": 0,
             "ticks": ""
            },
            "colorscale": [
             [
              0,
              "#0d0887"
             ],
             [
              0.1111111111111111,
              "#46039f"
             ],
             [
              0.2222222222222222,
              "#7201a8"
             ],
             [
              0.3333333333333333,
              "#9c179e"
             ],
             [
              0.4444444444444444,
              "#bd3786"
             ],
             [
              0.5555555555555556,
              "#d8576b"
             ],
             [
              0.6666666666666666,
              "#ed7953"
             ],
             [
              0.7777777777777778,
              "#fb9f3a"
             ],
             [
              0.8888888888888888,
              "#fdca26"
             ],
             [
              1,
              "#f0f921"
             ]
            ],
            "type": "contour"
           }
          ],
          "contourcarpet": [
           {
            "colorbar": {
             "outlinewidth": 0,
             "ticks": ""
            },
            "type": "contourcarpet"
           }
          ],
          "heatmap": [
           {
            "colorbar": {
             "outlinewidth": 0,
             "ticks": ""
            },
            "colorscale": [
             [
              0,
              "#0d0887"
             ],
             [
              0.1111111111111111,
              "#46039f"
             ],
             [
              0.2222222222222222,
              "#7201a8"
             ],
             [
              0.3333333333333333,
              "#9c179e"
             ],
             [
              0.4444444444444444,
              "#bd3786"
             ],
             [
              0.5555555555555556,
              "#d8576b"
             ],
             [
              0.6666666666666666,
              "#ed7953"
             ],
             [
              0.7777777777777778,
              "#fb9f3a"
             ],
             [
              0.8888888888888888,
              "#fdca26"
             ],
             [
              1,
              "#f0f921"
             ]
            ],
            "type": "heatmap"
           }
          ],
          "heatmapgl": [
           {
            "colorbar": {
             "outlinewidth": 0,
             "ticks": ""
            },
            "colorscale": [
             [
              0,
              "#0d0887"
             ],
             [
              0.1111111111111111,
              "#46039f"
             ],
             [
              0.2222222222222222,
              "#7201a8"
             ],
             [
              0.3333333333333333,
              "#9c179e"
             ],
             [
              0.4444444444444444,
              "#bd3786"
             ],
             [
              0.5555555555555556,
              "#d8576b"
             ],
             [
              0.6666666666666666,
              "#ed7953"
             ],
             [
              0.7777777777777778,
              "#fb9f3a"
             ],
             [
              0.8888888888888888,
              "#fdca26"
             ],
             [
              1,
              "#f0f921"
             ]
            ],
            "type": "heatmapgl"
           }
          ],
          "histogram": [
           {
            "marker": {
             "pattern": {
              "fillmode": "overlay",
              "size": 10,
              "solidity": 0.2
             }
            },
            "type": "histogram"
           }
          ],
          "histogram2d": [
           {
            "colorbar": {
             "outlinewidth": 0,
             "ticks": ""
            },
            "colorscale": [
             [
              0,
              "#0d0887"
             ],
             [
              0.1111111111111111,
              "#46039f"
             ],
             [
              0.2222222222222222,
              "#7201a8"
             ],
             [
              0.3333333333333333,
              "#9c179e"
             ],
             [
              0.4444444444444444,
              "#bd3786"
             ],
             [
              0.5555555555555556,
              "#d8576b"
             ],
             [
              0.6666666666666666,
              "#ed7953"
             ],
             [
              0.7777777777777778,
              "#fb9f3a"
             ],
             [
              0.8888888888888888,
              "#fdca26"
             ],
             [
              1,
              "#f0f921"
             ]
            ],
            "type": "histogram2d"
           }
          ],
          "histogram2dcontour": [
           {
            "colorbar": {
             "outlinewidth": 0,
             "ticks": ""
            },
            "colorscale": [
             [
              0,
              "#0d0887"
             ],
             [
              0.1111111111111111,
              "#46039f"
             ],
             [
              0.2222222222222222,
              "#7201a8"
             ],
             [
              0.3333333333333333,
              "#9c179e"
             ],
             [
              0.4444444444444444,
              "#bd3786"
             ],
             [
              0.5555555555555556,
              "#d8576b"
             ],
             [
              0.6666666666666666,
              "#ed7953"
             ],
             [
              0.7777777777777778,
              "#fb9f3a"
             ],
             [
              0.8888888888888888,
              "#fdca26"
             ],
             [
              1,
              "#f0f921"
             ]
            ],
            "type": "histogram2dcontour"
           }
          ],
          "mesh3d": [
           {
            "colorbar": {
             "outlinewidth": 0,
             "ticks": ""
            },
            "type": "mesh3d"
           }
          ],
          "parcoords": [
           {
            "line": {
             "colorbar": {
              "outlinewidth": 0,
              "ticks": ""
             }
            },
            "type": "parcoords"
           }
          ],
          "pie": [
           {
            "automargin": true,
            "type": "pie"
           }
          ],
          "scatter": [
           {
            "fillpattern": {
             "fillmode": "overlay",
             "size": 10,
             "solidity": 0.2
            },
            "type": "scatter"
           }
          ],
          "scatter3d": [
           {
            "line": {
             "colorbar": {
              "outlinewidth": 0,
              "ticks": ""
             }
            },
            "marker": {
             "colorbar": {
              "outlinewidth": 0,
              "ticks": ""
             }
            },
            "type": "scatter3d"
           }
          ],
          "scattercarpet": [
           {
            "marker": {
             "colorbar": {
              "outlinewidth": 0,
              "ticks": ""
             }
            },
            "type": "scattercarpet"
           }
          ],
          "scattergeo": [
           {
            "marker": {
             "colorbar": {
              "outlinewidth": 0,
              "ticks": ""
             }
            },
            "type": "scattergeo"
           }
          ],
          "scattergl": [
           {
            "marker": {
             "colorbar": {
              "outlinewidth": 0,
              "ticks": ""
             }
            },
            "type": "scattergl"
           }
          ],
          "scattermapbox": [
           {
            "marker": {
             "colorbar": {
              "outlinewidth": 0,
              "ticks": ""
             }
            },
            "type": "scattermapbox"
           }
          ],
          "scatterpolar": [
           {
            "marker": {
             "colorbar": {
              "outlinewidth": 0,
              "ticks": ""
             }
            },
            "type": "scatterpolar"
           }
          ],
          "scatterpolargl": [
           {
            "marker": {
             "colorbar": {
              "outlinewidth": 0,
              "ticks": ""
             }
            },
            "type": "scatterpolargl"
           }
          ],
          "scatterternary": [
           {
            "marker": {
             "colorbar": {
              "outlinewidth": 0,
              "ticks": ""
             }
            },
            "type": "scatterternary"
           }
          ],
          "surface": [
           {
            "colorbar": {
             "outlinewidth": 0,
             "ticks": ""
            },
            "colorscale": [
             [
              0,
              "#0d0887"
             ],
             [
              0.1111111111111111,
              "#46039f"
             ],
             [
              0.2222222222222222,
              "#7201a8"
             ],
             [
              0.3333333333333333,
              "#9c179e"
             ],
             [
              0.4444444444444444,
              "#bd3786"
             ],
             [
              0.5555555555555556,
              "#d8576b"
             ],
             [
              0.6666666666666666,
              "#ed7953"
             ],
             [
              0.7777777777777778,
              "#fb9f3a"
             ],
             [
              0.8888888888888888,
              "#fdca26"
             ],
             [
              1,
              "#f0f921"
             ]
            ],
            "type": "surface"
           }
          ],
          "table": [
           {
            "cells": {
             "fill": {
              "color": "#EBF0F8"
             },
             "line": {
              "color": "white"
             }
            },
            "header": {
             "fill": {
              "color": "#C8D4E3"
             },
             "line": {
              "color": "white"
             }
            },
            "type": "table"
           }
          ]
         },
         "layout": {
          "annotationdefaults": {
           "arrowcolor": "#2a3f5f",
           "arrowhead": 0,
           "arrowwidth": 1
          },
          "autotypenumbers": "strict",
          "coloraxis": {
           "colorbar": {
            "outlinewidth": 0,
            "ticks": ""
           }
          },
          "colorscale": {
           "diverging": [
            [
             0,
             "#8e0152"
            ],
            [
             0.1,
             "#c51b7d"
            ],
            [
             0.2,
             "#de77ae"
            ],
            [
             0.3,
             "#f1b6da"
            ],
            [
             0.4,
             "#fde0ef"
            ],
            [
             0.5,
             "#f7f7f7"
            ],
            [
             0.6,
             "#e6f5d0"
            ],
            [
             0.7,
             "#b8e186"
            ],
            [
             0.8,
             "#7fbc41"
            ],
            [
             0.9,
             "#4d9221"
            ],
            [
             1,
             "#276419"
            ]
           ],
           "sequential": [
            [
             0,
             "#0d0887"
            ],
            [
             0.1111111111111111,
             "#46039f"
            ],
            [
             0.2222222222222222,
             "#7201a8"
            ],
            [
             0.3333333333333333,
             "#9c179e"
            ],
            [
             0.4444444444444444,
             "#bd3786"
            ],
            [
             0.5555555555555556,
             "#d8576b"
            ],
            [
             0.6666666666666666,
             "#ed7953"
            ],
            [
             0.7777777777777778,
             "#fb9f3a"
            ],
            [
             0.8888888888888888,
             "#fdca26"
            ],
            [
             1,
             "#f0f921"
            ]
           ],
           "sequentialminus": [
            [
             0,
             "#0d0887"
            ],
            [
             0.1111111111111111,
             "#46039f"
            ],
            [
             0.2222222222222222,
             "#7201a8"
            ],
            [
             0.3333333333333333,
             "#9c179e"
            ],
            [
             0.4444444444444444,
             "#bd3786"
            ],
            [
             0.5555555555555556,
             "#d8576b"
            ],
            [
             0.6666666666666666,
             "#ed7953"
            ],
            [
             0.7777777777777778,
             "#fb9f3a"
            ],
            [
             0.8888888888888888,
             "#fdca26"
            ],
            [
             1,
             "#f0f921"
            ]
           ]
          },
          "colorway": [
           "#636efa",
           "#EF553B",
           "#00cc96",
           "#ab63fa",
           "#FFA15A",
           "#19d3f3",
           "#FF6692",
           "#B6E880",
           "#FF97FF",
           "#FECB52"
          ],
          "font": {
           "color": "#2a3f5f"
          },
          "geo": {
           "bgcolor": "white",
           "lakecolor": "white",
           "landcolor": "#E5ECF6",
           "showlakes": true,
           "showland": true,
           "subunitcolor": "white"
          },
          "hoverlabel": {
           "align": "left"
          },
          "hovermode": "closest",
          "mapbox": {
           "style": "light"
          },
          "paper_bgcolor": "white",
          "plot_bgcolor": "#E5ECF6",
          "polar": {
           "angularaxis": {
            "gridcolor": "white",
            "linecolor": "white",
            "ticks": ""
           },
           "bgcolor": "#E5ECF6",
           "radialaxis": {
            "gridcolor": "white",
            "linecolor": "white",
            "ticks": ""
           }
          },
          "scene": {
           "xaxis": {
            "backgroundcolor": "#E5ECF6",
            "gridcolor": "white",
            "gridwidth": 2,
            "linecolor": "white",
            "showbackground": true,
            "ticks": "",
            "zerolinecolor": "white"
           },
           "yaxis": {
            "backgroundcolor": "#E5ECF6",
            "gridcolor": "white",
            "gridwidth": 2,
            "linecolor": "white",
            "showbackground": true,
            "ticks": "",
            "zerolinecolor": "white"
           },
           "zaxis": {
            "backgroundcolor": "#E5ECF6",
            "gridcolor": "white",
            "gridwidth": 2,
            "linecolor": "white",
            "showbackground": true,
            "ticks": "",
            "zerolinecolor": "white"
           }
          },
          "shapedefaults": {
           "line": {
            "color": "#2a3f5f"
           }
          },
          "ternary": {
           "aaxis": {
            "gridcolor": "white",
            "linecolor": "white",
            "ticks": ""
           },
           "baxis": {
            "gridcolor": "white",
            "linecolor": "white",
            "ticks": ""
           },
           "bgcolor": "#E5ECF6",
           "caxis": {
            "gridcolor": "white",
            "linecolor": "white",
            "ticks": ""
           }
          },
          "title": {
           "x": 0.05
          },
          "xaxis": {
           "automargin": true,
           "gridcolor": "white",
           "linecolor": "white",
           "ticks": "",
           "title": {
            "standoff": 15
           },
           "zerolinecolor": "white",
           "zerolinewidth": 2
          },
          "yaxis": {
           "automargin": true,
           "gridcolor": "white",
           "linecolor": "white",
           "ticks": "",
           "title": {
            "standoff": 15
           },
           "zerolinecolor": "white",
           "zerolinewidth": 2
          }
         }
        },
        "xaxis": {
         "categoryorder": "total descending",
         "title": {
          "text": "company_name"
         }
        },
        "yaxis": {
         "title": {
          "text": "max-min rev"
         }
        }
       }
      }
     },
     "metadata": {},
     "output_type": "display_data"
    },
    {
     "data": {
      "application/vnd.plotly.v1+json": {
       "config": {
        "plotlyServerURL": "https://plot.ly"
       },
       "data": [
        {
         "type": "bar",
         "x": [
          "AMPY.xlsx",
          "APA.xlsx",
          "AR.xlsx",
          "BATL.xlsx",
          "BCEI.xlsx",
          "BRY.xlsx",
          "BSM.xlsx",
          "CDEV.xlsx",
          "CHK.xlsx",
          "CLR.xlsx",
          "CNX.xlsx",
          "COG.xlsx",
          "COP.xlsx",
          "CPE.xlsx",
          "CRBO.xlsx",
          "CRC.xlsx",
          "CRK.xlsx",
          "DEN.xlsx",
          "DVN.xlsx",
          "EGY.xlsx",
          "EOG.xlsx",
          "EQT.xlsx",
          "ESTE.xlsx",
          "FANG.xlsx",
          "GDP.xlsx",
          "HES.xlsx",
          "LONE.xlsx",
          "LPI.xlsx",
          "MCF.xlsx",
          "MGY.xlsx",
          "MNRL.xlsx",
          "MRO.xlsx",
          "MTDR.xlsx",
          "MUR.xlsx",
          "NOG.xlsx",
          "OAS.xlsx",
          "OVV.xlsx",
          "PDCE.xlsx",
          "PVAC.xlsx",
          "PXD.xlsx",
          "REI.xlsx",
          "RRC.xlsx",
          "SBOW.xlsx",
          "SD.xlsx",
          "SM.xlsx",
          "SWN.xlsx",
          "TALO.xlsx",
          "TPL.xlsx",
          "VNOM.xlsx",
          "WLL.xlsx",
          "WTI.xlsx",
          "XEC.xlsx",
          "XOG.xlsx",
          "¦Ъ¦-¦¬¦¦¦-8.xlsx"
         ],
         "y": [
          3030.858992,
          96211.000064,
          23337.370992,
          5189.649032,
          2810.521024,
          1671.0549760000001,
          2601.364,
          2669.080008,
          114330.00031999999,
          30744.562031999998,
          26980.481056,
          15355.475968,
          427379.998464,
          2923.159016,
          325.494886,
          14668,
          4063.656016,
          16520.641024,
          100274.000128,
          1145.773,
          120075.295488,
          24840.251968,
          684.295,
          10800.830643,
          1359.814,
          110712.99968,
          606.870456,
          7204.756,
          1294.63264,
          2294.341008,
          146.4,
          79668.000192,
          4386.133516,
          70465.86736,
          3779.802204,
          11543.790984,
          56610.000256,
          7189.959912,
          3298.922008,
          49480.601216,
          531.998496,
          19438.552992,
          3497.702944,
          9890.14096,
          15604.346048,
          30235.003136,
          7021.951928,
          1419.19851,
          1102.677,
          18782.590896,
          6502.27404,
          17946.592,
          3137.106008,
          3137.106008
         ]
        }
       ],
       "layout": {
        "barmode": "stack",
        "template": {
         "data": {
          "bar": [
           {
            "error_x": {
             "color": "#2a3f5f"
            },
            "error_y": {
             "color": "#2a3f5f"
            },
            "marker": {
             "line": {
              "color": "#E5ECF6",
              "width": 0.5
             },
             "pattern": {
              "fillmode": "overlay",
              "size": 10,
              "solidity": 0.2
             }
            },
            "type": "bar"
           }
          ],
          "barpolar": [
           {
            "marker": {
             "line": {
              "color": "#E5ECF6",
              "width": 0.5
             },
             "pattern": {
              "fillmode": "overlay",
              "size": 10,
              "solidity": 0.2
             }
            },
            "type": "barpolar"
           }
          ],
          "carpet": [
           {
            "aaxis": {
             "endlinecolor": "#2a3f5f",
             "gridcolor": "white",
             "linecolor": "white",
             "minorgridcolor": "white",
             "startlinecolor": "#2a3f5f"
            },
            "baxis": {
             "endlinecolor": "#2a3f5f",
             "gridcolor": "white",
             "linecolor": "white",
             "minorgridcolor": "white",
             "startlinecolor": "#2a3f5f"
            },
            "type": "carpet"
           }
          ],
          "choropleth": [
           {
            "colorbar": {
             "outlinewidth": 0,
             "ticks": ""
            },
            "type": "choropleth"
           }
          ],
          "contour": [
           {
            "colorbar": {
             "outlinewidth": 0,
             "ticks": ""
            },
            "colorscale": [
             [
              0,
              "#0d0887"
             ],
             [
              0.1111111111111111,
              "#46039f"
             ],
             [
              0.2222222222222222,
              "#7201a8"
             ],
             [
              0.3333333333333333,
              "#9c179e"
             ],
             [
              0.4444444444444444,
              "#bd3786"
             ],
             [
              0.5555555555555556,
              "#d8576b"
             ],
             [
              0.6666666666666666,
              "#ed7953"
             ],
             [
              0.7777777777777778,
              "#fb9f3a"
             ],
             [
              0.8888888888888888,
              "#fdca26"
             ],
             [
              1,
              "#f0f921"
             ]
            ],
            "type": "contour"
           }
          ],
          "contourcarpet": [
           {
            "colorbar": {
             "outlinewidth": 0,
             "ticks": ""
            },
            "type": "contourcarpet"
           }
          ],
          "heatmap": [
           {
            "colorbar": {
             "outlinewidth": 0,
             "ticks": ""
            },
            "colorscale": [
             [
              0,
              "#0d0887"
             ],
             [
              0.1111111111111111,
              "#46039f"
             ],
             [
              0.2222222222222222,
              "#7201a8"
             ],
             [
              0.3333333333333333,
              "#9c179e"
             ],
             [
              0.4444444444444444,
              "#bd3786"
             ],
             [
              0.5555555555555556,
              "#d8576b"
             ],
             [
              0.6666666666666666,
              "#ed7953"
             ],
             [
              0.7777777777777778,
              "#fb9f3a"
             ],
             [
              0.8888888888888888,
              "#fdca26"
             ],
             [
              1,
              "#f0f921"
             ]
            ],
            "type": "heatmap"
           }
          ],
          "heatmapgl": [
           {
            "colorbar": {
             "outlinewidth": 0,
             "ticks": ""
            },
            "colorscale": [
             [
              0,
              "#0d0887"
             ],
             [
              0.1111111111111111,
              "#46039f"
             ],
             [
              0.2222222222222222,
              "#7201a8"
             ],
             [
              0.3333333333333333,
              "#9c179e"
             ],
             [
              0.4444444444444444,
              "#bd3786"
             ],
             [
              0.5555555555555556,
              "#d8576b"
             ],
             [
              0.6666666666666666,
              "#ed7953"
             ],
             [
              0.7777777777777778,
              "#fb9f3a"
             ],
             [
              0.8888888888888888,
              "#fdca26"
             ],
             [
              1,
              "#f0f921"
             ]
            ],
            "type": "heatmapgl"
           }
          ],
          "histogram": [
           {
            "marker": {
             "pattern": {
              "fillmode": "overlay",
              "size": 10,
              "solidity": 0.2
             }
            },
            "type": "histogram"
           }
          ],
          "histogram2d": [
           {
            "colorbar": {
             "outlinewidth": 0,
             "ticks": ""
            },
            "colorscale": [
             [
              0,
              "#0d0887"
             ],
             [
              0.1111111111111111,
              "#46039f"
             ],
             [
              0.2222222222222222,
              "#7201a8"
             ],
             [
              0.3333333333333333,
              "#9c179e"
             ],
             [
              0.4444444444444444,
              "#bd3786"
             ],
             [
              0.5555555555555556,
              "#d8576b"
             ],
             [
              0.6666666666666666,
              "#ed7953"
             ],
             [
              0.7777777777777778,
              "#fb9f3a"
             ],
             [
              0.8888888888888888,
              "#fdca26"
             ],
             [
              1,
              "#f0f921"
             ]
            ],
            "type": "histogram2d"
           }
          ],
          "histogram2dcontour": [
           {
            "colorbar": {
             "outlinewidth": 0,
             "ticks": ""
            },
            "colorscale": [
             [
              0,
              "#0d0887"
             ],
             [
              0.1111111111111111,
              "#46039f"
             ],
             [
              0.2222222222222222,
              "#7201a8"
             ],
             [
              0.3333333333333333,
              "#9c179e"
             ],
             [
              0.4444444444444444,
              "#bd3786"
             ],
             [
              0.5555555555555556,
              "#d8576b"
             ],
             [
              0.6666666666666666,
              "#ed7953"
             ],
             [
              0.7777777777777778,
              "#fb9f3a"
             ],
             [
              0.8888888888888888,
              "#fdca26"
             ],
             [
              1,
              "#f0f921"
             ]
            ],
            "type": "histogram2dcontour"
           }
          ],
          "mesh3d": [
           {
            "colorbar": {
             "outlinewidth": 0,
             "ticks": ""
            },
            "type": "mesh3d"
           }
          ],
          "parcoords": [
           {
            "line": {
             "colorbar": {
              "outlinewidth": 0,
              "ticks": ""
             }
            },
            "type": "parcoords"
           }
          ],
          "pie": [
           {
            "automargin": true,
            "type": "pie"
           }
          ],
          "scatter": [
           {
            "fillpattern": {
             "fillmode": "overlay",
             "size": 10,
             "solidity": 0.2
            },
            "type": "scatter"
           }
          ],
          "scatter3d": [
           {
            "line": {
             "colorbar": {
              "outlinewidth": 0,
              "ticks": ""
             }
            },
            "marker": {
             "colorbar": {
              "outlinewidth": 0,
              "ticks": ""
             }
            },
            "type": "scatter3d"
           }
          ],
          "scattercarpet": [
           {
            "marker": {
             "colorbar": {
              "outlinewidth": 0,
              "ticks": ""
             }
            },
            "type": "scattercarpet"
           }
          ],
          "scattergeo": [
           {
            "marker": {
             "colorbar": {
              "outlinewidth": 0,
              "ticks": ""
             }
            },
            "type": "scattergeo"
           }
          ],
          "scattergl": [
           {
            "marker": {
             "colorbar": {
              "outlinewidth": 0,
              "ticks": ""
             }
            },
            "type": "scattergl"
           }
          ],
          "scattermapbox": [
           {
            "marker": {
             "colorbar": {
              "outlinewidth": 0,
              "ticks": ""
             }
            },
            "type": "scattermapbox"
           }
          ],
          "scatterpolar": [
           {
            "marker": {
             "colorbar": {
              "outlinewidth": 0,
              "ticks": ""
             }
            },
            "type": "scatterpolar"
           }
          ],
          "scatterpolargl": [
           {
            "marker": {
             "colorbar": {
              "outlinewidth": 0,
              "ticks": ""
             }
            },
            "type": "scatterpolargl"
           }
          ],
          "scatterternary": [
           {
            "marker": {
             "colorbar": {
              "outlinewidth": 0,
              "ticks": ""
             }
            },
            "type": "scatterternary"
           }
          ],
          "surface": [
           {
            "colorbar": {
             "outlinewidth": 0,
             "ticks": ""
            },
            "colorscale": [
             [
              0,
              "#0d0887"
             ],
             [
              0.1111111111111111,
              "#46039f"
             ],
             [
              0.2222222222222222,
              "#7201a8"
             ],
             [
              0.3333333333333333,
              "#9c179e"
             ],
             [
              0.4444444444444444,
              "#bd3786"
             ],
             [
              0.5555555555555556,
              "#d8576b"
             ],
             [
              0.6666666666666666,
              "#ed7953"
             ],
             [
              0.7777777777777778,
              "#fb9f3a"
             ],
             [
              0.8888888888888888,
              "#fdca26"
             ],
             [
              1,
              "#f0f921"
             ]
            ],
            "type": "surface"
           }
          ],
          "table": [
           {
            "cells": {
             "fill": {
              "color": "#EBF0F8"
             },
             "line": {
              "color": "white"
             }
            },
            "header": {
             "fill": {
              "color": "#C8D4E3"
             },
             "line": {
              "color": "white"
             }
            },
            "type": "table"
           }
          ]
         },
         "layout": {
          "annotationdefaults": {
           "arrowcolor": "#2a3f5f",
           "arrowhead": 0,
           "arrowwidth": 1
          },
          "autotypenumbers": "strict",
          "coloraxis": {
           "colorbar": {
            "outlinewidth": 0,
            "ticks": ""
           }
          },
          "colorscale": {
           "diverging": [
            [
             0,
             "#8e0152"
            ],
            [
             0.1,
             "#c51b7d"
            ],
            [
             0.2,
             "#de77ae"
            ],
            [
             0.3,
             "#f1b6da"
            ],
            [
             0.4,
             "#fde0ef"
            ],
            [
             0.5,
             "#f7f7f7"
            ],
            [
             0.6,
             "#e6f5d0"
            ],
            [
             0.7,
             "#b8e186"
            ],
            [
             0.8,
             "#7fbc41"
            ],
            [
             0.9,
             "#4d9221"
            ],
            [
             1,
             "#276419"
            ]
           ],
           "sequential": [
            [
             0,
             "#0d0887"
            ],
            [
             0.1111111111111111,
             "#46039f"
            ],
            [
             0.2222222222222222,
             "#7201a8"
            ],
            [
             0.3333333333333333,
             "#9c179e"
            ],
            [
             0.4444444444444444,
             "#bd3786"
            ],
            [
             0.5555555555555556,
             "#d8576b"
            ],
            [
             0.6666666666666666,
             "#ed7953"
            ],
            [
             0.7777777777777778,
             "#fb9f3a"
            ],
            [
             0.8888888888888888,
             "#fdca26"
            ],
            [
             1,
             "#f0f921"
            ]
           ],
           "sequentialminus": [
            [
             0,
             "#0d0887"
            ],
            [
             0.1111111111111111,
             "#46039f"
            ],
            [
             0.2222222222222222,
             "#7201a8"
            ],
            [
             0.3333333333333333,
             "#9c179e"
            ],
            [
             0.4444444444444444,
             "#bd3786"
            ],
            [
             0.5555555555555556,
             "#d8576b"
            ],
            [
             0.6666666666666666,
             "#ed7953"
            ],
            [
             0.7777777777777778,
             "#fb9f3a"
            ],
            [
             0.8888888888888888,
             "#fdca26"
            ],
            [
             1,
             "#f0f921"
            ]
           ]
          },
          "colorway": [
           "#636efa",
           "#EF553B",
           "#00cc96",
           "#ab63fa",
           "#FFA15A",
           "#19d3f3",
           "#FF6692",
           "#B6E880",
           "#FF97FF",
           "#FECB52"
          ],
          "font": {
           "color": "#2a3f5f"
          },
          "geo": {
           "bgcolor": "white",
           "lakecolor": "white",
           "landcolor": "#E5ECF6",
           "showlakes": true,
           "showland": true,
           "subunitcolor": "white"
          },
          "hoverlabel": {
           "align": "left"
          },
          "hovermode": "closest",
          "mapbox": {
           "style": "light"
          },
          "paper_bgcolor": "white",
          "plot_bgcolor": "#E5ECF6",
          "polar": {
           "angularaxis": {
            "gridcolor": "white",
            "linecolor": "white",
            "ticks": ""
           },
           "bgcolor": "#E5ECF6",
           "radialaxis": {
            "gridcolor": "white",
            "linecolor": "white",
            "ticks": ""
           }
          },
          "scene": {
           "xaxis": {
            "backgroundcolor": "#E5ECF6",
            "gridcolor": "white",
            "gridwidth": 2,
            "linecolor": "white",
            "showbackground": true,
            "ticks": "",
            "zerolinecolor": "white"
           },
           "yaxis": {
            "backgroundcolor": "#E5ECF6",
            "gridcolor": "white",
            "gridwidth": 2,
            "linecolor": "white",
            "showbackground": true,
            "ticks": "",
            "zerolinecolor": "white"
           },
           "zaxis": {
            "backgroundcolor": "#E5ECF6",
            "gridcolor": "white",
            "gridwidth": 2,
            "linecolor": "white",
            "showbackground": true,
            "ticks": "",
            "zerolinecolor": "white"
           }
          },
          "shapedefaults": {
           "line": {
            "color": "#2a3f5f"
           }
          },
          "ternary": {
           "aaxis": {
            "gridcolor": "white",
            "linecolor": "white",
            "ticks": ""
           },
           "baxis": {
            "gridcolor": "white",
            "linecolor": "white",
            "ticks": ""
           },
           "bgcolor": "#E5ECF6",
           "caxis": {
            "gridcolor": "white",
            "linecolor": "white",
            "ticks": ""
           }
          },
          "title": {
           "x": 0.05
          },
          "xaxis": {
           "automargin": true,
           "gridcolor": "white",
           "linecolor": "white",
           "ticks": "",
           "title": {
            "standoff": 15
           },
           "zerolinecolor": "white",
           "zerolinewidth": 2
          },
          "yaxis": {
           "automargin": true,
           "gridcolor": "white",
           "linecolor": "white",
           "ticks": "",
           "title": {
            "standoff": 15
           },
           "zerolinecolor": "white",
           "zerolinewidth": 2
          }
         }
        },
        "xaxis": {
         "categoryorder": "total descending",
         "title": {
          "text": "company_name"
         }
        },
        "yaxis": {
         "title": {
          "text": "sum rev"
         }
        }
       }
      }
     },
     "metadata": {},
     "output_type": "display_data"
    }
   ],
   "source": [
    "min_rev_by_comp = df.groupby(['Company_name_329'])['Revenue_0'].min()\n",
    "max_rev_by_comp = df.groupby(['Company_name_329'])['Revenue_0'].max()\n",
    "sum_rev_by_comp = df.groupby(['Company_name_329'])['Revenue_0'].sum()\n",
    "bar_plot(min_rev_by_comp, 'min rev')\n",
    "bar_plot(max_rev_by_comp, 'max rev')\n",
    "\n",
    "bar_plot(max_rev_by_comp - min_rev_by_comp, 'max-min rev')\n",
    "\n",
    "bar_plot(sum_rev_by_comp, 'sum rev')\n"
   ]
  },
  {
   "cell_type": "code",
   "execution_count": 73,
   "metadata": {},
   "outputs": [
    {
     "data": {
      "text/html": [
       "<div>\n",
       "<style scoped>\n",
       "    .dataframe tbody tr th:only-of-type {\n",
       "        vertical-align: middle;\n",
       "    }\n",
       "\n",
       "    .dataframe tbody tr th {\n",
       "        vertical-align: top;\n",
       "    }\n",
       "\n",
       "    .dataframe thead th {\n",
       "        text-align: right;\n",
       "    }\n",
       "</style>\n",
       "<table border=\"1\" class=\"dataframe\">\n",
       "  <thead>\n",
       "    <tr style=\"text-align: right;\">\n",
       "      <th></th>\n",
       "      <th>Revenue_0</th>\n",
       "      <th>Consensus:_1</th>\n",
       "      <th>% Surprise | % Est. vs Consensus_2</th>\n",
       "      <th>Revenue Growth (YoY)_3</th>\n",
       "      <th>Cost of Revenue_4</th>\n",
       "      <th>Gross Profit_5</th>\n",
       "      <th>Gross margin_6</th>\n",
       "      <th>Other Operating Income_7</th>\n",
       "      <th>Operating Expenses_8</th>\n",
       "      <th>Selling, General &amp; Admin_9</th>\n",
       "      <th>Depreciation &amp; Amortization_11</th>\n",
       "      <th>Prov. For Doubful Accounts_12</th>\n",
       "      <th>Other Operating Expenses_13</th>\n",
       "      <th>Operating Income_14</th>\n",
       "      <th>Operating Margin_15</th>\n",
       "      <th>Non-Operating Income (Loss)_16</th>\n",
       "      <th>Interest Expense, Net_17</th>\n",
       "      <th>Interest Expense_18</th>\n",
       "      <th>Interest Income_19</th>\n",
       "      <th>Foreign Exch Gain (Loss)_21</th>\n",
       "      <th>Income (Loss) from Affiliates (Pre Tax)_22</th>\n",
       "      <th>Other Non-Op Income (Loss)_23</th>\n",
       "      <th>Pretax Income_24</th>\n",
       "      <th>Consensus:_25</th>\n",
       "      <th>% Surprise | % Est. vs Consensus_26</th>\n",
       "      <th>...</th>\n",
       "      <th>Dividends_297</th>\n",
       "      <th>Net Share Repurchases_298</th>\n",
       "      <th>Other_299</th>\n",
       "      <th>Ending Equity_300</th>\n",
       "      <th>Beginning Shs Out_302</th>\n",
       "      <th>Shares Repurchased_303</th>\n",
       "      <th>Avg. Price per share_304</th>\n",
       "      <th>Shares Issued_305</th>\n",
       "      <th>Ending Shs Out_307</th>\n",
       "      <th>Share Repurchase amount_311</th>\n",
       "      <th>Net Shares Repurchased_312</th>\n",
       "      <th>EBITDAR_316</th>\n",
       "      <th>EBITDAR (8x Rental Expense)_317</th>\n",
       "      <th>EBITDA Margin_318</th>\n",
       "      <th>EBITDA / Interest_319</th>\n",
       "      <th>EBITDA - CAPEX / Interest_320</th>\n",
       "      <th>CAPEX / REVENUE_321</th>\n",
       "      <th>CAPEX / EBITDA_322</th>\n",
       "      <th>FCF / DEBT_323</th>\n",
       "      <th>Gross Leverage (Total Debt / EBITDA)_324</th>\n",
       "      <th>Net Leverage (Net Debt / EBITDA)_325</th>\n",
       "      <th>Total Liabilities / Tangible Assets_326</th>\n",
       "      <th>Cash + AR / Total Assets_327</th>\n",
       "      <th>Cash % of Revenue_328</th>\n",
       "      <th>Company_name_329</th>\n",
       "    </tr>\n",
       "  </thead>\n",
       "  <tbody>\n",
       "    <tr>\n",
       "      <th>2011-03-31</th>\n",
       "      <td>0.000000</td>\n",
       "      <td>0.0</td>\n",
       "      <td>0.0</td>\n",
       "      <td>NaN</td>\n",
       "      <td>0.000000</td>\n",
       "      <td>0.000000</td>\n",
       "      <td>0.000000</td>\n",
       "      <td>0.0</td>\n",
       "      <td>0.000</td>\n",
       "      <td>0.000</td>\n",
       "      <td>0.000000</td>\n",
       "      <td>0.0</td>\n",
       "      <td>0.000</td>\n",
       "      <td>0.000</td>\n",
       "      <td>0.000000</td>\n",
       "      <td>0.000</td>\n",
       "      <td>0.000</td>\n",
       "      <td>0.000</td>\n",
       "      <td>0.000</td>\n",
       "      <td>0</td>\n",
       "      <td>0.0</td>\n",
       "      <td>0.000</td>\n",
       "      <td>0.000000</td>\n",
       "      <td>0.0</td>\n",
       "      <td>0.0</td>\n",
       "      <td>...</td>\n",
       "      <td>0.000</td>\n",
       "      <td>0.000</td>\n",
       "      <td>-255.879008</td>\n",
       "      <td>0.000000</td>\n",
       "      <td>0.000000</td>\n",
       "      <td>0.0</td>\n",
       "      <td>0.0</td>\n",
       "      <td>0.000000</td>\n",
       "      <td>0.000000</td>\n",
       "      <td>0.0</td>\n",
       "      <td>NaN</td>\n",
       "      <td>0.000</td>\n",
       "      <td>0.000</td>\n",
       "      <td>NaN</td>\n",
       "      <td>NaN</td>\n",
       "      <td>NaN</td>\n",
       "      <td>NaN</td>\n",
       "      <td>NaN</td>\n",
       "      <td>NaN</td>\n",
       "      <td>NaN</td>\n",
       "      <td>NaN</td>\n",
       "      <td>NaN</td>\n",
       "      <td>NaN</td>\n",
       "      <td>NaN</td>\n",
       "      <td>AMPY.xlsx</td>\n",
       "    </tr>\n",
       "    <tr>\n",
       "      <th>2011-06-30</th>\n",
       "      <td>0.000000</td>\n",
       "      <td>0.0</td>\n",
       "      <td>0.0</td>\n",
       "      <td>NaN</td>\n",
       "      <td>0.000000</td>\n",
       "      <td>0.000000</td>\n",
       "      <td>0.000000</td>\n",
       "      <td>0.0</td>\n",
       "      <td>0.000</td>\n",
       "      <td>0.000</td>\n",
       "      <td>0.000000</td>\n",
       "      <td>0.0</td>\n",
       "      <td>0.000</td>\n",
       "      <td>0.000</td>\n",
       "      <td>0.000000</td>\n",
       "      <td>0.000</td>\n",
       "      <td>0.000</td>\n",
       "      <td>0.000</td>\n",
       "      <td>0.000</td>\n",
       "      <td>0</td>\n",
       "      <td>0.0</td>\n",
       "      <td>0.000</td>\n",
       "      <td>0.000000</td>\n",
       "      <td>0.0</td>\n",
       "      <td>0.0</td>\n",
       "      <td>...</td>\n",
       "      <td>0.000</td>\n",
       "      <td>0.000</td>\n",
       "      <td>0.000000</td>\n",
       "      <td>0.000000</td>\n",
       "      <td>0.000000</td>\n",
       "      <td>0.0</td>\n",
       "      <td>0.0</td>\n",
       "      <td>0.000000</td>\n",
       "      <td>0.000000</td>\n",
       "      <td>0.0</td>\n",
       "      <td>NaN</td>\n",
       "      <td>0.000</td>\n",
       "      <td>0.000</td>\n",
       "      <td>NaN</td>\n",
       "      <td>NaN</td>\n",
       "      <td>NaN</td>\n",
       "      <td>NaN</td>\n",
       "      <td>NaN</td>\n",
       "      <td>NaN</td>\n",
       "      <td>NaN</td>\n",
       "      <td>NaN</td>\n",
       "      <td>NaN</td>\n",
       "      <td>NaN</td>\n",
       "      <td>NaN</td>\n",
       "      <td>AMPY.xlsx</td>\n",
       "    </tr>\n",
       "    <tr>\n",
       "      <th>2011-09-30</th>\n",
       "      <td>0.000000</td>\n",
       "      <td>0.0</td>\n",
       "      <td>0.0</td>\n",
       "      <td>NaN</td>\n",
       "      <td>0.000000</td>\n",
       "      <td>0.000000</td>\n",
       "      <td>0.000000</td>\n",
       "      <td>0.0</td>\n",
       "      <td>0.000</td>\n",
       "      <td>0.000</td>\n",
       "      <td>0.000000</td>\n",
       "      <td>0.0</td>\n",
       "      <td>0.000</td>\n",
       "      <td>0.000</td>\n",
       "      <td>0.000000</td>\n",
       "      <td>0.000</td>\n",
       "      <td>0.000</td>\n",
       "      <td>0.000</td>\n",
       "      <td>0.000</td>\n",
       "      <td>0</td>\n",
       "      <td>0.0</td>\n",
       "      <td>0.000</td>\n",
       "      <td>0.000000</td>\n",
       "      <td>0.0</td>\n",
       "      <td>0.0</td>\n",
       "      <td>...</td>\n",
       "      <td>0.000</td>\n",
       "      <td>0.000</td>\n",
       "      <td>0.000000</td>\n",
       "      <td>0.000000</td>\n",
       "      <td>0.000000</td>\n",
       "      <td>0.0</td>\n",
       "      <td>0.0</td>\n",
       "      <td>0.000000</td>\n",
       "      <td>0.000000</td>\n",
       "      <td>0.0</td>\n",
       "      <td>NaN</td>\n",
       "      <td>0.000</td>\n",
       "      <td>0.000</td>\n",
       "      <td>NaN</td>\n",
       "      <td>NaN</td>\n",
       "      <td>NaN</td>\n",
       "      <td>NaN</td>\n",
       "      <td>NaN</td>\n",
       "      <td>NaN</td>\n",
       "      <td>NaN</td>\n",
       "      <td>NaN</td>\n",
       "      <td>NaN</td>\n",
       "      <td>NaN</td>\n",
       "      <td>NaN</td>\n",
       "      <td>AMPY.xlsx</td>\n",
       "    </tr>\n",
       "    <tr>\n",
       "      <th>2011-12-31</th>\n",
       "      <td>61.863000</td>\n",
       "      <td>0.0</td>\n",
       "      <td>0.0</td>\n",
       "      <td>NaN</td>\n",
       "      <td>-36.854000</td>\n",
       "      <td>25.009000</td>\n",
       "      <td>0.404264</td>\n",
       "      <td>0.0</td>\n",
       "      <td>-57.298</td>\n",
       "      <td>-53.396</td>\n",
       "      <td>0.000000</td>\n",
       "      <td>0.0</td>\n",
       "      <td>-3.902</td>\n",
       "      <td>-32.289</td>\n",
       "      <td>0.000000</td>\n",
       "      <td>-1.351</td>\n",
       "      <td>-1.351</td>\n",
       "      <td>-1.359</td>\n",
       "      <td>0.008</td>\n",
       "      <td>0</td>\n",
       "      <td>0.0</td>\n",
       "      <td>0.000</td>\n",
       "      <td>-33.640000</td>\n",
       "      <td>0.0</td>\n",
       "      <td>0.0</td>\n",
       "      <td>...</td>\n",
       "      <td>0.000</td>\n",
       "      <td>2.700</td>\n",
       "      <td>266.145016</td>\n",
       "      <td>285.502016</td>\n",
       "      <td>0.000000</td>\n",
       "      <td>0.0</td>\n",
       "      <td>0.0</td>\n",
       "      <td>0.000000</td>\n",
       "      <td>0.000000</td>\n",
       "      <td>0.0</td>\n",
       "      <td>NaN</td>\n",
       "      <td>-2.230</td>\n",
       "      <td>-2.230</td>\n",
       "      <td>NaN</td>\n",
       "      <td>NaN</td>\n",
       "      <td>NaN</td>\n",
       "      <td>NaN</td>\n",
       "      <td>NaN</td>\n",
       "      <td>NaN</td>\n",
       "      <td>NaN</td>\n",
       "      <td>NaN</td>\n",
       "      <td>NaN</td>\n",
       "      <td>NaN</td>\n",
       "      <td>NaN</td>\n",
       "      <td>AMPY.xlsx</td>\n",
       "    </tr>\n",
       "    <tr>\n",
       "      <th>2012-03-31</th>\n",
       "      <td>48.410000</td>\n",
       "      <td>0.0</td>\n",
       "      <td>0.0</td>\n",
       "      <td>NaN</td>\n",
       "      <td>-34.628000</td>\n",
       "      <td>13.782000</td>\n",
       "      <td>0.284693</td>\n",
       "      <td>0.0</td>\n",
       "      <td>-11.440</td>\n",
       "      <td>-6.064</td>\n",
       "      <td>0.000000</td>\n",
       "      <td>0.0</td>\n",
       "      <td>-5.376</td>\n",
       "      <td>2.342</td>\n",
       "      <td>0.048378</td>\n",
       "      <td>-1.683</td>\n",
       "      <td>-1.683</td>\n",
       "      <td>-1.690</td>\n",
       "      <td>0.007</td>\n",
       "      <td>0</td>\n",
       "      <td>0.0</td>\n",
       "      <td>0.000</td>\n",
       "      <td>0.659000</td>\n",
       "      <td>0.0</td>\n",
       "      <td>0.0</td>\n",
       "      <td>...</td>\n",
       "      <td>0.000</td>\n",
       "      <td>40.000</td>\n",
       "      <td>-51.807908</td>\n",
       "      <td>267.995008</td>\n",
       "      <td>0.000000</td>\n",
       "      <td>0.0</td>\n",
       "      <td>0.0</td>\n",
       "      <td>66.420332</td>\n",
       "      <td>66.420332</td>\n",
       "      <td>0.0</td>\n",
       "      <td>-66.420332</td>\n",
       "      <td>30.369</td>\n",
       "      <td>30.369</td>\n",
       "      <td>0.627329</td>\n",
       "      <td>18.044563</td>\n",
       "      <td>-25.013072</td>\n",
       "      <td>1.496922</td>\n",
       "      <td>2.386183</td>\n",
       "      <td>-0.162479</td>\n",
       "      <td>2.078175</td>\n",
       "      <td>1.996800</td>\n",
       "      <td>0.610817</td>\n",
       "      <td>0.045053</td>\n",
       "      <td>0.044009</td>\n",
       "      <td>AMPY.xlsx</td>\n",
       "    </tr>\n",
       "    <tr>\n",
       "      <th>...</th>\n",
       "      <td>...</td>\n",
       "      <td>...</td>\n",
       "      <td>...</td>\n",
       "      <td>...</td>\n",
       "      <td>...</td>\n",
       "      <td>...</td>\n",
       "      <td>...</td>\n",
       "      <td>...</td>\n",
       "      <td>...</td>\n",
       "      <td>...</td>\n",
       "      <td>...</td>\n",
       "      <td>...</td>\n",
       "      <td>...</td>\n",
       "      <td>...</td>\n",
       "      <td>...</td>\n",
       "      <td>...</td>\n",
       "      <td>...</td>\n",
       "      <td>...</td>\n",
       "      <td>...</td>\n",
       "      <td>...</td>\n",
       "      <td>...</td>\n",
       "      <td>...</td>\n",
       "      <td>...</td>\n",
       "      <td>...</td>\n",
       "      <td>...</td>\n",
       "      <td>...</td>\n",
       "      <td>...</td>\n",
       "      <td>...</td>\n",
       "      <td>...</td>\n",
       "      <td>...</td>\n",
       "      <td>...</td>\n",
       "      <td>...</td>\n",
       "      <td>...</td>\n",
       "      <td>...</td>\n",
       "      <td>...</td>\n",
       "      <td>...</td>\n",
       "      <td>...</td>\n",
       "      <td>...</td>\n",
       "      <td>...</td>\n",
       "      <td>...</td>\n",
       "      <td>...</td>\n",
       "      <td>...</td>\n",
       "      <td>...</td>\n",
       "      <td>...</td>\n",
       "      <td>...</td>\n",
       "      <td>...</td>\n",
       "      <td>...</td>\n",
       "      <td>...</td>\n",
       "      <td>...</td>\n",
       "      <td>...</td>\n",
       "      <td>...</td>\n",
       "    </tr>\n",
       "    <tr>\n",
       "      <th>2019-06-30</th>\n",
       "      <td>236.260000</td>\n",
       "      <td>0.0</td>\n",
       "      <td>0.0</td>\n",
       "      <td>-0.201414</td>\n",
       "      <td>-172.410000</td>\n",
       "      <td>63.850000</td>\n",
       "      <td>0.270253</td>\n",
       "      <td>0.0</td>\n",
       "      <td>-44.027</td>\n",
       "      <td>-30.740</td>\n",
       "      <td>0.000000</td>\n",
       "      <td>0.0</td>\n",
       "      <td>-13.287</td>\n",
       "      <td>19.823</td>\n",
       "      <td>0.083903</td>\n",
       "      <td>-17.707</td>\n",
       "      <td>-18.558</td>\n",
       "      <td>-18.558</td>\n",
       "      <td>0.000</td>\n",
       "      <td>0</td>\n",
       "      <td>0.0</td>\n",
       "      <td>0.851</td>\n",
       "      <td>2.116000</td>\n",
       "      <td>0.0</td>\n",
       "      <td>0.0</td>\n",
       "      <td>...</td>\n",
       "      <td>-2.722</td>\n",
       "      <td>-84.284</td>\n",
       "      <td>18.936984</td>\n",
       "      <td>1913.910080</td>\n",
       "      <td>164.112272</td>\n",
       "      <td>0.0</td>\n",
       "      <td>0.0</td>\n",
       "      <td>-21.576304</td>\n",
       "      <td>142.535968</td>\n",
       "      <td>0.0</td>\n",
       "      <td>21.576304</td>\n",
       "      <td>73.230</td>\n",
       "      <td>133.276</td>\n",
       "      <td>0.273648</td>\n",
       "      <td>3.483781</td>\n",
       "      <td>-8.725456</td>\n",
       "      <td>0.959024</td>\n",
       "      <td>3.504594</td>\n",
       "      <td>-0.089272</td>\n",
       "      <td>2.653758</td>\n",
       "      <td>2.593956</td>\n",
       "      <td>0.549938</td>\n",
       "      <td>0.037052</td>\n",
       "      <td>0.032541</td>\n",
       "      <td>¦Ъ¦-¦¬¦¦¦-8.xlsx</td>\n",
       "    </tr>\n",
       "    <tr>\n",
       "      <th>2019-09-30</th>\n",
       "      <td>176.942000</td>\n",
       "      <td>0.0</td>\n",
       "      <td>0.0</td>\n",
       "      <td>-0.452478</td>\n",
       "      <td>-154.608000</td>\n",
       "      <td>22.334000</td>\n",
       "      <td>0.126222</td>\n",
       "      <td>0.0</td>\n",
       "      <td>-40.690</td>\n",
       "      <td>-27.445</td>\n",
       "      <td>0.000000</td>\n",
       "      <td>0.0</td>\n",
       "      <td>-13.245</td>\n",
       "      <td>-18.356</td>\n",
       "      <td>-0.103740</td>\n",
       "      <td>-5.786</td>\n",
       "      <td>-23.224</td>\n",
       "      <td>-23.224</td>\n",
       "      <td>0.000</td>\n",
       "      <td>0</td>\n",
       "      <td>0.0</td>\n",
       "      <td>17.438</td>\n",
       "      <td>-24.142000</td>\n",
       "      <td>0.0</td>\n",
       "      <td>0.0</td>\n",
       "      <td>...</td>\n",
       "      <td>-2.721</td>\n",
       "      <td>75.253</td>\n",
       "      <td>30.811792</td>\n",
       "      <td>2045.401872</td>\n",
       "      <td>142.535968</td>\n",
       "      <td>0.0</td>\n",
       "      <td>0.0</td>\n",
       "      <td>-4.462848</td>\n",
       "      <td>138.073120</td>\n",
       "      <td>0.0</td>\n",
       "      <td>4.462848</td>\n",
       "      <td>116.568</td>\n",
       "      <td>188.416</td>\n",
       "      <td>0.600784</td>\n",
       "      <td>4.577334</td>\n",
       "      <td>0.129823</td>\n",
       "      <td>0.583745</td>\n",
       "      <td>0.971638</td>\n",
       "      <td>0.020965</td>\n",
       "      <td>3.434923</td>\n",
       "      <td>3.315563</td>\n",
       "      <td>0.538196</td>\n",
       "      <td>0.041221</td>\n",
       "      <td>0.060308</td>\n",
       "      <td>¦Ъ¦-¦¬¦¦¦-8.xlsx</td>\n",
       "    </tr>\n",
       "    <tr>\n",
       "      <th>2019-12-31</th>\n",
       "      <td>230.844000</td>\n",
       "      <td>0.0</td>\n",
       "      <td>0.0</td>\n",
       "      <td>-0.259581</td>\n",
       "      <td>-246.974000</td>\n",
       "      <td>-16.130000</td>\n",
       "      <td>-0.069874</td>\n",
       "      <td>0.0</td>\n",
       "      <td>-71.334</td>\n",
       "      <td>-13.008</td>\n",
       "      <td>-172.403008</td>\n",
       "      <td>0.0</td>\n",
       "      <td>-58.326</td>\n",
       "      <td>-87.464</td>\n",
       "      <td>-0.378888</td>\n",
       "      <td>-33.724</td>\n",
       "      <td>-24.442</td>\n",
       "      <td>-24.442</td>\n",
       "      <td>0.000</td>\n",
       "      <td>0</td>\n",
       "      <td>0.0</td>\n",
       "      <td>-9.282</td>\n",
       "      <td>-121.188000</td>\n",
       "      <td>0.0</td>\n",
       "      <td>0.0</td>\n",
       "      <td>...</td>\n",
       "      <td>-2.721</td>\n",
       "      <td>-39.325</td>\n",
       "      <td>52.152128</td>\n",
       "      <td>684.376000</td>\n",
       "      <td>138.073120</td>\n",
       "      <td>0.0</td>\n",
       "      <td>0.0</td>\n",
       "      <td>-0.415200</td>\n",
       "      <td>137.657920</td>\n",
       "      <td>0.0</td>\n",
       "      <td>0.415200</td>\n",
       "      <td>109.955</td>\n",
       "      <td>197.511</td>\n",
       "      <td>0.422134</td>\n",
       "      <td>3.986867</td>\n",
       "      <td>-9.051919</td>\n",
       "      <td>1.380560</td>\n",
       "      <td>3.270434</td>\n",
       "      <td>-0.073757</td>\n",
       "      <td>2.940712</td>\n",
       "      <td>2.880834</td>\n",
       "      <td>0.766182</td>\n",
       "      <td>0.057908</td>\n",
       "      <td>0.035490</td>\n",
       "      <td>¦Ъ¦-¦¬¦¦¦-8.xlsx</td>\n",
       "    </tr>\n",
       "    <tr>\n",
       "      <th>2020-03-31</th>\n",
       "      <td>165.187008</td>\n",
       "      <td>0.0</td>\n",
       "      <td>0.0</td>\n",
       "      <td>-0.288741</td>\n",
       "      <td>-142.680992</td>\n",
       "      <td>22.506016</td>\n",
       "      <td>0.136246</td>\n",
       "      <td>0.0</td>\n",
       "      <td>-179.586</td>\n",
       "      <td>-10.596</td>\n",
       "      <td>0.000000</td>\n",
       "      <td>0.0</td>\n",
       "      <td>-168.990</td>\n",
       "      <td>-157.080</td>\n",
       "      <td>-0.950922</td>\n",
       "      <td>18.511</td>\n",
       "      <td>-21.358</td>\n",
       "      <td>-21.358</td>\n",
       "      <td>0.000</td>\n",
       "      <td>0</td>\n",
       "      <td>0.0</td>\n",
       "      <td>39.869</td>\n",
       "      <td>-138.568992</td>\n",
       "      <td>0.0</td>\n",
       "      <td>0.0</td>\n",
       "      <td>...</td>\n",
       "      <td>0.000</td>\n",
       "      <td>0.000</td>\n",
       "      <td>-270.559048</td>\n",
       "      <td>422.853952</td>\n",
       "      <td>137.657920</td>\n",
       "      <td>0.0</td>\n",
       "      <td>0.0</td>\n",
       "      <td>0.233824</td>\n",
       "      <td>137.891744</td>\n",
       "      <td>0.0</td>\n",
       "      <td>-0.233824</td>\n",
       "      <td>-81.029</td>\n",
       "      <td>-81.029</td>\n",
       "      <td>-0.490529</td>\n",
       "      <td>-3.793848</td>\n",
       "      <td>-10.061429</td>\n",
       "      <td>0.810372</td>\n",
       "      <td>-1.652038</td>\n",
       "      <td>0.008345</td>\n",
       "      <td>7.096037</td>\n",
       "      <td>6.952897</td>\n",
       "      <td>0.843584</td>\n",
       "      <td>0.044655</td>\n",
       "      <td>0.037845</td>\n",
       "      <td>¦Ъ¦-¦¬¦¦¦-8.xlsx</td>\n",
       "    </tr>\n",
       "    <tr>\n",
       "      <th>2020-06-30</th>\n",
       "      <td>63.129000</td>\n",
       "      <td>0.0</td>\n",
       "      <td>0.0</td>\n",
       "      <td>-0.732799</td>\n",
       "      <td>-136.588992</td>\n",
       "      <td>-73.459992</td>\n",
       "      <td>-1.163649</td>\n",
       "      <td>0.0</td>\n",
       "      <td>-101.018</td>\n",
       "      <td>-25.148</td>\n",
       "      <td>0.000000</td>\n",
       "      <td>0.0</td>\n",
       "      <td>-75.870</td>\n",
       "      <td>-174.478</td>\n",
       "      <td>-2.763833</td>\n",
       "      <td>107.153</td>\n",
       "      <td>-20.314</td>\n",
       "      <td>-20.314</td>\n",
       "      <td>0.000</td>\n",
       "      <td>0</td>\n",
       "      <td>0.0</td>\n",
       "      <td>127.467</td>\n",
       "      <td>-67.325000</td>\n",
       "      <td>0.0</td>\n",
       "      <td>0.0</td>\n",
       "      <td>...</td>\n",
       "      <td>0.000</td>\n",
       "      <td>0.000</td>\n",
       "      <td>2.475088</td>\n",
       "      <td>133.395040</td>\n",
       "      <td>137.891744</td>\n",
       "      <td>0.0</td>\n",
       "      <td>0.0</td>\n",
       "      <td>0.451680</td>\n",
       "      <td>138.343424</td>\n",
       "      <td>0.0</td>\n",
       "      <td>-0.451680</td>\n",
       "      <td>-91.859</td>\n",
       "      <td>-91.859</td>\n",
       "      <td>-1.455100</td>\n",
       "      <td>-4.521955</td>\n",
       "      <td>-7.616225</td>\n",
       "      <td>0.995691</td>\n",
       "      <td>-0.684277</td>\n",
       "      <td>-0.233993</td>\n",
       "      <td>8.037585</td>\n",
       "      <td>7.103902</td>\n",
       "      <td>0.944519</td>\n",
       "      <td>0.066308</td>\n",
       "      <td>0.093052</td>\n",
       "      <td>¦Ъ¦-¦¬¦¦¦-8.xlsx</td>\n",
       "    </tr>\n",
       "  </tbody>\n",
       "</table>\n",
       "<p>2056 rows × 282 columns</p>\n",
       "</div>"
      ],
      "text/plain": [
       "             Revenue_0  Consensus:_1  % Surprise | % Est. vs Consensus_2  \\\n",
       "2011-03-31    0.000000           0.0                                 0.0   \n",
       "2011-06-30    0.000000           0.0                                 0.0   \n",
       "2011-09-30    0.000000           0.0                                 0.0   \n",
       "2011-12-31   61.863000           0.0                                 0.0   \n",
       "2012-03-31   48.410000           0.0                                 0.0   \n",
       "...                ...           ...                                 ...   \n",
       "2019-06-30  236.260000           0.0                                 0.0   \n",
       "2019-09-30  176.942000           0.0                                 0.0   \n",
       "2019-12-31  230.844000           0.0                                 0.0   \n",
       "2020-03-31  165.187008           0.0                                 0.0   \n",
       "2020-06-30   63.129000           0.0                                 0.0   \n",
       "\n",
       "            Revenue Growth (YoY)_3  Cost of Revenue_4  Gross Profit_5  \\\n",
       "2011-03-31                     NaN           0.000000        0.000000   \n",
       "2011-06-30                     NaN           0.000000        0.000000   \n",
       "2011-09-30                     NaN           0.000000        0.000000   \n",
       "2011-12-31                     NaN         -36.854000       25.009000   \n",
       "2012-03-31                     NaN         -34.628000       13.782000   \n",
       "...                            ...                ...             ...   \n",
       "2019-06-30               -0.201414        -172.410000       63.850000   \n",
       "2019-09-30               -0.452478        -154.608000       22.334000   \n",
       "2019-12-31               -0.259581        -246.974000      -16.130000   \n",
       "2020-03-31               -0.288741        -142.680992       22.506016   \n",
       "2020-06-30               -0.732799        -136.588992      -73.459992   \n",
       "\n",
       "            Gross margin_6  Other Operating Income_7  Operating Expenses_8  \\\n",
       "2011-03-31        0.000000                       0.0                 0.000   \n",
       "2011-06-30        0.000000                       0.0                 0.000   \n",
       "2011-09-30        0.000000                       0.0                 0.000   \n",
       "2011-12-31        0.404264                       0.0               -57.298   \n",
       "2012-03-31        0.284693                       0.0               -11.440   \n",
       "...                    ...                       ...                   ...   \n",
       "2019-06-30        0.270253                       0.0               -44.027   \n",
       "2019-09-30        0.126222                       0.0               -40.690   \n",
       "2019-12-31       -0.069874                       0.0               -71.334   \n",
       "2020-03-31        0.136246                       0.0              -179.586   \n",
       "2020-06-30       -1.163649                       0.0              -101.018   \n",
       "\n",
       "            Selling, General & Admin_9  Depreciation & Amortization_11  \\\n",
       "2011-03-31                       0.000                        0.000000   \n",
       "2011-06-30                       0.000                        0.000000   \n",
       "2011-09-30                       0.000                        0.000000   \n",
       "2011-12-31                     -53.396                        0.000000   \n",
       "2012-03-31                      -6.064                        0.000000   \n",
       "...                                ...                             ...   \n",
       "2019-06-30                     -30.740                        0.000000   \n",
       "2019-09-30                     -27.445                        0.000000   \n",
       "2019-12-31                     -13.008                     -172.403008   \n",
       "2020-03-31                     -10.596                        0.000000   \n",
       "2020-06-30                     -25.148                        0.000000   \n",
       "\n",
       "            Prov. For Doubful Accounts_12  Other Operating Expenses_13  \\\n",
       "2011-03-31                            0.0                        0.000   \n",
       "2011-06-30                            0.0                        0.000   \n",
       "2011-09-30                            0.0                        0.000   \n",
       "2011-12-31                            0.0                       -3.902   \n",
       "2012-03-31                            0.0                       -5.376   \n",
       "...                                   ...                          ...   \n",
       "2019-06-30                            0.0                      -13.287   \n",
       "2019-09-30                            0.0                      -13.245   \n",
       "2019-12-31                            0.0                      -58.326   \n",
       "2020-03-31                            0.0                     -168.990   \n",
       "2020-06-30                            0.0                      -75.870   \n",
       "\n",
       "            Operating Income_14  Operating Margin_15  \\\n",
       "2011-03-31                0.000             0.000000   \n",
       "2011-06-30                0.000             0.000000   \n",
       "2011-09-30                0.000             0.000000   \n",
       "2011-12-31              -32.289             0.000000   \n",
       "2012-03-31                2.342             0.048378   \n",
       "...                         ...                  ...   \n",
       "2019-06-30               19.823             0.083903   \n",
       "2019-09-30              -18.356            -0.103740   \n",
       "2019-12-31              -87.464            -0.378888   \n",
       "2020-03-31             -157.080            -0.950922   \n",
       "2020-06-30             -174.478            -2.763833   \n",
       "\n",
       "            Non-Operating Income (Loss)_16  Interest Expense, Net_17  \\\n",
       "2011-03-31                           0.000                     0.000   \n",
       "2011-06-30                           0.000                     0.000   \n",
       "2011-09-30                           0.000                     0.000   \n",
       "2011-12-31                          -1.351                    -1.351   \n",
       "2012-03-31                          -1.683                    -1.683   \n",
       "...                                    ...                       ...   \n",
       "2019-06-30                         -17.707                   -18.558   \n",
       "2019-09-30                          -5.786                   -23.224   \n",
       "2019-12-31                         -33.724                   -24.442   \n",
       "2020-03-31                          18.511                   -21.358   \n",
       "2020-06-30                         107.153                   -20.314   \n",
       "\n",
       "            Interest Expense_18  Interest Income_19  \\\n",
       "2011-03-31                0.000               0.000   \n",
       "2011-06-30                0.000               0.000   \n",
       "2011-09-30                0.000               0.000   \n",
       "2011-12-31               -1.359               0.008   \n",
       "2012-03-31               -1.690               0.007   \n",
       "...                         ...                 ...   \n",
       "2019-06-30              -18.558               0.000   \n",
       "2019-09-30              -23.224               0.000   \n",
       "2019-12-31              -24.442               0.000   \n",
       "2020-03-31              -21.358               0.000   \n",
       "2020-06-30              -20.314               0.000   \n",
       "\n",
       "            Foreign Exch Gain (Loss)_21  \\\n",
       "2011-03-31                            0   \n",
       "2011-06-30                            0   \n",
       "2011-09-30                            0   \n",
       "2011-12-31                            0   \n",
       "2012-03-31                            0   \n",
       "...                                 ...   \n",
       "2019-06-30                            0   \n",
       "2019-09-30                            0   \n",
       "2019-12-31                            0   \n",
       "2020-03-31                            0   \n",
       "2020-06-30                            0   \n",
       "\n",
       "            Income (Loss) from Affiliates (Pre Tax)_22  \\\n",
       "2011-03-31                                         0.0   \n",
       "2011-06-30                                         0.0   \n",
       "2011-09-30                                         0.0   \n",
       "2011-12-31                                         0.0   \n",
       "2012-03-31                                         0.0   \n",
       "...                                                ...   \n",
       "2019-06-30                                         0.0   \n",
       "2019-09-30                                         0.0   \n",
       "2019-12-31                                         0.0   \n",
       "2020-03-31                                         0.0   \n",
       "2020-06-30                                         0.0   \n",
       "\n",
       "            Other Non-Op Income (Loss)_23  Pretax Income_24  Consensus:_25  \\\n",
       "2011-03-31                          0.000          0.000000            0.0   \n",
       "2011-06-30                          0.000          0.000000            0.0   \n",
       "2011-09-30                          0.000          0.000000            0.0   \n",
       "2011-12-31                          0.000        -33.640000            0.0   \n",
       "2012-03-31                          0.000          0.659000            0.0   \n",
       "...                                   ...               ...            ...   \n",
       "2019-06-30                          0.851          2.116000            0.0   \n",
       "2019-09-30                         17.438        -24.142000            0.0   \n",
       "2019-12-31                         -9.282       -121.188000            0.0   \n",
       "2020-03-31                         39.869       -138.568992            0.0   \n",
       "2020-06-30                        127.467        -67.325000            0.0   \n",
       "\n",
       "            % Surprise | % Est. vs Consensus_26  ...  Dividends_297  \\\n",
       "2011-03-31                                  0.0  ...          0.000   \n",
       "2011-06-30                                  0.0  ...          0.000   \n",
       "2011-09-30                                  0.0  ...          0.000   \n",
       "2011-12-31                                  0.0  ...          0.000   \n",
       "2012-03-31                                  0.0  ...          0.000   \n",
       "...                                         ...  ...            ...   \n",
       "2019-06-30                                  0.0  ...         -2.722   \n",
       "2019-09-30                                  0.0  ...         -2.721   \n",
       "2019-12-31                                  0.0  ...         -2.721   \n",
       "2020-03-31                                  0.0  ...          0.000   \n",
       "2020-06-30                                  0.0  ...          0.000   \n",
       "\n",
       "            Net Share Repurchases_298   Other_299  Ending Equity_300  \\\n",
       "2011-03-31                      0.000 -255.879008           0.000000   \n",
       "2011-06-30                      0.000    0.000000           0.000000   \n",
       "2011-09-30                      0.000    0.000000           0.000000   \n",
       "2011-12-31                      2.700  266.145016         285.502016   \n",
       "2012-03-31                     40.000  -51.807908         267.995008   \n",
       "...                               ...         ...                ...   \n",
       "2019-06-30                    -84.284   18.936984        1913.910080   \n",
       "2019-09-30                     75.253   30.811792        2045.401872   \n",
       "2019-12-31                    -39.325   52.152128         684.376000   \n",
       "2020-03-31                      0.000 -270.559048         422.853952   \n",
       "2020-06-30                      0.000    2.475088         133.395040   \n",
       "\n",
       "            Beginning Shs Out_302  Shares Repurchased_303  \\\n",
       "2011-03-31               0.000000                     0.0   \n",
       "2011-06-30               0.000000                     0.0   \n",
       "2011-09-30               0.000000                     0.0   \n",
       "2011-12-31               0.000000                     0.0   \n",
       "2012-03-31               0.000000                     0.0   \n",
       "...                           ...                     ...   \n",
       "2019-06-30             164.112272                     0.0   \n",
       "2019-09-30             142.535968                     0.0   \n",
       "2019-12-31             138.073120                     0.0   \n",
       "2020-03-31             137.657920                     0.0   \n",
       "2020-06-30             137.891744                     0.0   \n",
       "\n",
       "            Avg. Price per share_304  Shares Issued_305  Ending Shs Out_307  \\\n",
       "2011-03-31                       0.0           0.000000            0.000000   \n",
       "2011-06-30                       0.0           0.000000            0.000000   \n",
       "2011-09-30                       0.0           0.000000            0.000000   \n",
       "2011-12-31                       0.0           0.000000            0.000000   \n",
       "2012-03-31                       0.0          66.420332           66.420332   \n",
       "...                              ...                ...                 ...   \n",
       "2019-06-30                       0.0         -21.576304          142.535968   \n",
       "2019-09-30                       0.0          -4.462848          138.073120   \n",
       "2019-12-31                       0.0          -0.415200          137.657920   \n",
       "2020-03-31                       0.0           0.233824          137.891744   \n",
       "2020-06-30                       0.0           0.451680          138.343424   \n",
       "\n",
       "            Share Repurchase amount_311  Net Shares Repurchased_312  \\\n",
       "2011-03-31                          0.0                         NaN   \n",
       "2011-06-30                          0.0                         NaN   \n",
       "2011-09-30                          0.0                         NaN   \n",
       "2011-12-31                          0.0                         NaN   \n",
       "2012-03-31                          0.0                  -66.420332   \n",
       "...                                 ...                         ...   \n",
       "2019-06-30                          0.0                   21.576304   \n",
       "2019-09-30                          0.0                    4.462848   \n",
       "2019-12-31                          0.0                    0.415200   \n",
       "2020-03-31                          0.0                   -0.233824   \n",
       "2020-06-30                          0.0                   -0.451680   \n",
       "\n",
       "            EBITDAR_316  EBITDAR (8x Rental Expense)_317  EBITDA Margin_318  \\\n",
       "2011-03-31        0.000                            0.000                NaN   \n",
       "2011-06-30        0.000                            0.000                NaN   \n",
       "2011-09-30        0.000                            0.000                NaN   \n",
       "2011-12-31       -2.230                           -2.230                NaN   \n",
       "2012-03-31       30.369                           30.369           0.627329   \n",
       "...                 ...                              ...                ...   \n",
       "2019-06-30       73.230                          133.276           0.273648   \n",
       "2019-09-30      116.568                          188.416           0.600784   \n",
       "2019-12-31      109.955                          197.511           0.422134   \n",
       "2020-03-31      -81.029                          -81.029          -0.490529   \n",
       "2020-06-30      -91.859                          -91.859          -1.455100   \n",
       "\n",
       "            EBITDA / Interest_319  EBITDA - CAPEX / Interest_320  \\\n",
       "2011-03-31                    NaN                            NaN   \n",
       "2011-06-30                    NaN                            NaN   \n",
       "2011-09-30                    NaN                            NaN   \n",
       "2011-12-31                    NaN                            NaN   \n",
       "2012-03-31              18.044563                     -25.013072   \n",
       "...                           ...                            ...   \n",
       "2019-06-30               3.483781                      -8.725456   \n",
       "2019-09-30               4.577334                       0.129823   \n",
       "2019-12-31               3.986867                      -9.051919   \n",
       "2020-03-31              -3.793848                     -10.061429   \n",
       "2020-06-30              -4.521955                      -7.616225   \n",
       "\n",
       "            CAPEX / REVENUE_321  CAPEX / EBITDA_322  FCF / DEBT_323  \\\n",
       "2011-03-31                  NaN                 NaN             NaN   \n",
       "2011-06-30                  NaN                 NaN             NaN   \n",
       "2011-09-30                  NaN                 NaN             NaN   \n",
       "2011-12-31                  NaN                 NaN             NaN   \n",
       "2012-03-31             1.496922            2.386183       -0.162479   \n",
       "...                         ...                 ...             ...   \n",
       "2019-06-30             0.959024            3.504594       -0.089272   \n",
       "2019-09-30             0.583745            0.971638        0.020965   \n",
       "2019-12-31             1.380560            3.270434       -0.073757   \n",
       "2020-03-31             0.810372           -1.652038        0.008345   \n",
       "2020-06-30             0.995691           -0.684277       -0.233993   \n",
       "\n",
       "            Gross Leverage (Total Debt / EBITDA)_324  \\\n",
       "2011-03-31                                       NaN   \n",
       "2011-06-30                                       NaN   \n",
       "2011-09-30                                       NaN   \n",
       "2011-12-31                                       NaN   \n",
       "2012-03-31                                  2.078175   \n",
       "...                                              ...   \n",
       "2019-06-30                                  2.653758   \n",
       "2019-09-30                                  3.434923   \n",
       "2019-12-31                                  2.940712   \n",
       "2020-03-31                                  7.096037   \n",
       "2020-06-30                                  8.037585   \n",
       "\n",
       "            Net Leverage (Net Debt / EBITDA)_325  \\\n",
       "2011-03-31                                   NaN   \n",
       "2011-06-30                                   NaN   \n",
       "2011-09-30                                   NaN   \n",
       "2011-12-31                                   NaN   \n",
       "2012-03-31                              1.996800   \n",
       "...                                          ...   \n",
       "2019-06-30                              2.593956   \n",
       "2019-09-30                              3.315563   \n",
       "2019-12-31                              2.880834   \n",
       "2020-03-31                              6.952897   \n",
       "2020-06-30                              7.103902   \n",
       "\n",
       "            Total Liabilities / Tangible Assets_326  \\\n",
       "2011-03-31                                      NaN   \n",
       "2011-06-30                                      NaN   \n",
       "2011-09-30                                      NaN   \n",
       "2011-12-31                                      NaN   \n",
       "2012-03-31                                 0.610817   \n",
       "...                                             ...   \n",
       "2019-06-30                                 0.549938   \n",
       "2019-09-30                                 0.538196   \n",
       "2019-12-31                                 0.766182   \n",
       "2020-03-31                                 0.843584   \n",
       "2020-06-30                                 0.944519   \n",
       "\n",
       "            Cash + AR / Total Assets_327  Cash % of Revenue_328  \\\n",
       "2011-03-31                           NaN                    NaN   \n",
       "2011-06-30                           NaN                    NaN   \n",
       "2011-09-30                           NaN                    NaN   \n",
       "2011-12-31                           NaN                    NaN   \n",
       "2012-03-31                      0.045053               0.044009   \n",
       "...                                  ...                    ...   \n",
       "2019-06-30                      0.037052               0.032541   \n",
       "2019-09-30                      0.041221               0.060308   \n",
       "2019-12-31                      0.057908               0.035490   \n",
       "2020-03-31                      0.044655               0.037845   \n",
       "2020-06-30                      0.066308               0.093052   \n",
       "\n",
       "            Company_name_329  \n",
       "2011-03-31         AMPY.xlsx  \n",
       "2011-06-30         AMPY.xlsx  \n",
       "2011-09-30         AMPY.xlsx  \n",
       "2011-12-31         AMPY.xlsx  \n",
       "2012-03-31         AMPY.xlsx  \n",
       "...                      ...  \n",
       "2019-06-30  ¦Ъ¦-¦¬¦¦¦-8.xlsx  \n",
       "2019-09-30  ¦Ъ¦-¦¬¦¦¦-8.xlsx  \n",
       "2019-12-31  ¦Ъ¦-¦¬¦¦¦-8.xlsx  \n",
       "2020-03-31  ¦Ъ¦-¦¬¦¦¦-8.xlsx  \n",
       "2020-06-30  ¦Ъ¦-¦¬¦¦¦-8.xlsx  \n",
       "\n",
       "[2056 rows x 282 columns]"
      ]
     },
     "execution_count": 73,
     "metadata": {},
     "output_type": "execute_result"
    }
   ],
   "source": [
    "df"
   ]
  },
  {
   "cell_type": "code",
   "execution_count": 74,
   "metadata": {},
   "outputs": [
    {
     "name": "stderr",
     "output_type": "stream",
     "text": [
      "C:\\Users\\igorl\\AppData\\Local\\Temp\\ipykernel_18300\\3327769576.py:5: FutureWarning:\n",
      "\n",
      "Inferring datetime64[ns] from data containing strings is deprecated and will be removed in a future version. To retain the old behavior explicitly pass Series(data, dtype=datetime64[ns])\n",
      "\n"
     ]
    },
    {
     "data": {
      "application/vnd.plotly.v1+json": {
       "config": {
        "plotlyServerURL": "https://plot.ly"
       },
       "data": [
        {
         "alignmentgroup": "True",
         "bingroup": "x",
         "histfunc": "sum",
         "hovertemplate": "index=%{x}<br>sum of rev=%{y}<extra></extra>",
         "legendgroup": "",
         "marker": {
          "color": "#636efa",
          "pattern": {
           "shape": ""
          }
         },
         "name": "",
         "offsetgroup": "",
         "orientation": "v",
         "showlegend": false,
         "type": "histogram",
         "x": [
          "2011-03-31T00:00:00",
          "2011-06-30T00:00:00",
          "2011-09-30T00:00:00",
          "2011-12-31T00:00:00",
          "2012-03-31T00:00:00",
          "2012-06-30T00:00:00",
          "2012-09-30T00:00:00",
          "2012-12-31T00:00:00",
          "2013-03-31T00:00:00",
          "2013-06-30T00:00:00",
          "2013-09-30T00:00:00",
          "2013-12-31T00:00:00",
          "2014-03-31T00:00:00",
          "2014-06-30T00:00:00",
          "2014-09-30T00:00:00",
          "2014-12-31T00:00:00",
          "2015-03-31T00:00:00",
          "2015-06-30T00:00:00",
          "2015-09-30T00:00:00",
          "2015-12-31T00:00:00",
          "2016-03-31T00:00:00",
          "2016-06-30T00:00:00",
          "2016-09-30T00:00:00",
          "2016-12-31T00:00:00",
          "2017-03-31T00:00:00",
          "2017-06-30T00:00:00",
          "2017-09-30T00:00:00",
          "2017-12-31T00:00:00",
          "2018-03-31T00:00:00",
          "2018-06-30T00:00:00",
          "2018-09-30T00:00:00",
          "2018-12-31T00:00:00",
          "2019-03-31T00:00:00",
          "2019-06-30T00:00:00",
          "2019-09-30T00:00:00",
          "2019-12-31T00:00:00",
          "2020-03-31T00:00:00",
          "2020-06-30T00:00:00",
          "2011-03-31T00:00:00",
          "2011-06-30T00:00:00",
          "2011-09-30T00:00:00",
          "2011-12-31T00:00:00",
          "2012-03-31T00:00:00",
          "2012-06-30T00:00:00",
          "2012-09-30T00:00:00",
          "2012-12-31T00:00:00",
          "2013-03-31T00:00:00",
          "2013-06-30T00:00:00",
          "2013-09-30T00:00:00",
          "2013-12-31T00:00:00",
          "2014-03-31T00:00:00",
          "2014-06-30T00:00:00",
          "2014-09-30T00:00:00",
          "2014-12-31T00:00:00",
          "2015-03-31T00:00:00",
          "2015-06-30T00:00:00",
          "2015-09-30T00:00:00",
          "2015-12-31T00:00:00",
          "2016-03-31T00:00:00",
          "2016-06-30T00:00:00",
          "2016-09-30T00:00:00",
          "2016-12-31T00:00:00",
          "2017-03-31T00:00:00",
          "2017-06-30T00:00:00",
          "2017-09-30T00:00:00",
          "2017-12-31T00:00:00",
          "2018-03-31T00:00:00",
          "2018-06-30T00:00:00",
          "2018-09-30T00:00:00",
          "2018-12-31T00:00:00",
          "2019-03-31T00:00:00",
          "2019-06-30T00:00:00",
          "2019-09-30T00:00:00",
          "2019-12-31T00:00:00",
          "2020-03-31T00:00:00",
          "2020-06-30T00:00:00",
          "2011-03-31T00:00:00",
          "2011-06-30T00:00:00",
          "2011-09-30T00:00:00",
          "2011-12-31T00:00:00",
          "2012-03-31T00:00:00",
          "2012-06-30T00:00:00",
          "2012-09-30T00:00:00",
          "2012-12-31T00:00:00",
          "2013-03-31T00:00:00",
          "2013-06-30T00:00:00",
          "2013-09-30T00:00:00",
          "2013-12-31T00:00:00",
          "2014-03-31T00:00:00",
          "2014-06-30T00:00:00",
          "2014-09-30T00:00:00",
          "2014-12-31T00:00:00",
          "2015-03-31T00:00:00",
          "2015-06-30T00:00:00",
          "2015-09-30T00:00:00",
          "2015-12-31T00:00:00",
          "2016-03-31T00:00:00",
          "2016-06-30T00:00:00",
          "2016-09-30T00:00:00",
          "2016-12-31T00:00:00",
          "2017-03-31T00:00:00",
          "2017-06-30T00:00:00",
          "2017-09-30T00:00:00",
          "2017-12-31T00:00:00",
          "2018-03-31T00:00:00",
          "2018-06-30T00:00:00",
          "2018-09-30T00:00:00",
          "2018-12-31T00:00:00",
          "2019-03-31T00:00:00",
          "2019-06-30T00:00:00",
          "2019-09-30T00:00:00",
          "2019-12-31T00:00:00",
          "2020-03-31T00:00:00",
          "2020-06-30T00:00:00",
          "2011-03-31T00:00:00",
          "2011-06-30T00:00:00",
          "2011-09-30T00:00:00",
          "2011-12-31T00:00:00",
          "2012-03-31T00:00:00",
          "2012-06-30T00:00:00",
          "2012-09-30T00:00:00",
          "2012-12-31T00:00:00",
          "2013-03-31T00:00:00",
          "2013-06-30T00:00:00",
          "2013-09-30T00:00:00",
          "2013-12-31T00:00:00",
          "2014-03-31T00:00:00",
          "2014-06-30T00:00:00",
          "2014-09-30T00:00:00",
          "2014-12-31T00:00:00",
          "2015-03-31T00:00:00",
          "2015-06-30T00:00:00",
          "2015-09-30T00:00:00",
          "2015-12-31T00:00:00",
          "2016-03-31T00:00:00",
          "2016-06-30T00:00:00",
          "2016-09-30T00:00:00",
          "2016-12-31T00:00:00",
          "2017-03-31T00:00:00",
          "2017-06-30T00:00:00",
          "2017-09-30T00:00:00",
          "2017-12-31T00:00:00",
          "2018-03-31T00:00:00",
          "2018-06-30T00:00:00",
          "2018-09-30T00:00:00",
          "2018-12-31T00:00:00",
          "2019-03-31T00:00:00",
          "2019-06-30T00:00:00",
          "2019-09-30T00:00:00",
          "2019-12-31T00:00:00",
          "2020-03-31T00:00:00",
          "2020-06-30T00:00:00",
          "2011-03-31T00:00:00",
          "2011-06-30T00:00:00",
          "2011-09-30T00:00:00",
          "2011-12-31T00:00:00",
          "2012-03-31T00:00:00",
          "2012-06-30T00:00:00",
          "2012-09-30T00:00:00",
          "2012-12-31T00:00:00",
          "2013-03-31T00:00:00",
          "2013-06-30T00:00:00",
          "2013-09-30T00:00:00",
          "2013-12-31T00:00:00",
          "2014-03-31T00:00:00",
          "2014-06-30T00:00:00",
          "2014-09-30T00:00:00",
          "2014-12-31T00:00:00",
          "2015-03-31T00:00:00",
          "2015-06-30T00:00:00",
          "2015-09-30T00:00:00",
          "2015-12-31T00:00:00",
          "2016-03-31T00:00:00",
          "2016-06-30T00:00:00",
          "2016-09-30T00:00:00",
          "2016-12-31T00:00:00",
          "2017-03-31T00:00:00",
          "2017-06-30T00:00:00",
          "2017-09-30T00:00:00",
          "2017-12-31T00:00:00",
          "2018-03-31T00:00:00",
          "2018-06-30T00:00:00",
          "2018-09-30T00:00:00",
          "2018-12-31T00:00:00",
          "2019-03-31T00:00:00",
          "2019-06-30T00:00:00",
          "2019-09-30T00:00:00",
          "2019-12-31T00:00:00",
          "2020-03-31T00:00:00",
          "2020-06-30T00:00:00",
          "2011-03-31T00:00:00",
          "2011-06-30T00:00:00",
          "2011-09-30T00:00:00",
          "2011-12-31T00:00:00",
          "2012-03-31T00:00:00",
          "2012-06-30T00:00:00",
          "2012-09-30T00:00:00",
          "2012-12-31T00:00:00",
          "2013-03-31T00:00:00",
          "2013-06-30T00:00:00",
          "2013-09-30T00:00:00",
          "2013-12-31T00:00:00",
          "2014-03-31T00:00:00",
          "2014-06-30T00:00:00",
          "2014-09-30T00:00:00",
          "2014-12-31T00:00:00",
          "2015-03-31T00:00:00",
          "2015-06-30T00:00:00",
          "2015-09-30T00:00:00",
          "2015-12-31T00:00:00",
          "2016-03-31T00:00:00",
          "2016-06-30T00:00:00",
          "2016-09-30T00:00:00",
          "2016-12-31T00:00:00",
          "2017-03-31T00:00:00",
          "2017-06-30T00:00:00",
          "2017-09-30T00:00:00",
          "2017-12-31T00:00:00",
          "2018-03-31T00:00:00",
          "2018-06-30T00:00:00",
          "2018-09-30T00:00:00",
          "2018-12-31T00:00:00",
          "2019-03-31T00:00:00",
          "2019-06-30T00:00:00",
          "2019-09-30T00:00:00",
          "2019-12-31T00:00:00",
          "2020-03-31T00:00:00",
          "2020-06-30T00:00:00",
          "2011-03-31T00:00:00",
          "2011-06-30T00:00:00",
          "2011-09-30T00:00:00",
          "2011-12-31T00:00:00",
          "2012-03-31T00:00:00",
          "2012-06-30T00:00:00",
          "2012-09-30T00:00:00",
          "2012-12-31T00:00:00",
          "2013-03-31T00:00:00",
          "2013-06-30T00:00:00",
          "2013-09-30T00:00:00",
          "2013-12-31T00:00:00",
          "2014-03-31T00:00:00",
          "2014-06-30T00:00:00",
          "2014-09-30T00:00:00",
          "2014-12-31T00:00:00",
          "2015-03-31T00:00:00",
          "2015-06-30T00:00:00",
          "2015-09-30T00:00:00",
          "2015-12-31T00:00:00",
          "2016-03-31T00:00:00",
          "2016-06-30T00:00:00",
          "2016-09-30T00:00:00",
          "2016-12-31T00:00:00",
          "2017-03-31T00:00:00",
          "2017-06-30T00:00:00",
          "2017-09-30T00:00:00",
          "2017-12-31T00:00:00",
          "2018-03-31T00:00:00",
          "2018-06-30T00:00:00",
          "2018-09-30T00:00:00",
          "2018-12-31T00:00:00",
          "2019-03-31T00:00:00",
          "2019-06-30T00:00:00",
          "2019-09-30T00:00:00",
          "2019-12-31T00:00:00",
          "2020-03-31T00:00:00",
          "2020-06-30T00:00:00",
          "2011-03-31T00:00:00",
          "2011-06-30T00:00:00",
          "2011-09-30T00:00:00",
          "2011-12-31T00:00:00",
          "2012-03-31T00:00:00",
          "2012-06-30T00:00:00",
          "2012-09-30T00:00:00",
          "2012-12-31T00:00:00",
          "2013-03-31T00:00:00",
          "2013-06-30T00:00:00",
          "2013-09-30T00:00:00",
          "2013-12-31T00:00:00",
          "2014-03-31T00:00:00",
          "2014-06-30T00:00:00",
          "2014-09-30T00:00:00",
          "2014-12-31T00:00:00",
          "2015-03-31T00:00:00",
          "2015-06-30T00:00:00",
          "2015-09-30T00:00:00",
          "2015-12-31T00:00:00",
          "2016-03-31T00:00:00",
          "2016-06-30T00:00:00",
          "2016-09-30T00:00:00",
          "2016-12-31T00:00:00",
          "2017-03-31T00:00:00",
          "2017-06-30T00:00:00",
          "2017-09-30T00:00:00",
          "2017-12-31T00:00:00",
          "2018-03-31T00:00:00",
          "2018-06-30T00:00:00",
          "2018-09-30T00:00:00",
          "2018-12-31T00:00:00",
          "2019-03-31T00:00:00",
          "2019-06-30T00:00:00",
          "2019-09-30T00:00:00",
          "2019-12-31T00:00:00",
          "2020-03-31T00:00:00",
          "2020-06-30T00:00:00",
          "2011-03-31T00:00:00",
          "2011-06-30T00:00:00",
          "2011-09-30T00:00:00",
          "2011-12-31T00:00:00",
          "2012-03-31T00:00:00",
          "2012-06-30T00:00:00",
          "2012-09-30T00:00:00",
          "2012-12-31T00:00:00",
          "2013-03-31T00:00:00",
          "2013-06-30T00:00:00",
          "2013-09-30T00:00:00",
          "2013-12-31T00:00:00",
          "2014-03-31T00:00:00",
          "2014-06-30T00:00:00",
          "2014-09-30T00:00:00",
          "2014-12-31T00:00:00",
          "2015-03-31T00:00:00",
          "2015-06-30T00:00:00",
          "2015-09-30T00:00:00",
          "2015-12-31T00:00:00",
          "2016-03-31T00:00:00",
          "2016-06-30T00:00:00",
          "2016-09-30T00:00:00",
          "2016-12-31T00:00:00",
          "2017-03-31T00:00:00",
          "2017-06-30T00:00:00",
          "2017-09-30T00:00:00",
          "2017-12-31T00:00:00",
          "2018-03-31T00:00:00",
          "2018-06-30T00:00:00",
          "2018-09-30T00:00:00",
          "2018-12-31T00:00:00",
          "2019-03-31T00:00:00",
          "2019-06-30T00:00:00",
          "2019-09-30T00:00:00",
          "2019-12-31T00:00:00",
          "2020-03-31T00:00:00",
          "2020-06-30T00:00:00",
          "2011-03-31T00:00:00",
          "2011-06-30T00:00:00",
          "2011-09-30T00:00:00",
          "2011-12-31T00:00:00",
          "2012-03-31T00:00:00",
          "2012-06-30T00:00:00",
          "2012-09-30T00:00:00",
          "2012-12-31T00:00:00",
          "2013-03-31T00:00:00",
          "2013-06-30T00:00:00",
          "2013-09-30T00:00:00",
          "2013-12-31T00:00:00",
          "2014-03-31T00:00:00",
          "2014-06-30T00:00:00",
          "2014-09-30T00:00:00",
          "2014-12-31T00:00:00",
          "2015-03-31T00:00:00",
          "2015-06-30T00:00:00",
          "2015-09-30T00:00:00",
          "2015-12-31T00:00:00",
          "2016-03-31T00:00:00",
          "2016-06-30T00:00:00",
          "2016-09-30T00:00:00",
          "2016-12-31T00:00:00",
          "2017-03-31T00:00:00",
          "2017-06-30T00:00:00",
          "2017-09-30T00:00:00",
          "2017-12-31T00:00:00",
          "2018-03-31T00:00:00",
          "2018-06-30T00:00:00",
          "2018-09-30T00:00:00",
          "2018-12-31T00:00:00",
          "2019-03-31T00:00:00",
          "2019-06-30T00:00:00",
          "2019-09-30T00:00:00",
          "2019-12-31T00:00:00",
          "2020-03-31T00:00:00",
          "2020-06-30T00:00:00",
          "2011-03-31T00:00:00",
          "2011-06-30T00:00:00",
          "2011-09-30T00:00:00",
          "2011-12-31T00:00:00",
          "2012-03-31T00:00:00",
          "2012-06-30T00:00:00",
          "2012-09-30T00:00:00",
          "2012-12-31T00:00:00",
          "2013-03-31T00:00:00",
          "2013-06-30T00:00:00",
          "2013-09-30T00:00:00",
          "2013-12-31T00:00:00",
          "2014-03-31T00:00:00",
          "2014-06-30T00:00:00",
          "2014-09-30T00:00:00",
          "2014-12-31T00:00:00",
          "2015-03-31T00:00:00",
          "2015-06-30T00:00:00",
          "2015-09-30T00:00:00",
          "2015-12-31T00:00:00",
          "2016-03-31T00:00:00",
          "2016-06-30T00:00:00",
          "2016-09-30T00:00:00",
          "2016-12-31T00:00:00",
          "2017-03-31T00:00:00",
          "2017-06-30T00:00:00",
          "2017-09-30T00:00:00",
          "2017-12-31T00:00:00",
          "2018-03-31T00:00:00",
          "2018-06-30T00:00:00",
          "2018-09-30T00:00:00",
          "2018-12-31T00:00:00",
          "2019-03-31T00:00:00",
          "2019-06-30T00:00:00",
          "2019-09-30T00:00:00",
          "2019-12-31T00:00:00",
          "2020-03-31T00:00:00",
          "2020-06-30T00:00:00",
          "2011-03-31T00:00:00",
          "2011-06-30T00:00:00",
          "2011-09-30T00:00:00",
          "2011-12-31T00:00:00",
          "2012-03-31T00:00:00",
          "2012-06-30T00:00:00",
          "2012-09-30T00:00:00",
          "2012-12-31T00:00:00",
          "2013-03-31T00:00:00",
          "2013-06-30T00:00:00",
          "2013-09-30T00:00:00",
          "2013-12-31T00:00:00",
          "2014-03-31T00:00:00",
          "2014-06-30T00:00:00",
          "2014-09-30T00:00:00",
          "2014-12-31T00:00:00",
          "2015-03-31T00:00:00",
          "2015-06-30T00:00:00",
          "2015-09-30T00:00:00",
          "2015-12-31T00:00:00",
          "2016-03-31T00:00:00",
          "2016-06-30T00:00:00",
          "2016-09-30T00:00:00",
          "2016-12-31T00:00:00",
          "2017-03-31T00:00:00",
          "2017-06-30T00:00:00",
          "2017-09-30T00:00:00",
          "2017-12-31T00:00:00",
          "2018-03-31T00:00:00",
          "2018-06-30T00:00:00",
          "2018-09-30T00:00:00",
          "2018-12-31T00:00:00",
          "2019-03-31T00:00:00",
          "2019-06-30T00:00:00",
          "2019-09-30T00:00:00",
          "2019-12-31T00:00:00",
          "2020-03-31T00:00:00",
          "2020-06-30T00:00:00",
          "2011-03-31T00:00:00",
          "2011-06-30T00:00:00",
          "2011-09-30T00:00:00",
          "2011-12-31T00:00:00",
          "2012-03-31T00:00:00",
          "2012-06-30T00:00:00",
          "2012-09-30T00:00:00",
          "2012-12-31T00:00:00",
          "2013-03-31T00:00:00",
          "2013-06-30T00:00:00",
          "2013-09-30T00:00:00",
          "2013-12-31T00:00:00",
          "2014-03-31T00:00:00",
          "2014-06-30T00:00:00",
          "2014-09-30T00:00:00",
          "2014-12-31T00:00:00",
          "2015-03-31T00:00:00",
          "2015-06-30T00:00:00",
          "2015-09-30T00:00:00",
          "2015-12-31T00:00:00",
          "2016-03-31T00:00:00",
          "2016-06-30T00:00:00",
          "2016-09-30T00:00:00",
          "2016-12-31T00:00:00",
          "2017-03-31T00:00:00",
          "2017-06-30T00:00:00",
          "2017-09-30T00:00:00",
          "2017-12-31T00:00:00",
          "2018-03-31T00:00:00",
          "2018-06-30T00:00:00",
          "2018-09-30T00:00:00",
          "2018-12-31T00:00:00",
          "2019-03-31T00:00:00",
          "2019-06-30T00:00:00",
          "2019-09-30T00:00:00",
          "2019-12-31T00:00:00",
          "2020-03-31T00:00:00",
          "2020-06-30T00:00:00",
          "2011-03-31T00:00:00",
          "2011-06-30T00:00:00",
          "2011-09-30T00:00:00",
          "2011-12-31T00:00:00",
          "2012-03-31T00:00:00",
          "2012-06-30T00:00:00",
          "2012-09-30T00:00:00",
          "2012-12-31T00:00:00",
          "2013-03-31T00:00:00",
          "2013-06-30T00:00:00",
          "2013-09-30T00:00:00",
          "2013-12-31T00:00:00",
          "2014-03-31T00:00:00",
          "2014-06-30T00:00:00",
          "2014-09-30T00:00:00",
          "2014-12-31T00:00:00",
          "2015-03-31T00:00:00",
          "2015-06-30T00:00:00",
          "2015-09-30T00:00:00",
          "2015-12-31T00:00:00",
          "2016-03-31T00:00:00",
          "2016-06-30T00:00:00",
          "2016-09-30T00:00:00",
          "2016-12-31T00:00:00",
          "2017-03-31T00:00:00",
          "2017-06-30T00:00:00",
          "2017-09-30T00:00:00",
          "2017-12-31T00:00:00",
          "2018-03-31T00:00:00",
          "2018-06-30T00:00:00",
          "2018-09-30T00:00:00",
          "2018-12-31T00:00:00",
          "2019-03-31T00:00:00",
          "2019-06-30T00:00:00",
          "2019-09-30T00:00:00",
          "2019-12-31T00:00:00",
          "2020-03-31T00:00:00",
          "2020-06-30T00:00:00",
          "2009-06-30T00:00:00",
          "2009-09-30T00:00:00",
          "2009-12-31T00:00:00",
          "2010-03-31T00:00:00",
          "2011-03-31T00:00:00",
          "2011-06-30T00:00:00",
          "2011-09-30T00:00:00",
          "2011-12-31T00:00:00",
          "2012-03-31T00:00:00",
          "2012-06-30T00:00:00",
          "2012-09-30T00:00:00",
          "2012-12-31T00:00:00",
          "2013-03-31T00:00:00",
          "2013-06-30T00:00:00",
          "2013-09-30T00:00:00",
          "2013-12-31T00:00:00",
          "2014-03-31T00:00:00",
          "2014-06-30T00:00:00",
          "2014-09-30T00:00:00",
          "2014-12-31T00:00:00",
          "2015-03-31T00:00:00",
          "2015-06-30T00:00:00",
          "2015-09-30T00:00:00",
          "2015-12-31T00:00:00",
          "2016-03-31T00:00:00",
          "2016-06-30T00:00:00",
          "2016-09-30T00:00:00",
          "2016-12-31T00:00:00",
          "2017-03-31T00:00:00",
          "2017-06-30T00:00:00",
          "2017-09-30T00:00:00",
          "2017-12-31T00:00:00",
          "2018-03-31T00:00:00",
          "2018-06-30T00:00:00",
          "2018-09-30T00:00:00",
          "2018-12-31T00:00:00",
          "2019-03-31T00:00:00",
          "2019-06-30T00:00:00",
          "2019-09-30T00:00:00",
          "2019-12-31T00:00:00",
          "2020-03-31T00:00:00",
          "2020-06-30T00:00:00",
          "2011-03-31T00:00:00",
          "2011-06-30T00:00:00",
          "2011-09-30T00:00:00",
          "2011-12-31T00:00:00",
          "2012-03-31T00:00:00",
          "2012-06-30T00:00:00",
          "2012-09-30T00:00:00",
          "2012-12-31T00:00:00",
          "2013-03-31T00:00:00",
          "2013-06-30T00:00:00",
          "2013-09-30T00:00:00",
          "2013-12-31T00:00:00",
          "2014-03-31T00:00:00",
          "2014-06-30T00:00:00",
          "2014-09-30T00:00:00",
          "2014-12-31T00:00:00",
          "2015-03-31T00:00:00",
          "2015-06-30T00:00:00",
          "2015-09-30T00:00:00",
          "2015-12-31T00:00:00",
          "2016-03-31T00:00:00",
          "2016-06-30T00:00:00",
          "2016-09-30T00:00:00",
          "2016-12-31T00:00:00",
          "2017-03-31T00:00:00",
          "2017-06-30T00:00:00",
          "2017-09-30T00:00:00",
          "2017-12-31T00:00:00",
          "2018-03-31T00:00:00",
          "2018-06-30T00:00:00",
          "2018-09-30T00:00:00",
          "2018-12-31T00:00:00",
          "2019-03-31T00:00:00",
          "2019-06-30T00:00:00",
          "2019-09-30T00:00:00",
          "2019-12-31T00:00:00",
          "2020-03-31T00:00:00",
          "2020-06-30T00:00:00",
          "2011-03-31T00:00:00",
          "2011-06-30T00:00:00",
          "2011-09-30T00:00:00",
          "2011-12-31T00:00:00",
          "2012-03-31T00:00:00",
          "2012-06-30T00:00:00",
          "2012-09-30T00:00:00",
          "2012-12-31T00:00:00",
          "2013-03-31T00:00:00",
          "2013-06-30T00:00:00",
          "2013-09-30T00:00:00",
          "2013-12-31T00:00:00",
          "2014-03-31T00:00:00",
          "2014-06-30T00:00:00",
          "2014-09-30T00:00:00",
          "2014-12-31T00:00:00",
          "2015-03-31T00:00:00",
          "2015-06-30T00:00:00",
          "2015-09-30T00:00:00",
          "2015-12-31T00:00:00",
          "2016-03-31T00:00:00",
          "2016-06-30T00:00:00",
          "2016-09-30T00:00:00",
          "2016-12-31T00:00:00",
          "2017-03-31T00:00:00",
          "2017-06-30T00:00:00",
          "2017-09-30T00:00:00",
          "2017-12-31T00:00:00",
          "2018-03-31T00:00:00",
          "2018-06-30T00:00:00",
          "2018-09-30T00:00:00",
          "2018-12-31T00:00:00",
          "2019-03-31T00:00:00",
          "2019-06-30T00:00:00",
          "2019-09-30T00:00:00",
          "2019-12-31T00:00:00",
          "2020-03-31T00:00:00",
          "2020-06-30T00:00:00",
          "2011-03-31T00:00:00",
          "2011-06-30T00:00:00",
          "2011-09-30T00:00:00",
          "2011-12-31T00:00:00",
          "2012-03-31T00:00:00",
          "2012-06-30T00:00:00",
          "2012-09-30T00:00:00",
          "2012-12-31T00:00:00",
          "2013-03-31T00:00:00",
          "2013-06-30T00:00:00",
          "2013-09-30T00:00:00",
          "2013-12-31T00:00:00",
          "2014-03-31T00:00:00",
          "2014-06-30T00:00:00",
          "2014-09-30T00:00:00",
          "2014-12-31T00:00:00",
          "2015-03-31T00:00:00",
          "2015-06-30T00:00:00",
          "2015-09-30T00:00:00",
          "2015-12-31T00:00:00",
          "2016-03-31T00:00:00",
          "2016-06-30T00:00:00",
          "2016-09-30T00:00:00",
          "2016-12-31T00:00:00",
          "2017-03-31T00:00:00",
          "2017-06-30T00:00:00",
          "2017-09-30T00:00:00",
          "2017-12-31T00:00:00",
          "2018-03-31T00:00:00",
          "2018-06-30T00:00:00",
          "2018-09-30T00:00:00",
          "2018-12-31T00:00:00",
          "2019-03-31T00:00:00",
          "2019-06-30T00:00:00",
          "2019-09-30T00:00:00",
          "2019-12-31T00:00:00",
          "2020-03-31T00:00:00",
          "2020-06-30T00:00:00",
          "2011-03-31T00:00:00",
          "2011-06-30T00:00:00",
          "2011-09-30T00:00:00",
          "2011-12-31T00:00:00",
          "2012-03-31T00:00:00",
          "2012-06-30T00:00:00",
          "2012-09-30T00:00:00",
          "2012-12-31T00:00:00",
          "2013-03-31T00:00:00",
          "2013-06-30T00:00:00",
          "2013-09-30T00:00:00",
          "2013-12-31T00:00:00",
          "2014-03-31T00:00:00",
          "2014-06-30T00:00:00",
          "2014-09-30T00:00:00",
          "2014-12-31T00:00:00",
          "2015-03-31T00:00:00",
          "2015-06-30T00:00:00",
          "2015-09-30T00:00:00",
          "2015-12-31T00:00:00",
          "2016-03-31T00:00:00",
          "2016-06-30T00:00:00",
          "2016-09-30T00:00:00",
          "2016-12-31T00:00:00",
          "2017-03-31T00:00:00",
          "2017-06-30T00:00:00",
          "2017-09-30T00:00:00",
          "2017-12-31T00:00:00",
          "2018-03-31T00:00:00",
          "2018-06-30T00:00:00",
          "2018-09-30T00:00:00",
          "2018-12-31T00:00:00",
          "2019-03-31T00:00:00",
          "2019-06-30T00:00:00",
          "2019-09-30T00:00:00",
          "2019-12-31T00:00:00",
          "2020-03-31T00:00:00",
          "2020-06-30T00:00:00",
          "2011-03-31T00:00:00",
          "2011-06-30T00:00:00",
          "2011-09-30T00:00:00",
          "2011-12-31T00:00:00",
          "2012-03-31T00:00:00",
          "2012-06-30T00:00:00",
          "2012-09-30T00:00:00",
          "2012-12-31T00:00:00",
          "2013-03-31T00:00:00",
          "2013-06-30T00:00:00",
          "2013-09-30T00:00:00",
          "2013-12-31T00:00:00",
          "2014-03-31T00:00:00",
          "2014-06-30T00:00:00",
          "2014-09-30T00:00:00",
          "2014-12-31T00:00:00",
          "2015-03-31T00:00:00",
          "2015-06-30T00:00:00",
          "2015-09-30T00:00:00",
          "2015-12-31T00:00:00",
          "2016-03-31T00:00:00",
          "2016-06-30T00:00:00",
          "2016-09-30T00:00:00",
          "2016-12-31T00:00:00",
          "2017-03-31T00:00:00",
          "2017-06-30T00:00:00",
          "2017-09-30T00:00:00",
          "2017-12-31T00:00:00",
          "2018-03-31T00:00:00",
          "2018-06-30T00:00:00",
          "2018-09-30T00:00:00",
          "2018-12-31T00:00:00",
          "2019-03-31T00:00:00",
          "2019-06-30T00:00:00",
          "2019-09-30T00:00:00",
          "2019-12-31T00:00:00",
          "2020-03-31T00:00:00",
          "2020-06-30T00:00:00",
          "2011-03-31T00:00:00",
          "2011-06-30T00:00:00",
          "2011-09-30T00:00:00",
          "2011-12-31T00:00:00",
          "2012-03-31T00:00:00",
          "2012-06-30T00:00:00",
          "2012-09-30T00:00:00",
          "2012-12-31T00:00:00",
          "2013-03-31T00:00:00",
          "2013-06-30T00:00:00",
          "2013-09-30T00:00:00",
          "2013-12-31T00:00:00",
          "2014-03-31T00:00:00",
          "2014-06-30T00:00:00",
          "2014-09-30T00:00:00",
          "2014-12-31T00:00:00",
          "2015-03-31T00:00:00",
          "2015-06-30T00:00:00",
          "2015-09-30T00:00:00",
          "2015-12-31T00:00:00",
          "2016-03-31T00:00:00",
          "2016-06-30T00:00:00",
          "2016-09-30T00:00:00",
          "2016-12-31T00:00:00",
          "2017-03-31T00:00:00",
          "2017-06-30T00:00:00",
          "2017-09-30T00:00:00",
          "2017-12-31T00:00:00",
          "2018-03-31T00:00:00",
          "2018-06-30T00:00:00",
          "2018-09-30T00:00:00",
          "2018-12-31T00:00:00",
          "2019-03-31T00:00:00",
          "2019-06-30T00:00:00",
          "2019-09-30T00:00:00",
          "2019-12-31T00:00:00",
          "2020-03-31T00:00:00",
          "2020-06-30T00:00:00",
          "2011-03-31T00:00:00",
          "2011-06-30T00:00:00",
          "2011-09-30T00:00:00",
          "2011-12-31T00:00:00",
          "2012-03-31T00:00:00",
          "2012-06-30T00:00:00",
          "2012-09-30T00:00:00",
          "2012-12-31T00:00:00",
          "2013-03-31T00:00:00",
          "2013-06-30T00:00:00",
          "2013-09-30T00:00:00",
          "2013-12-31T00:00:00",
          "2014-03-31T00:00:00",
          "2014-06-30T00:00:00",
          "2014-09-30T00:00:00",
          "2014-12-31T00:00:00",
          "2015-03-31T00:00:00",
          "2015-06-30T00:00:00",
          "2015-09-30T00:00:00",
          "2015-12-31T00:00:00",
          "2016-03-31T00:00:00",
          "2016-06-30T00:00:00",
          "2016-09-30T00:00:00",
          "2016-12-31T00:00:00",
          "2017-03-31T00:00:00",
          "2017-06-30T00:00:00",
          "2017-09-30T00:00:00",
          "2017-12-31T00:00:00",
          "2018-03-31T00:00:00",
          "2018-06-30T00:00:00",
          "2018-09-30T00:00:00",
          "2018-12-31T00:00:00",
          "2019-03-31T00:00:00",
          "2019-06-30T00:00:00",
          "2019-09-30T00:00:00",
          "2019-12-31T00:00:00",
          "2020-03-31T00:00:00",
          "2020-06-30T00:00:00",
          "2010-06-30T00:00:00",
          "2010-09-30T00:00:00",
          "2010-12-31T00:00:00",
          "2011-03-31T00:00:00",
          "2011-06-30T00:00:00",
          "2011-09-30T00:00:00",
          "2011-12-31T00:00:00",
          "2012-03-31T00:00:00",
          "2012-06-30T00:00:00",
          "2012-09-30T00:00:00",
          "2012-12-31T00:00:00",
          "2013-03-31T00:00:00",
          "2013-06-30T00:00:00",
          "2013-09-30T00:00:00",
          "2013-12-31T00:00:00",
          "2014-03-31T00:00:00",
          "2015-03-31T00:00:00",
          "2015-06-30T00:00:00",
          "2015-09-30T00:00:00",
          "2015-12-31T00:00:00",
          "2016-03-31T00:00:00",
          "2016-06-30T00:00:00",
          "2016-09-30T00:00:00",
          "2016-12-31T00:00:00",
          "2017-03-31T00:00:00",
          "2017-06-30T00:00:00",
          "2017-09-30T00:00:00",
          "2017-12-31T00:00:00",
          "2018-03-31T00:00:00",
          "2018-06-30T00:00:00",
          "2018-09-30T00:00:00",
          "2018-12-31T00:00:00",
          "2019-03-31T00:00:00",
          "2019-06-30T00:00:00",
          "2019-09-30T00:00:00",
          "2019-12-31T00:00:00",
          "2020-03-31T00:00:00",
          "2020-06-30T00:00:00",
          "2011-03-31T00:00:00",
          "2011-06-30T00:00:00",
          "2011-09-30T00:00:00",
          "2011-12-31T00:00:00",
          "2012-03-31T00:00:00",
          "2012-06-30T00:00:00",
          "2012-09-30T00:00:00",
          "2012-12-31T00:00:00",
          "2013-03-31T00:00:00",
          "2013-06-30T00:00:00",
          "2013-09-30T00:00:00",
          "2013-12-31T00:00:00",
          "2014-03-31T00:00:00",
          "2014-06-30T00:00:00",
          "2014-09-30T00:00:00",
          "2014-12-31T00:00:00",
          "2015-03-31T00:00:00",
          "2015-06-30T00:00:00",
          "2015-09-30T00:00:00",
          "2015-12-31T00:00:00",
          "2016-03-31T00:00:00",
          "2016-06-30T00:00:00",
          "2016-09-30T00:00:00",
          "2016-12-31T00:00:00",
          "2017-03-31T00:00:00",
          "2017-06-30T00:00:00",
          "2017-09-30T00:00:00",
          "2017-12-31T00:00:00",
          "2018-03-31T00:00:00",
          "2018-06-30T00:00:00",
          "2018-09-30T00:00:00",
          "2018-12-31T00:00:00",
          "2019-03-31T00:00:00",
          "2019-06-30T00:00:00",
          "2019-09-30T00:00:00",
          "2019-12-31T00:00:00",
          "2020-03-31T00:00:00",
          "2020-06-30T00:00:00",
          "2011-03-31T00:00:00",
          "2011-06-30T00:00:00",
          "2011-09-30T00:00:00",
          "2011-12-31T00:00:00",
          "2012-03-31T00:00:00",
          "2012-06-30T00:00:00",
          "2012-09-30T00:00:00",
          "2012-12-31T00:00:00",
          "2013-03-31T00:00:00",
          "2013-06-30T00:00:00",
          "2013-09-30T00:00:00",
          "2013-12-31T00:00:00",
          "2014-03-31T00:00:00",
          "2014-06-30T00:00:00",
          "2014-09-30T00:00:00",
          "2014-12-31T00:00:00",
          "2015-03-31T00:00:00",
          "2015-06-30T00:00:00",
          "2015-09-30T00:00:00",
          "2015-12-31T00:00:00",
          "2016-03-31T00:00:00",
          "2016-06-30T00:00:00",
          "2016-09-30T00:00:00",
          "2016-12-31T00:00:00",
          "2017-03-31T00:00:00",
          "2017-06-30T00:00:00",
          "2017-09-30T00:00:00",
          "2017-12-31T00:00:00",
          "2018-03-31T00:00:00",
          "2018-06-30T00:00:00",
          "2018-09-30T00:00:00",
          "2018-12-31T00:00:00",
          "2019-03-31T00:00:00",
          "2019-06-30T00:00:00",
          "2019-09-30T00:00:00",
          "2019-12-31T00:00:00",
          "2020-03-31T00:00:00",
          "2020-06-30T00:00:00",
          "2011-03-31T00:00:00",
          "2011-06-30T00:00:00",
          "2011-09-30T00:00:00",
          "2011-12-31T00:00:00",
          "2012-03-31T00:00:00",
          "2012-06-30T00:00:00",
          "2012-09-30T00:00:00",
          "2012-12-31T00:00:00",
          "2013-03-31T00:00:00",
          "2013-06-30T00:00:00",
          "2013-09-30T00:00:00",
          "2013-12-31T00:00:00",
          "2014-03-31T00:00:00",
          "2014-06-30T00:00:00",
          "2014-09-30T00:00:00",
          "2014-12-31T00:00:00",
          "2015-03-31T00:00:00",
          "2015-06-30T00:00:00",
          "2015-09-30T00:00:00",
          "2015-12-31T00:00:00",
          "2016-03-31T00:00:00",
          "2016-06-30T00:00:00",
          "2016-09-30T00:00:00",
          "2016-12-31T00:00:00",
          "2017-03-31T00:00:00",
          "2017-06-30T00:00:00",
          "2017-09-30T00:00:00",
          "2017-12-31T00:00:00",
          "2018-03-31T00:00:00",
          "2018-06-30T00:00:00",
          "2018-09-30T00:00:00",
          "2018-12-31T00:00:00",
          "2019-03-31T00:00:00",
          "2019-06-30T00:00:00",
          "2019-09-30T00:00:00",
          "2019-12-31T00:00:00",
          "2020-03-31T00:00:00",
          "2020-06-30T00:00:00",
          "2011-03-31T00:00:00",
          "2011-06-30T00:00:00",
          "2011-09-30T00:00:00",
          "2011-12-31T00:00:00",
          "2012-03-31T00:00:00",
          "2012-06-30T00:00:00",
          "2012-09-30T00:00:00",
          "2012-12-31T00:00:00",
          "2013-03-31T00:00:00",
          "2013-06-30T00:00:00",
          "2013-09-30T00:00:00",
          "2013-12-31T00:00:00",
          "2014-03-31T00:00:00",
          "2014-06-30T00:00:00",
          "2014-09-30T00:00:00",
          "2014-12-31T00:00:00",
          "2015-03-31T00:00:00",
          "2015-06-30T00:00:00",
          "2015-09-30T00:00:00",
          "2015-12-31T00:00:00",
          "2016-03-31T00:00:00",
          "2016-06-30T00:00:00",
          "2016-09-30T00:00:00",
          "2016-12-31T00:00:00",
          "2017-03-31T00:00:00",
          "2017-06-30T00:00:00",
          "2017-09-30T00:00:00",
          "2017-12-31T00:00:00",
          "2018-03-31T00:00:00",
          "2018-06-30T00:00:00",
          "2018-09-30T00:00:00",
          "2018-12-31T00:00:00",
          "2019-03-31T00:00:00",
          "2019-06-30T00:00:00",
          "2019-09-30T00:00:00",
          "2019-12-31T00:00:00",
          "2020-03-31T00:00:00",
          "2020-06-30T00:00:00",
          "2011-03-31T00:00:00",
          "2011-06-30T00:00:00",
          "2011-09-30T00:00:00",
          "2011-12-31T00:00:00",
          "2012-03-31T00:00:00",
          "2012-06-30T00:00:00",
          "2012-09-30T00:00:00",
          "2012-12-31T00:00:00",
          "2013-03-31T00:00:00",
          "2013-06-30T00:00:00",
          "2013-09-30T00:00:00",
          "2013-12-31T00:00:00",
          "2014-03-31T00:00:00",
          "2014-06-30T00:00:00",
          "2014-09-30T00:00:00",
          "2014-12-31T00:00:00",
          "2015-03-31T00:00:00",
          "2015-06-30T00:00:00",
          "2015-09-30T00:00:00",
          "2015-12-31T00:00:00",
          "2016-03-31T00:00:00",
          "2016-06-30T00:00:00",
          "2016-09-30T00:00:00",
          "2016-12-31T00:00:00",
          "2017-03-31T00:00:00",
          "2017-06-30T00:00:00",
          "2017-09-30T00:00:00",
          "2017-12-31T00:00:00",
          "2018-03-31T00:00:00",
          "2018-06-30T00:00:00",
          "2018-09-30T00:00:00",
          "2018-12-31T00:00:00",
          "2019-03-31T00:00:00",
          "2019-06-30T00:00:00",
          "2019-09-30T00:00:00",
          "2019-12-31T00:00:00",
          "2020-03-31T00:00:00",
          "2020-06-30T00:00:00",
          "2010-09-30T00:00:00",
          "2010-12-31T00:00:00",
          "2011-03-31T00:00:00",
          "2011-06-30T00:00:00",
          "2011-09-30T00:00:00",
          "2011-12-31T00:00:00",
          "2012-03-31T00:00:00",
          "2012-06-30T00:00:00",
          "2012-09-30T00:00:00",
          "2012-12-31T00:00:00",
          "2013-03-31T00:00:00",
          "2013-06-30T00:00:00",
          "2014-03-31T00:00:00",
          "2014-06-30T00:00:00",
          "2014-09-30T00:00:00",
          "2014-12-31T00:00:00",
          "2015-03-31T00:00:00",
          "2015-06-30T00:00:00",
          "2015-09-30T00:00:00",
          "2015-12-31T00:00:00",
          "2016-03-31T00:00:00",
          "2016-06-30T00:00:00",
          "2016-09-30T00:00:00",
          "2016-12-31T00:00:00",
          "2017-03-31T00:00:00",
          "2017-06-30T00:00:00",
          "2017-09-30T00:00:00",
          "2017-12-31T00:00:00",
          "2018-03-31T00:00:00",
          "2018-06-30T00:00:00",
          "2018-09-30T00:00:00",
          "2018-12-31T00:00:00",
          "2019-03-31T00:00:00",
          "2019-06-30T00:00:00",
          "2019-09-30T00:00:00",
          "2019-12-31T00:00:00",
          "2020-03-31T00:00:00",
          "2020-06-30T00:00:00",
          "2011-03-31T00:00:00",
          "2011-06-30T00:00:00",
          "2011-09-30T00:00:00",
          "2011-12-31T00:00:00",
          "2012-03-31T00:00:00",
          "2012-06-30T00:00:00",
          "2012-09-30T00:00:00",
          "2012-12-31T00:00:00",
          "2013-03-31T00:00:00",
          "2013-06-30T00:00:00",
          "2013-09-30T00:00:00",
          "2013-12-31T00:00:00",
          "2014-03-31T00:00:00",
          "2014-06-30T00:00:00",
          "2014-09-30T00:00:00",
          "2014-12-31T00:00:00",
          "2015-03-31T00:00:00",
          "2015-06-30T00:00:00",
          "2015-09-30T00:00:00",
          "2015-12-31T00:00:00",
          "2016-03-31T00:00:00",
          "2016-06-30T00:00:00",
          "2016-09-30T00:00:00",
          "2016-12-31T00:00:00",
          "2017-03-31T00:00:00",
          "2017-06-30T00:00:00",
          "2017-09-30T00:00:00",
          "2017-12-31T00:00:00",
          "2018-03-31T00:00:00",
          "2018-06-30T00:00:00",
          "2018-09-30T00:00:00",
          "2018-12-31T00:00:00",
          "2019-03-31T00:00:00",
          "2019-06-30T00:00:00",
          "2019-09-30T00:00:00",
          "2019-12-31T00:00:00",
          "2020-03-31T00:00:00",
          "2020-06-30T00:00:00",
          "2011-03-31T00:00:00",
          "2011-06-30T00:00:00",
          "2011-09-30T00:00:00",
          "2011-12-31T00:00:00",
          "2012-03-31T00:00:00",
          "2012-06-30T00:00:00",
          "2012-09-30T00:00:00",
          "2012-12-31T00:00:00",
          "2013-03-31T00:00:00",
          "2013-06-30T00:00:00",
          "2013-09-30T00:00:00",
          "2013-12-31T00:00:00",
          "2014-03-31T00:00:00",
          "2014-06-30T00:00:00",
          "2014-09-30T00:00:00",
          "2014-12-31T00:00:00",
          "2015-03-31T00:00:00",
          "2015-06-30T00:00:00",
          "2015-09-30T00:00:00",
          "2015-12-31T00:00:00",
          "2016-03-31T00:00:00",
          "2016-06-30T00:00:00",
          "2016-09-30T00:00:00",
          "2016-12-31T00:00:00",
          "2017-03-31T00:00:00",
          "2017-06-30T00:00:00",
          "2017-09-30T00:00:00",
          "2017-12-31T00:00:00",
          "2018-03-31T00:00:00",
          "2018-06-30T00:00:00",
          "2018-09-30T00:00:00",
          "2018-12-31T00:00:00",
          "2019-03-31T00:00:00",
          "2019-06-30T00:00:00",
          "2019-09-30T00:00:00",
          "2019-12-31T00:00:00",
          "2020-03-31T00:00:00",
          "2020-06-30T00:00:00",
          "2011-03-31T00:00:00",
          "2011-06-30T00:00:00",
          "2011-09-30T00:00:00",
          "2011-12-31T00:00:00",
          "2012-03-31T00:00:00",
          "2012-06-30T00:00:00",
          "2012-09-30T00:00:00",
          "2012-12-31T00:00:00",
          "2013-03-31T00:00:00",
          "2013-06-30T00:00:00",
          "2013-09-30T00:00:00",
          "2013-12-31T00:00:00",
          "2014-03-31T00:00:00",
          "2014-06-30T00:00:00",
          "2014-09-30T00:00:00",
          "2014-12-31T00:00:00",
          "2015-03-31T00:00:00",
          "2015-06-30T00:00:00",
          "2015-09-30T00:00:00",
          "2015-12-31T00:00:00",
          "2016-03-31T00:00:00",
          "2016-06-30T00:00:00",
          "2016-09-30T00:00:00",
          "2016-12-31T00:00:00",
          "2017-03-31T00:00:00",
          "2017-06-30T00:00:00",
          "2017-09-30T00:00:00",
          "2017-12-31T00:00:00",
          "2018-03-31T00:00:00",
          "2018-06-30T00:00:00",
          "2018-09-30T00:00:00",
          "2018-12-31T00:00:00",
          "2019-03-31T00:00:00",
          "2019-06-30T00:00:00",
          "2019-09-30T00:00:00",
          "2019-12-31T00:00:00",
          "2020-03-31T00:00:00",
          "2020-06-30T00:00:00",
          "2011-03-31T00:00:00",
          "2011-06-30T00:00:00",
          "2011-09-30T00:00:00",
          "2011-12-31T00:00:00",
          "2012-03-31T00:00:00",
          "2012-06-30T00:00:00",
          "2012-09-30T00:00:00",
          "2012-12-31T00:00:00",
          "2013-03-31T00:00:00",
          "2013-06-30T00:00:00",
          "2013-09-30T00:00:00",
          "2013-12-31T00:00:00",
          "2014-03-31T00:00:00",
          "2014-06-30T00:00:00",
          "2014-09-30T00:00:00",
          "2014-12-31T00:00:00",
          "2015-03-31T00:00:00",
          "2015-06-30T00:00:00",
          "2015-09-30T00:00:00",
          "2015-12-31T00:00:00",
          "2016-03-31T00:00:00",
          "2016-06-30T00:00:00",
          "2016-09-30T00:00:00",
          "2016-12-31T00:00:00",
          "2017-03-31T00:00:00",
          "2017-06-30T00:00:00",
          "2017-09-30T00:00:00",
          "2017-12-31T00:00:00",
          "2018-03-31T00:00:00",
          "2018-06-30T00:00:00",
          "2018-09-30T00:00:00",
          "2018-12-31T00:00:00",
          "2019-03-31T00:00:00",
          "2019-06-30T00:00:00",
          "2019-09-30T00:00:00",
          "2019-12-31T00:00:00",
          "2020-03-31T00:00:00",
          "2020-06-30T00:00:00",
          "2011-03-31T00:00:00",
          "2011-06-30T00:00:00",
          "2011-09-30T00:00:00",
          "2011-12-31T00:00:00",
          "2012-03-31T00:00:00",
          "2012-06-30T00:00:00",
          "2012-09-30T00:00:00",
          "2012-12-31T00:00:00",
          "2013-03-31T00:00:00",
          "2013-06-30T00:00:00",
          "2013-09-30T00:00:00",
          "2013-12-31T00:00:00",
          "2014-03-31T00:00:00",
          "2014-06-30T00:00:00",
          "2014-09-30T00:00:00",
          "2014-12-31T00:00:00",
          "2015-03-31T00:00:00",
          "2015-06-30T00:00:00",
          "2015-09-30T00:00:00",
          "2015-12-31T00:00:00",
          "2016-03-31T00:00:00",
          "2016-06-30T00:00:00",
          "2016-09-30T00:00:00",
          "2016-12-31T00:00:00",
          "2017-03-31T00:00:00",
          "2017-06-30T00:00:00",
          "2017-09-30T00:00:00",
          "2017-12-31T00:00:00",
          "2018-03-31T00:00:00",
          "2018-06-30T00:00:00",
          "2018-09-30T00:00:00",
          "2018-12-31T00:00:00",
          "2019-03-31T00:00:00",
          "2019-06-30T00:00:00",
          "2019-09-30T00:00:00",
          "2019-12-31T00:00:00",
          "2020-03-31T00:00:00",
          "2020-06-30T00:00:00",
          "2011-03-31T00:00:00",
          "2011-06-30T00:00:00",
          "2011-09-30T00:00:00",
          "2011-12-31T00:00:00",
          "2012-03-31T00:00:00",
          "2012-06-30T00:00:00",
          "2012-09-30T00:00:00",
          "2012-12-31T00:00:00",
          "2013-03-31T00:00:00",
          "2013-06-30T00:00:00",
          "2013-09-30T00:00:00",
          "2013-12-31T00:00:00",
          "2014-03-31T00:00:00",
          "2014-06-30T00:00:00",
          "2014-09-30T00:00:00",
          "2014-12-31T00:00:00",
          "2015-03-31T00:00:00",
          "2015-06-30T00:00:00",
          "2015-09-30T00:00:00",
          "2015-12-31T00:00:00",
          "2016-03-31T00:00:00",
          "2016-06-30T00:00:00",
          "2016-09-30T00:00:00",
          "2016-12-31T00:00:00",
          "2017-03-31T00:00:00",
          "2017-06-30T00:00:00",
          "2017-09-30T00:00:00",
          "2017-12-31T00:00:00",
          "2018-03-31T00:00:00",
          "2018-06-30T00:00:00",
          "2018-09-30T00:00:00",
          "2018-12-31T00:00:00",
          "2019-03-31T00:00:00",
          "2019-06-30T00:00:00",
          "2019-09-30T00:00:00",
          "2019-12-31T00:00:00",
          "2020-03-31T00:00:00",
          "2020-06-30T00:00:00",
          "2011-03-31T00:00:00",
          "2011-06-30T00:00:00",
          "2011-09-30T00:00:00",
          "2011-12-31T00:00:00",
          "2012-03-31T00:00:00",
          "2012-06-30T00:00:00",
          "2012-09-30T00:00:00",
          "2012-12-31T00:00:00",
          "2013-03-31T00:00:00",
          "2013-06-30T00:00:00",
          "2013-09-30T00:00:00",
          "2013-12-31T00:00:00",
          "2014-03-31T00:00:00",
          "2014-06-30T00:00:00",
          "2014-09-30T00:00:00",
          "2014-12-31T00:00:00",
          "2015-03-31T00:00:00",
          "2015-06-30T00:00:00",
          "2015-09-30T00:00:00",
          "2015-12-31T00:00:00",
          "2016-03-31T00:00:00",
          "2016-06-30T00:00:00",
          "2016-09-30T00:00:00",
          "2016-12-31T00:00:00",
          "2017-03-31T00:00:00",
          "2017-06-30T00:00:00",
          "2017-09-30T00:00:00",
          "2017-12-31T00:00:00",
          "2018-03-31T00:00:00",
          "2018-06-30T00:00:00",
          "2018-09-30T00:00:00",
          "2018-12-31T00:00:00",
          "2019-03-31T00:00:00",
          "2019-06-30T00:00:00",
          "2019-09-30T00:00:00",
          "2019-12-31T00:00:00",
          "2020-03-31T00:00:00",
          "2020-06-30T00:00:00",
          "2011-03-31T00:00:00",
          "2011-06-30T00:00:00",
          "2011-09-30T00:00:00",
          "2011-12-31T00:00:00",
          "2012-03-31T00:00:00",
          "2012-06-30T00:00:00",
          "2012-09-30T00:00:00",
          "2012-12-31T00:00:00",
          "2013-03-31T00:00:00",
          "2013-06-30T00:00:00",
          "2013-09-30T00:00:00",
          "2013-12-31T00:00:00",
          "2014-03-31T00:00:00",
          "2014-06-30T00:00:00",
          "2014-09-30T00:00:00",
          "2014-12-31T00:00:00",
          "2015-03-31T00:00:00",
          "2015-06-30T00:00:00",
          "2015-09-30T00:00:00",
          "2015-12-31T00:00:00",
          "2016-03-31T00:00:00",
          "2016-06-30T00:00:00",
          "2016-09-30T00:00:00",
          "2016-12-31T00:00:00",
          "2017-03-31T00:00:00",
          "2017-06-30T00:00:00",
          "2017-09-30T00:00:00",
          "2017-12-31T00:00:00",
          "2018-03-31T00:00:00",
          "2018-06-30T00:00:00",
          "2018-09-30T00:00:00",
          "2018-12-31T00:00:00",
          "2019-03-31T00:00:00",
          "2019-06-30T00:00:00",
          "2019-09-30T00:00:00",
          "2019-12-31T00:00:00",
          "2020-03-31T00:00:00",
          "2020-06-30T00:00:00",
          "2011-03-31T00:00:00",
          "2011-06-30T00:00:00",
          "2011-09-30T00:00:00",
          "2011-12-31T00:00:00",
          "2012-03-31T00:00:00",
          "2012-06-30T00:00:00",
          "2012-09-30T00:00:00",
          "2012-12-31T00:00:00",
          "2013-03-31T00:00:00",
          "2013-06-30T00:00:00",
          "2013-09-30T00:00:00",
          "2013-12-31T00:00:00",
          "2014-03-31T00:00:00",
          "2014-06-30T00:00:00",
          "2014-09-30T00:00:00",
          "2014-12-31T00:00:00",
          "2015-03-31T00:00:00",
          "2015-06-30T00:00:00",
          "2015-09-30T00:00:00",
          "2015-12-31T00:00:00",
          "2016-03-31T00:00:00",
          "2016-06-30T00:00:00",
          "2016-09-30T00:00:00",
          "2016-12-31T00:00:00",
          "2017-03-31T00:00:00",
          "2017-06-30T00:00:00",
          "2017-09-30T00:00:00",
          "2017-12-31T00:00:00",
          "2018-03-31T00:00:00",
          "2018-06-30T00:00:00",
          "2018-09-30T00:00:00",
          "2018-12-31T00:00:00",
          "2019-03-31T00:00:00",
          "2019-06-30T00:00:00",
          "2019-09-30T00:00:00",
          "2019-12-31T00:00:00",
          "2020-03-31T00:00:00",
          "2020-06-30T00:00:00",
          "2011-03-31T00:00:00",
          "2011-06-30T00:00:00",
          "2011-09-30T00:00:00",
          "2011-12-31T00:00:00",
          "2012-03-31T00:00:00",
          "2012-06-30T00:00:00",
          "2012-09-30T00:00:00",
          "2012-12-31T00:00:00",
          "2013-03-31T00:00:00",
          "2013-06-30T00:00:00",
          "2013-09-30T00:00:00",
          "2013-12-31T00:00:00",
          "2014-03-31T00:00:00",
          "2014-06-30T00:00:00",
          "2014-09-30T00:00:00",
          "2014-12-31T00:00:00",
          "2015-03-31T00:00:00",
          "2015-06-30T00:00:00",
          "2015-09-30T00:00:00",
          "2015-12-31T00:00:00",
          "2016-03-31T00:00:00",
          "2016-06-30T00:00:00",
          "2016-09-30T00:00:00",
          "2016-12-31T00:00:00",
          "2017-03-31T00:00:00",
          "2017-06-30T00:00:00",
          "2017-09-30T00:00:00",
          "2017-12-31T00:00:00",
          "2018-03-31T00:00:00",
          "2018-06-30T00:00:00",
          "2018-09-30T00:00:00",
          "2018-12-31T00:00:00",
          "2019-03-31T00:00:00",
          "2019-06-30T00:00:00",
          "2019-09-30T00:00:00",
          "2019-12-31T00:00:00",
          "2020-03-31T00:00:00",
          "2020-06-30T00:00:00",
          "2011-03-31T00:00:00",
          "2011-06-30T00:00:00",
          "2011-09-30T00:00:00",
          "2011-12-31T00:00:00",
          "2012-03-31T00:00:00",
          "2012-06-30T00:00:00",
          "2012-09-30T00:00:00",
          "2012-12-31T00:00:00",
          "2013-03-31T00:00:00",
          "2013-06-30T00:00:00",
          "2013-09-30T00:00:00",
          "2013-12-31T00:00:00",
          "2014-03-31T00:00:00",
          "2014-06-30T00:00:00",
          "2014-09-30T00:00:00",
          "2014-12-31T00:00:00",
          "2015-03-31T00:00:00",
          "2015-06-30T00:00:00",
          "2015-09-30T00:00:00",
          "2015-12-31T00:00:00",
          "2016-03-31T00:00:00",
          "2016-06-30T00:00:00",
          "2016-09-30T00:00:00",
          "2016-12-31T00:00:00",
          "2017-03-31T00:00:00",
          "2017-06-30T00:00:00",
          "2017-09-30T00:00:00",
          "2017-12-31T00:00:00",
          "2018-03-31T00:00:00",
          "2018-06-30T00:00:00",
          "2018-09-30T00:00:00",
          "2018-12-31T00:00:00",
          "2019-03-31T00:00:00",
          "2019-06-30T00:00:00",
          "2019-09-30T00:00:00",
          "2019-12-31T00:00:00",
          "2020-03-31T00:00:00",
          "2020-06-30T00:00:00",
          "2011-03-31T00:00:00",
          "2011-06-30T00:00:00",
          "2011-09-30T00:00:00",
          "2011-12-31T00:00:00",
          "2011-06-30T00:00:00.100000",
          "2011-09-30T00:00:00.100000",
          "2011-12-31T00:00:00.100000",
          "2012-03-31T00:00:00",
          "2012-06-30T00:00:00",
          "2013-06-30T00:00:00",
          "2013-09-30T00:00:00",
          "2013-12-31T00:00:00",
          "2014-03-31T00:00:00",
          "2014-06-30T00:00:00",
          "2014-09-30T00:00:00",
          "2014-12-31T00:00:00",
          "2015-03-31T00:00:00",
          "2015-06-30T00:00:00",
          "2015-09-30T00:00:00",
          "2015-12-31T00:00:00",
          "2016-03-31T00:00:00",
          "2016-06-30T00:00:00",
          "2016-09-30T00:00:00",
          "2016-12-31T00:00:00",
          "2017-03-31T00:00:00",
          "2017-06-30T00:00:00",
          "2017-09-30T00:00:00",
          "2017-12-31T00:00:00",
          "2018-03-31T00:00:00",
          "2018-06-30T00:00:00",
          "2018-09-30T00:00:00",
          "2018-12-31T00:00:00",
          "2019-03-31T00:00:00",
          "2019-06-30T00:00:00",
          "2019-09-30T00:00:00",
          "2019-12-31T00:00:00",
          "2020-03-31T00:00:00",
          "2020-06-30T00:00:00",
          "2011-03-31T00:00:00",
          "2011-06-30T00:00:00",
          "2011-09-30T00:00:00",
          "2011-12-31T00:00:00",
          "2012-03-31T00:00:00",
          "2012-06-30T00:00:00",
          "2012-09-30T00:00:00",
          "2012-12-31T00:00:00",
          "2013-03-31T00:00:00",
          "2013-06-30T00:00:00",
          "2013-09-30T00:00:00",
          "2013-12-31T00:00:00",
          "2014-03-31T00:00:00",
          "2014-06-30T00:00:00",
          "2014-09-30T00:00:00",
          "2014-12-31T00:00:00",
          "2015-03-31T00:00:00",
          "2015-06-30T00:00:00",
          "2015-09-30T00:00:00",
          "2015-12-31T00:00:00",
          "2016-03-31T00:00:00",
          "2016-06-30T00:00:00",
          "2016-09-30T00:00:00",
          "2016-12-31T00:00:00",
          "2017-03-31T00:00:00",
          "2017-06-30T00:00:00",
          "2017-09-30T00:00:00",
          "2017-12-31T00:00:00",
          "2018-03-31T00:00:00",
          "2018-06-30T00:00:00",
          "2018-09-30T00:00:00",
          "2018-12-31T00:00:00",
          "2019-03-31T00:00:00",
          "2019-06-30T00:00:00",
          "2019-09-30T00:00:00",
          "2019-12-31T00:00:00",
          "2020-03-31T00:00:00",
          "2020-06-30T00:00:00",
          "2011-03-31T00:00:00",
          "2011-06-30T00:00:00",
          "2011-09-30T00:00:00",
          "2011-12-31T00:00:00",
          "2012-03-31T00:00:00",
          "2012-06-30T00:00:00",
          "2012-09-30T00:00:00",
          "2012-12-31T00:00:00",
          "2013-03-31T00:00:00",
          "2013-06-30T00:00:00",
          "2013-09-30T00:00:00",
          "2013-12-31T00:00:00",
          "2014-03-31T00:00:00",
          "2014-06-30T00:00:00",
          "2014-09-30T00:00:00",
          "2014-12-31T00:00:00",
          "2015-03-31T00:00:00",
          "2015-06-30T00:00:00",
          "2015-09-30T00:00:00",
          "2015-12-31T00:00:00",
          "2016-03-31T00:00:00",
          "2016-06-30T00:00:00",
          "2016-09-30T00:00:00",
          "2016-12-31T00:00:00",
          "2017-03-31T00:00:00",
          "2017-06-30T00:00:00",
          "2017-09-30T00:00:00",
          "2017-12-31T00:00:00",
          "2018-03-31T00:00:00",
          "2018-06-30T00:00:00",
          "2018-09-30T00:00:00",
          "2018-12-31T00:00:00",
          "2019-03-31T00:00:00",
          "2019-06-30T00:00:00",
          "2019-09-30T00:00:00",
          "2019-12-31T00:00:00",
          "2020-03-31T00:00:00",
          "2020-06-30T00:00:00",
          "2011-03-31T00:00:00",
          "2011-06-30T00:00:00",
          "2011-09-30T00:00:00",
          "2011-12-31T00:00:00",
          "2012-03-31T00:00:00",
          "2012-06-30T00:00:00",
          "2012-09-30T00:00:00",
          "2012-12-31T00:00:00",
          "2013-03-31T00:00:00",
          "2013-06-30T00:00:00",
          "2013-09-30T00:00:00",
          "2013-12-31T00:00:00",
          "2014-03-31T00:00:00",
          "2014-06-30T00:00:00",
          "2014-09-30T00:00:00",
          "2014-12-31T00:00:00",
          "2015-03-31T00:00:00",
          "2015-06-30T00:00:00",
          "2015-09-30T00:00:00",
          "2015-12-31T00:00:00",
          "2016-03-31T00:00:00",
          "2016-06-30T00:00:00",
          "2016-09-30T00:00:00",
          "2016-12-31T00:00:00",
          "2017-03-31T00:00:00",
          "2017-06-30T00:00:00",
          "2017-09-30T00:00:00",
          "2017-12-31T00:00:00",
          "2018-03-31T00:00:00",
          "2018-06-30T00:00:00",
          "2018-09-30T00:00:00",
          "2018-12-31T00:00:00",
          "2019-03-31T00:00:00",
          "2019-06-30T00:00:00",
          "2019-09-30T00:00:00",
          "2019-12-31T00:00:00",
          "2020-03-31T00:00:00",
          "2020-06-30T00:00:00",
          "2011-03-31T00:00:00",
          "2011-06-30T00:00:00",
          "2011-09-30T00:00:00",
          "2011-12-31T00:00:00",
          "2012-03-31T00:00:00",
          "2012-06-30T00:00:00",
          "2012-09-30T00:00:00",
          "2012-12-31T00:00:00",
          "2013-03-31T00:00:00",
          "2013-06-30T00:00:00",
          "2013-09-30T00:00:00",
          "2013-12-31T00:00:00",
          "2014-03-31T00:00:00",
          "2014-06-30T00:00:00",
          "2014-09-30T00:00:00",
          "2014-12-31T00:00:00",
          "2015-03-31T00:00:00",
          "2015-06-30T00:00:00",
          "2015-09-30T00:00:00",
          "2015-12-31T00:00:00",
          "2016-03-31T00:00:00",
          "2016-06-30T00:00:00",
          "2016-09-30T00:00:00",
          "2016-12-31T00:00:00",
          "2017-03-31T00:00:00",
          "2017-06-30T00:00:00",
          "2017-09-30T00:00:00",
          "2017-12-31T00:00:00",
          "2018-03-31T00:00:00",
          "2018-06-30T00:00:00",
          "2018-09-30T00:00:00",
          "2018-12-31T00:00:00",
          "2019-03-31T00:00:00",
          "2019-06-30T00:00:00",
          "2019-09-30T00:00:00",
          "2019-12-31T00:00:00",
          "2020-03-31T00:00:00",
          "2020-06-30T00:00:00",
          "2011-03-31T00:00:00",
          "2011-06-30T00:00:00",
          "2011-09-30T00:00:00",
          "2011-12-31T00:00:00",
          "2012-03-31T00:00:00",
          "2012-06-30T00:00:00",
          "2012-09-30T00:00:00",
          "2012-12-31T00:00:00",
          "2013-03-31T00:00:00",
          "2013-06-30T00:00:00",
          "2013-09-30T00:00:00",
          "2013-12-31T00:00:00",
          "2014-03-31T00:00:00",
          "2014-06-30T00:00:00",
          "2014-09-30T00:00:00",
          "2014-12-31T00:00:00",
          "2015-03-31T00:00:00",
          "2015-06-30T00:00:00",
          "2015-09-30T00:00:00",
          "2015-12-31T00:00:00",
          "2016-03-31T00:00:00",
          "2016-06-30T00:00:00",
          "2016-09-30T00:00:00",
          "2016-12-31T00:00:00",
          "2017-03-31T00:00:00",
          "2017-06-30T00:00:00",
          "2017-09-30T00:00:00",
          "2017-12-31T00:00:00",
          "2018-03-31T00:00:00",
          "2018-06-30T00:00:00",
          "2018-09-30T00:00:00",
          "2018-12-31T00:00:00",
          "2019-03-31T00:00:00",
          "2019-06-30T00:00:00",
          "2019-09-30T00:00:00",
          "2019-12-31T00:00:00",
          "2020-03-31T00:00:00",
          "2020-06-30T00:00:00",
          "2011-03-31T00:00:00",
          "2011-06-30T00:00:00",
          "2011-09-30T00:00:00",
          "2011-12-31T00:00:00",
          "2012-03-31T00:00:00",
          "2012-06-30T00:00:00",
          "2012-09-30T00:00:00",
          "2012-12-31T00:00:00",
          "2013-03-31T00:00:00",
          "2013-06-30T00:00:00",
          "2013-09-30T00:00:00",
          "2013-12-31T00:00:00",
          "2014-03-31T00:00:00",
          "2014-06-30T00:00:00",
          "2014-09-30T00:00:00",
          "2014-12-31T00:00:00",
          "2015-03-31T00:00:00",
          "2015-06-30T00:00:00",
          "2015-09-30T00:00:00",
          "2015-12-31T00:00:00",
          "2016-03-31T00:00:00",
          "2016-06-30T00:00:00",
          "2016-09-30T00:00:00",
          "2016-12-31T00:00:00",
          "2017-03-31T00:00:00",
          "2017-06-30T00:00:00",
          "2017-09-30T00:00:00",
          "2017-12-31T00:00:00",
          "2018-03-31T00:00:00",
          "2018-06-30T00:00:00",
          "2018-09-30T00:00:00",
          "2018-12-31T00:00:00",
          "2019-03-31T00:00:00",
          "2019-06-30T00:00:00",
          "2019-09-30T00:00:00",
          "2019-12-31T00:00:00",
          "2020-03-31T00:00:00",
          "2020-06-30T00:00:00",
          "2011-03-31T00:00:00",
          "2011-06-30T00:00:00",
          "2011-09-30T00:00:00",
          "2011-12-31T00:00:00",
          "2012-03-31T00:00:00",
          "2012-06-30T00:00:00",
          "2012-09-30T00:00:00",
          "2012-12-31T00:00:00",
          "2013-03-31T00:00:00",
          "2013-06-30T00:00:00",
          "2013-09-30T00:00:00",
          "2013-12-31T00:00:00",
          "2014-03-31T00:00:00",
          "2014-06-30T00:00:00",
          "2014-09-30T00:00:00",
          "2014-12-31T00:00:00",
          "2015-03-31T00:00:00",
          "2015-06-30T00:00:00",
          "2015-09-30T00:00:00",
          "2015-12-31T00:00:00",
          "2016-03-31T00:00:00",
          "2016-06-30T00:00:00",
          "2016-09-30T00:00:00",
          "2016-12-31T00:00:00",
          "2017-03-31T00:00:00",
          "2017-06-30T00:00:00",
          "2017-09-30T00:00:00",
          "2017-12-31T00:00:00",
          "2018-03-31T00:00:00",
          "2018-06-30T00:00:00",
          "2018-09-30T00:00:00",
          "2018-12-31T00:00:00",
          "2019-03-31T00:00:00",
          "2019-06-30T00:00:00",
          "2019-09-30T00:00:00",
          "2019-12-31T00:00:00",
          "2020-03-31T00:00:00",
          "2020-06-30T00:00:00",
          "2011-03-31T00:00:00",
          "2011-06-30T00:00:00",
          "2011-09-30T00:00:00",
          "2011-12-31T00:00:00",
          "2012-03-31T00:00:00",
          "2012-06-30T00:00:00",
          "2012-09-30T00:00:00",
          "2012-12-31T00:00:00",
          "2013-03-31T00:00:00",
          "2013-06-30T00:00:00",
          "2013-09-30T00:00:00",
          "2013-12-31T00:00:00",
          "2014-03-31T00:00:00",
          "2014-06-30T00:00:00",
          "2014-09-30T00:00:00",
          "2014-12-31T00:00:00",
          "2015-03-31T00:00:00",
          "2015-06-30T00:00:00",
          "2015-09-30T00:00:00",
          "2015-12-31T00:00:00",
          "2016-03-31T00:00:00",
          "2016-06-30T00:00:00",
          "2016-09-30T00:00:00",
          "2016-12-31T00:00:00",
          "2017-03-31T00:00:00",
          "2017-06-30T00:00:00",
          "2017-09-30T00:00:00",
          "2017-12-31T00:00:00",
          "2018-03-31T00:00:00",
          "2018-06-30T00:00:00",
          "2018-09-30T00:00:00",
          "2018-12-31T00:00:00",
          "2019-03-31T00:00:00",
          "2019-06-30T00:00:00",
          "2019-09-30T00:00:00",
          "2019-12-31T00:00:00",
          "2020-03-31T00:00:00",
          "2020-06-30T00:00:00",
          "2011-03-31T00:00:00",
          "2011-06-30T00:00:00",
          "2011-09-30T00:00:00",
          "2011-12-31T00:00:00",
          "2012-03-31T00:00:00",
          "2012-06-30T00:00:00",
          "2012-09-30T00:00:00",
          "2012-12-31T00:00:00",
          "2013-03-31T00:00:00",
          "2013-06-30T00:00:00",
          "2013-09-30T00:00:00",
          "2013-12-31T00:00:00",
          "2014-03-31T00:00:00",
          "2014-06-30T00:00:00",
          "2014-09-30T00:00:00",
          "2014-12-31T00:00:00",
          "2015-03-31T00:00:00",
          "2015-06-30T00:00:00",
          "2015-09-30T00:00:00",
          "2015-12-31T00:00:00",
          "2016-03-31T00:00:00",
          "2016-06-30T00:00:00",
          "2016-09-30T00:00:00",
          "2016-12-31T00:00:00",
          "2017-03-31T00:00:00",
          "2017-06-30T00:00:00",
          "2017-09-30T00:00:00",
          "2017-12-31T00:00:00",
          "2018-03-31T00:00:00",
          "2018-06-30T00:00:00",
          "2018-09-30T00:00:00",
          "2018-12-31T00:00:00",
          "2019-03-31T00:00:00",
          "2019-06-30T00:00:00",
          "2019-09-30T00:00:00",
          "2019-12-31T00:00:00",
          "2020-03-31T00:00:00",
          "2020-06-30T00:00:00",
          "2011-03-31T00:00:00",
          "2011-06-30T00:00:00",
          "2011-09-30T00:00:00",
          "2011-12-31T00:00:00",
          "2012-03-31T00:00:00",
          "2012-06-30T00:00:00",
          "2012-09-30T00:00:00",
          "2012-12-31T00:00:00",
          "2013-03-31T00:00:00",
          "2013-06-30T00:00:00",
          "2013-09-30T00:00:00",
          "2013-12-31T00:00:00",
          "2014-03-31T00:00:00",
          "2014-06-30T00:00:00",
          "2014-09-30T00:00:00",
          "2014-12-31T00:00:00",
          "2015-03-31T00:00:00",
          "2015-06-30T00:00:00",
          "2015-09-30T00:00:00",
          "2015-12-31T00:00:00",
          "2016-03-31T00:00:00",
          "2016-06-30T00:00:00",
          "2016-09-30T00:00:00",
          "2016-12-31T00:00:00",
          "2017-03-31T00:00:00",
          "2017-06-30T00:00:00",
          "2017-09-30T00:00:00",
          "2017-12-31T00:00:00",
          "2018-03-31T00:00:00",
          "2018-06-30T00:00:00",
          "2018-09-30T00:00:00",
          "2018-12-31T00:00:00",
          "2019-03-31T00:00:00",
          "2019-06-30T00:00:00",
          "2019-09-30T00:00:00",
          "2019-12-31T00:00:00",
          "2020-03-31T00:00:00",
          "2020-06-30T00:00:00",
          "2011-03-31T00:00:00",
          "2011-06-30T00:00:00",
          "2011-09-30T00:00:00",
          "2011-12-31T00:00:00",
          "2012-03-31T00:00:00",
          "2012-06-30T00:00:00",
          "2012-09-30T00:00:00",
          "2012-12-31T00:00:00",
          "2013-03-31T00:00:00",
          "2013-06-30T00:00:00",
          "2013-09-30T00:00:00",
          "2013-12-31T00:00:00",
          "2014-03-31T00:00:00",
          "2014-06-30T00:00:00",
          "2014-09-30T00:00:00",
          "2014-12-31T00:00:00",
          "2015-03-31T00:00:00",
          "2015-06-30T00:00:00",
          "2015-09-30T00:00:00",
          "2015-12-31T00:00:00",
          "2016-03-31T00:00:00",
          "2016-06-30T00:00:00",
          "2016-09-30T00:00:00",
          "2016-12-31T00:00:00",
          "2017-03-31T00:00:00",
          "2017-06-30T00:00:00",
          "2017-09-30T00:00:00",
          "2017-12-31T00:00:00",
          "2018-03-31T00:00:00",
          "2018-06-30T00:00:00",
          "2018-09-30T00:00:00",
          "2018-12-31T00:00:00",
          "2019-03-31T00:00:00",
          "2019-06-30T00:00:00",
          "2019-09-30T00:00:00",
          "2019-12-31T00:00:00",
          "2020-03-31T00:00:00",
          "2020-06-30T00:00:00",
          "2011-03-31T00:00:00",
          "2011-06-30T00:00:00",
          "2011-09-30T00:00:00",
          "2011-12-31T00:00:00",
          "2012-03-31T00:00:00",
          "2012-06-30T00:00:00",
          "2012-09-30T00:00:00",
          "2012-12-31T00:00:00",
          "2013-03-31T00:00:00",
          "2013-06-30T00:00:00",
          "2013-09-30T00:00:00",
          "2013-12-31T00:00:00",
          "2014-03-31T00:00:00",
          "2014-06-30T00:00:00",
          "2014-09-30T00:00:00",
          "2014-12-31T00:00:00",
          "2015-03-31T00:00:00",
          "2015-06-30T00:00:00",
          "2015-09-30T00:00:00",
          "2015-12-31T00:00:00",
          "2016-03-31T00:00:00",
          "2016-06-30T00:00:00",
          "2016-09-30T00:00:00",
          "2016-12-31T00:00:00",
          "2017-03-31T00:00:00",
          "2017-06-30T00:00:00",
          "2017-09-30T00:00:00",
          "2017-12-31T00:00:00",
          "2018-03-31T00:00:00",
          "2018-06-30T00:00:00",
          "2018-09-30T00:00:00",
          "2018-12-31T00:00:00",
          "2019-03-31T00:00:00",
          "2019-06-30T00:00:00",
          "2019-09-30T00:00:00",
          "2019-12-31T00:00:00",
          "2020-03-31T00:00:00",
          "2020-06-30T00:00:00",
          "2011-03-31T00:00:00",
          "2011-06-30T00:00:00",
          "2011-09-30T00:00:00",
          "2011-12-31T00:00:00",
          "2012-03-31T00:00:00",
          "2012-06-30T00:00:00",
          "2012-09-30T00:00:00",
          "2012-12-31T00:00:00",
          "2013-03-31T00:00:00",
          "2013-06-30T00:00:00",
          "2013-09-30T00:00:00",
          "2013-12-31T00:00:00",
          "2014-03-31T00:00:00",
          "2014-06-30T00:00:00",
          "2014-09-30T00:00:00",
          "2014-12-31T00:00:00",
          "2015-03-31T00:00:00",
          "2015-06-30T00:00:00",
          "2015-09-30T00:00:00",
          "2015-12-31T00:00:00",
          "2016-03-31T00:00:00",
          "2016-06-30T00:00:00",
          "2016-09-30T00:00:00",
          "2016-12-31T00:00:00",
          "2017-03-31T00:00:00",
          "2017-06-30T00:00:00",
          "2017-09-30T00:00:00",
          "2017-12-31T00:00:00",
          "2018-03-31T00:00:00",
          "2018-06-30T00:00:00",
          "2018-09-30T00:00:00",
          "2018-12-31T00:00:00",
          "2019-03-31T00:00:00",
          "2019-06-30T00:00:00",
          "2019-09-30T00:00:00",
          "2019-12-31T00:00:00",
          "2020-03-31T00:00:00",
          "2020-06-30T00:00:00"
         ],
         "xaxis": "x",
         "y": [
          0,
          0,
          0,
          61.863,
          48.41,
          49.259,
          55.498,
          89.839,
          86.142,
          102.516,
          146.874,
          160.672992,
          152.524992,
          162.319008,
          166.518,
          155.3,
          142.434,
          136.236,
          111.302,
          101.882,
          51.961,
          62.559,
          64.193,
          63.039,
          60.15,
          53.186,
          56.215,
          53.344,
          52.844,
          53.672,
          85.522,
          75.702,
          65.155,
          59.532,
          72.959,
          77.929,
          58.136,
          35.171,
          3921.999872,
          4386.999808,
          4302.000128,
          4288,
          4496,
          3892.999936,
          4095.000064,
          4405.000192,
          4103.000064,
          4036.999936,
          4228.999936,
          3660,
          3599.000064,
          3288.999936,
          3440.999936,
          2683.000064,
          1630,
          2019.000064,
          1526,
          1263.000064,
          1084,
          1364.999936,
          1438,
          1451.000064,
          1536.999936,
          1404.999936,
          1362,
          1592,
          1691.000064,
          1872,
          1998,
          1736.999936,
          1699.000064,
          1622,
          1486,
          1755.000064,
          1254,
          596,
          96.068,
          114.714,
          132.412,
          161.092,
          92.034,
          0,
          0,
          0,
          181.526,
          205.807008,
          269.588,
          656.014016,
          416.064992,
          436.056992,
          510.966016,
          585.126976,
          654.972992,
          574.820992,
          570.182976,
          629.952,
          765.427008,
          727.936,
          782.881024,
          887.910016,
          801.652992,
          735.811968,
          775.315968,
          919.843968,
          1122.813056,
          1014.118016,
          1074.638976,
          1242.779008,
          1211.867008,
          1015.936,
          1018.096,
          1023.908992,
          962.198016,
          966.838016,
          26.595,
          25.988,
          24.197,
          25.626,
          26.869,
          24.374,
          75.549,
          128.562,
          189.231008,
          213.928,
          288.675008,
          286.588992,
          268.408992,
          311.999008,
          300.083008,
          280.2,
          243.943008,
          256.172,
          244.819008,
          244.89,
          189.068992,
          186.927008,
          182.451008,
          192.200992,
          137.782,
          120.137,
          96.953,
          25.277,
          44.045,
          81.189,
          51.952,
          57.774,
          51.916,
          62.624,
          50.809,
          67.571,
          53.32,
          50.954,
          21.436696,
          24.89236,
          26.85424,
          34.444,
          46.619292,
          51.585424,
          58.235012,
          74.04,
          76.8,
          93.565,
          119.099,
          131.598,
          125.168,
          130.29,
          155.376992,
          144.559008,
          108.542,
          105.611,
          109.866,
          99.656,
          51.682,
          58.423,
          53.673,
          49.85,
          52.559,
          44.144,
          45.232,
          50.189,
          59.881,
          64.562,
          66.058,
          66.213,
          72.594,
          85.783,
          75.176,
          79.667,
          60.405,
          36.192,
          0,
          0,
          0,
          0,
          0,
          0,
          0,
          0,
          0,
          0,
          0,
          0,
          0,
          0,
          0,
          0,
          0,
          0,
          0,
          0,
          0,
          0,
          0,
          0,
          152.372992,
          0,
          0,
          0,
          97.284,
          65.982,
          142.947008,
          280.345984,
          76.539,
          170.066,
          194.672,
          118.128,
          339.264992,
          33.453,
          0,
          0,
          0,
          0,
          0,
          0,
          0,
          0,
          0,
          0,
          0,
          0,
          0,
          0,
          0,
          133.602,
          91.061,
          64.803,
          137.02,
          83.895,
          74.336,
          84.639,
          96.66,
          86.45,
          106.135,
          101.603,
          103.431,
          106.799,
          126.452,
          109.309,
          139.718,
          246.047008,
          83.806,
          163.618,
          137.368992,
          103.028,
          183.054,
          38.529,
          0,
          0,
          0,
          0,
          0,
          0,
          0,
          0,
          0,
          0,
          0,
          0,
          0,
          0,
          0,
          0,
          0,
          0,
          0,
          0,
          23.75,
          29.39,
          29.273,
          30.771,
          60.7,
          91.337,
          112.001,
          165.196992,
          216.259008,
          222.926,
          243.746,
          228.724,
          214.192,
          250.627008,
          220.912,
          252.944,
          192.716,
          83.615,
          2793.999872,
          3211.000064,
          3345.999872,
          3072,
          2688.999936,
          2579.000064,
          3073.999872,
          3414.000128,
          3569.999872,
          4099.000064,
          5057.999872,
          4552,
          5190.000128,
          5152,
          5080.999936,
          4773.000192,
          3492,
          3822.000128,
          3443.000064,
          2700,
          1995.000064,
          2166.000128,
          2112.999936,
          2416,
          2427.000064,
          2079.000064,
          2044,
          2592,
          2608,
          2423.000064,
          2427.000064,
          2480,
          2161.999872,
          2100.999936,
          2059.000064,
          2095.000064,
          2524.999936,
          507,
          -36.21,
          602.892032,
          968.988992,
          114.118,
          395.1,
          1004.718976,
          483.728992,
          688.972032,
          702.643008,
          1100.752,
          823.835008,
          811.219968,
          972.494976,
          886.094976,
          1645.328,
          1297.699968,
          625.644032,
          796.374016,
          682.668992,
          575.48,
          450.251008,
          572.246016,
          515.704992,
          602.753024,
          637.641024,
          637.123008,
          730.422016,
          1054.622016,
          1135.049984,
          1154.556032,
          1282.699008,
          1124.272,
          1138.419968,
          1163.603968,
          1133.485952,
          1212.049024,
          880.801024,
          176.318,
          1442.161024,
          1563.006976,
          1499.798016,
          1458.656,
          1426.770048,
          1248.948992,
          1125.392,
          821.664,
          812.249984,
          769.608,
          762.659968,
          776.204032,
          910.430016,
          865.976,
          836.302976,
          863.390976,
          693.982016,
          531.511008,
          535.278016,
          550.678976,
          521.244,
          526.411008,
          538.427008,
          294.676,
          279.639008,
          238.336992,
          265.496992,
          354.374016,
          432.940992,
          402.566016,
          378.041984,
          468.387008,
          429.228,
          813.017984,
          351.156,
          412.208992,
          429.014016,
          350.646016,
          209.008992,
          241.599008,
          262.180992,
          268.04,
          272.136,
          265.999008,
          297.023008,
          369.924,
          373.284992,
          449.68,
          435.849984,
          487.463008,
          509.803008,
          533.187008,
          512.016992,
          618.003968,
          464.764992,
          306.296992,
          305.296,
          280.792,
          281.940992,
          246.816,
          310.428992,
          316.491008,
          517.843008,
          460.456992,
          385.416,
          400.503008,
          473.227008,
          453.447008,
          545.172992,
          716.300992,
          641.681024,
          534.116992,
          429.111008,
          461.368,
          386.456992,
          332.348,
          54174.998528,
          16890.000384,
          16257.000448,
          15246.000128,
          14995.999744,
          13400.999936,
          14357.999616,
          15502.999552,
          14373.999616,
          13324.99968,
          13582.000128,
          13292.000256,
          15178.000384,
          13637.000192,
          12264.999936,
          10920.999936,
          7731.999744,
          8248.999936,
          7173.000192,
          6178.999808,
          5123.999744,
          5511.000064,
          6403.999744,
          6654.000128,
          7466.999808,
          6728.999936,
          6671.000064,
          8239.000064,
          8755.00032,
          8504,
          9448.999936,
          9665.999872,
          9150.000128,
          7952.999936,
          7756.000256,
          7708.000256,
          6158.000128,
          2748.999936,
          25.449,
          36.834,
          33.55,
          31.811,
          29.294,
          25.36,
          27.402,
          28.711,
          23.163,
          23.453,
          30.163,
          27.161,
          32.41,
          38.856,
          39.195,
          45.487,
          40.734,
          44.207,
          44.105,
          43.481,
          38.414,
          49.162,
          60.018,
          71.16,
          78.872,
          82.016,
          83.4,
          113.713,
          118.981,
          129.095,
          151.975008,
          160.300992,
          153.047008,
          165.895008,
          156.388992,
          192.742,
          289.919008,
          157.234,
          0.00028,
          0.00026,
          0.000202,
          0.100144,
          1.412895,
          1.252889,
          3.834328,
          3.202888,
          2.971,
          2.495,
          2.685,
          3.925,
          3.284,
          5.045,
          4.949,
          5.36,
          5.697,
          5.754,
          6.435,
          4.542,
          3.393,
          2.741,
          3.077,
          2.467,
          1.923,
          1.899,
          2.222,
          4.641,
          5.026,
          5.321,
          5.039,
          4.929,
          6.722,
          11.496,
          15.536,
          10.555,
          33.8,
          28.386,
          27.369,
          27.569,
          42.465,
          15.973,
          0,
          0,
          0,
          0,
          0,
          0,
          0,
          0,
          0,
          0,
          0,
          0,
          0,
          0,
          1092,
          820,
          577,
          634,
          626,
          566,
          322,
          454,
          481,
          452,
          590,
          481,
          518,
          574,
          609,
          648,
          803,
          768,
          793,
          646,
          684,
          681,
          573,
          276,
          88.038,
          112.451,
          119.422,
          114.456,
          102.418,
          93.048,
          100.434,
          98.68,
          97.34,
          110.701,
          108.03,
          106.512,
          140.563008,
          151.672992,
          144.615008,
          127.463,
          66.522,
          77.312,
          61.36,
          47.228,
          36.163,
          40.715,
          50.33,
          48.498,
          53.801,
          61.471,
          66.811,
          73.248,
          72.593,
          61.449,
          102.711,
          153.498,
          126.881,
          128.116,
          224.444,
          289.248,
          225.878,
          179.535008,
          512.704,
          585.500032,
          576.633984,
          619.401024,
          639.105984,
          604.723968,
          601.585024,
          608.785024,
          580.211008,
          644.750016,
          672.88,
          595.681024,
          607.438016,
          618.678976,
          608.468992,
          583.950976,
          452.907008,
          498.193984,
          460.208992,
          344.040992,
          266.302,
          305.316,
          238.888,
          234.242,
          244.626,
          245.668,
          265.708992,
          312.049984,
          314.216,
          327.510016,
          326.431008,
          310.847008,
          311.568,
          339.448992,
          315.692992,
          317.256,
          266.011008,
          163.01,
          2416.999936,
          2868,
          2875.000064,
          2840.999936,
          2510.000128,
          2160.999936,
          2403.000064,
          2604,
          2376.999936,
          2736,
          2848,
          2820.999936,
          3944.999936,
          4800.999936,
          4592,
          4294.000128,
          3564,
          4155.000064,
          3804,
          1622,
          2112,
          2599.000064,
          2819.000064,
          2808,
          3551.000064,
          2164.999936,
          1932.999936,
          2447.000064,
          2198.000128,
          2264.999936,
          2356.999936,
          2080.999936,
          1079.000064,
          1806,
          1746,
          1588.999936,
          2087.000064,
          394,
          46.772,
          58.547,
          37.35,
          67.767,
          45.286,
          58.818,
          37.63,
          53.553,
          44.137,
          29.118,
          37.74,
          58.282,
          28.071,
          52.098,
          24.486,
          23.037,
          18.239,
          27.137,
          17.546,
          17.523,
          10.976,
          18.847,
          14.635,
          15.326,
          21.266,
          20.425,
          18.178,
          17.156,
          27.645,
          24.426,
          25.266,
          27.606,
          19.765,
          25.23,
          17.603,
          21.923,
          18.389,
          17.974,
          1917.04704,
          2223.205888,
          2373.092096,
          2674.509056,
          2738.575872,
          2780.75904,
          3131.973888,
          3156.40192,
          3364.286976,
          3704.451072,
          3805.964032,
          3697.561088,
          4193.875968,
          4326.10304,
          4521.107968,
          3686.396928,
          2608.43008,
          2717.19296,
          2244.252928,
          1864.540032,
          1357.453952,
          1820.828032,
          1980.112,
          2363.791872,
          2567.215104,
          2612.621056,
          2661.790976,
          3447.983104,
          3733.936896,
          4363.908096,
          4625.866752,
          4283.858944,
          4103.904,
          4522.7648,
          4109.658112,
          4354.150912,
          3579.832064,
          1855.890944,
          474.374016,
          366.935008,
          359.980992,
          434.435008,
          447.496992,
          338.593984,
          364.688992,
          405.137984,
          416.625984,
          470.104992,
          477.691008,
          490.902016,
          661.625024,
          534.171008,
          614.892032,
          637.966016,
          677.958016,
          465.190016,
          453.784992,
          528.640992,
          544.742976,
          447.768,
          490.099008,
          430.728,
          744.985984,
          653.075008,
          637.646016,
          914.313024,
          1211.04896,
          1030.294976,
          1038.817984,
          1231.453056,
          1213.971968,
          960.529984,
          943.307008,
          948.355968,
          959.801984,
          818.116992,
          1.764,
          1.997,
          1.987,
          2.458,
          2.525,
          2.545,
          3.866,
          2.776,
          2.347,
          2.809,
          2.834,
          3.388,
          3.595,
          4.672,
          4.474,
          4.773,
          12.814,
          15.996,
          14.834,
          10.435,
          8.855,
          10.616,
          11.118,
          14.905,
          15.343,
          25.777,
          31.282,
          34.739,
          40.895,
          37.15,
          46.076,
          39.787,
          40.728,
          49.136,
          39.204,
          68.994,
          45.138,
          21.663,
          0,
          0,
          10.963589,
          14.16911,
          14.986,
          13.922,
          15.918,
          25.53492,
          27.366,
          44.538,
          54.576,
          74.304,
          96.948,
          123.384,
          137.596,
          148.22,
          144.960992,
          144.364992,
          147.45,
          154.826,
          92.598,
          111.95,
          141.74,
          181.996,
          233.556,
          274.119008,
          309.252992,
          394.911008,
          445.847008,
          480,
          496,
          625.833024,
          879,
          1023,
          984,
          1116,
          984,
          633,
          48.379,
          58.835,
          63.832,
          61.328,
          61.201,
          62.674,
          64.766,
          65.364,
          47.236,
          48.568,
          53.514,
          50.191,
          49.072,
          50.24,
          55.101,
          48.557,
          37.124,
          37.269,
          31.458,
          26.073,
          6.245,
          6.339,
          7.243,
          7.441,
          9.413,
          12.465,
          13.219,
          11.056,
          11.834,
          17.835,
          24.42,
          33.907,
          29.14,
          31.884,
          33.087,
          26.736,
          28.955,
          27.813,
          10085.000192,
          9930.999808,
          8714.999808,
          9749.000192,
          2896,
          3324,
          3072,
          5718.000128,
          6105.999872,
          3068.999936,
          2720,
          2721.999872,
          2672.999936,
          2828.999936,
          2678.000128,
          2556.999936,
          1538,
          1952.999936,
          1671.000064,
          1474,
          973,
          1224,
          1176.999936,
          1388,
          1258,
          1196.999936,
          1348,
          1663.000064,
          1346,
          1534,
          1792.999936,
          1650,
          1572,
          1660,
          1580,
          1683.000064,
          1354,
          833,
          0,
          0,
          0,
          0,
          0,
          0,
          0,
          0,
          0,
          0,
          0,
          0,
          0,
          0,
          0,
          0,
          0,
          0,
          0,
          0,
          21.312456,
          24.218,
          21.802,
          18.331,
          18.023,
          19.781,
          28.663,
          30.709,
          33.13,
          41.25,
          50.45,
          55.709,
          40.012,
          47.969,
          52.593,
          48.689,
          37.009,
          17.22,
          0,
          0,
          133.44,
          140.331008,
          152.616992,
          147.995008,
          150.828992,
          157.456,
          167.380992,
          178.276992,
          166.771008,
          156.574,
          171.879008,
          178.624,
          204.772,
          266.851008,
          213.835008,
          228.927008,
          216.482,
          202.676992,
          170.644,
          191.742,
          201.332,
          219.272,
          194.35,
          194.952992,
          218.004992,
          230.818,
          253.436,
          345.776,
          270.403008,
          221.915008,
          205.032992,
          200.804992,
          169.739008,
          231.116992,
          252.238,
          197.46,
          53.097,
          48.236,
          51.805,
          40.06064,
          44.203,
          53.907,
          41.339,
          39.823,
          29.765,
          34.94,
          31.787,
          66.903,
          78.555,
          77.368,
          67.323,
          50.23,
          30.647,
          35.334,
          30.037,
          22.835,
          19.09,
          21.61,
          18.957,
          21.663,
          19.245,
          20.711,
          19.351,
          20.359,
          19.924,
          17.63,
          19.508,
          18.694,
          14.779,
          12.762,
          12.547,
          37.193,
          34.573,
          17.842,
          0,
          0,
          0,
          0,
          0,
          0,
          0,
          0,
          0,
          0,
          0,
          0,
          0,
          0,
          0,
          0,
          0,
          0,
          0,
          0,
          0,
          0,
          0,
          0,
          0,
          0,
          86.615,
          124.978,
          172.312,
          199.987008,
          255.05,
          255.055008,
          218.674,
          242.958,
          244.799008,
          229.708992,
          181.364992,
          82.839,
          0,
          0,
          0,
          0,
          0,
          0,
          0,
          0,
          0,
          0,
          0,
          0,
          0,
          0,
          0,
          0,
          0,
          0,
          0,
          0,
          0,
          0,
          0,
          0,
          0,
          0,
          0,
          0,
          0,
          0,
          0,
          0,
          18.265,
          24.529,
          25.107,
          33.614,
          32.28,
          12.605,
          3687.000064,
          3700,
          3663.000064,
          3667.000064,
          3796,
          3752,
          4051.000064,
          4124.999936,
          3792.999936,
          3020,
          3019.000064,
          2460.999936,
          2710.000128,
          2908,
          2884.999936,
          2420.999936,
          1495.000064,
          1504.999936,
          1396,
          1200,
          616,
          772,
          884,
          951,
          921,
          946,
          1192,
          1428,
          1540.999936,
          1459.000064,
          1656.999936,
          1395.000064,
          1235.000064,
          1394,
          1255.000064,
          1240.999936,
          1031,
          496,
          15.548328,
          21.816022,
          18.882,
          17.859758,
          32.226368,
          40.791,
          41.379,
          55.561,
          59.711,
          58.433,
          80.703,
          69.274,
          77.088,
          96.141,
          95.916,
          103.589,
          80.969,
          101.628,
          92.246,
          83.024,
          51.462,
          71.801,
          85.53,
          97.34,
          114.183,
          116.421,
          138.651008,
          165.306,
          180.764,
          209.938,
          228.515008,
          215.296992,
          219.608,
          235.547008,
          269.555008,
          312.687008,
          235.155008,
          195.588,
          6266.009088,
          7384.573952,
          7194.393088,
          6794.033152,
          6953.86112,
          7146.727936,
          2655.355904,
          1302.670976,
          1298.928,
          1315.6,
          2906.096128,
          1344.259968,
          1299.622016,
          1357.905024,
          1393.702016,
          1407.625984,
          749.150016,
          718.620992,
          665.588992,
          653.756992,
          429.094016,
          411.216992,
          486.276,
          482.988,
          546.112,
          504.420992,
          497.619008,
          539.656,
          366.827008,
          389.143008,
          473.235008,
          503.448,
          629.353984,
          738.352,
          813.584,
          634.964992,
          1001.230016,
          209.864992,
          23.805378,
          29.977866,
          41.94464,
          50.588984,
          59.887904,
          69.408288,
          82.40408,
          84.725488,
          82.808736,
          79.152136,
          99.13736,
          95.934656,
          89.984992,
          109.909544,
          112.176592,
          111.679896,
          90.456008,
          94.056424,
          101.156552,
          56.913028,
          53.819252,
          62.520924,
          50.754992,
          54.155264,
          48.760304,
          50.72988,
          57.657028,
          37.00228,
          78.754776,
          96.781832,
          102.269216,
          443.195904,
          -6.934,
          186.44,
          233.883008,
          59.012,
          506.784992,
          98.106,
          58.232,
          63.066,
          87.417,
          117.866,
          137.275008,
          147.89,
          189.96,
          218.088,
          249.99,
          255.828,
          297.431008,
          330.616992,
          347.28,
          360.972992,
          368.659008,
          331.219008,
          289.646016,
          334.123008,
          275.335008,
          261.040992,
          203.596,
          209.556992,
          189.096992,
          224.392,
          277.156,
          253.152,
          312.843008,
          397.008992,
          436.838016,
          513.902016,
          481.257984,
          548.24,
          589.177984,
          519.588,
          475.62,
          492.209984,
          392.817984,
          305.400992,
          1818,
          1959.000064,
          1952.999936,
          1883.000064,
          1728.999936,
          1526,
          1623.000064,
          1723.000064,
          1444.999936,
          1523.000064,
          1518,
          1719.000064,
          2176,
          1580.999936,
          2052,
          1754,
          1376.999936,
          1123.000064,
          1128,
          1119.000064,
          807,
          821,
          937,
          989,
          927,
          1083.000064,
          861,
          1164,
          1244.999936,
          1308.999936,
          1262,
          2380.999936,
          1235.000064,
          2055.000064,
          1871.000064,
          1564.999936,
          2643.000064,
          726,
          79.643,
          88.217,
          95.87,
          103.383,
          89.432,
          61.011,
          77.758,
          93.302,
          102.655,
          100.484,
          93.902,
          145.764,
          140.328,
          144.132992,
          129.884,
          110.048,
          128.382,
          144.05,
          175.544,
          183.134,
          146.606,
          166.198,
          192.220992,
          211.73,
          193.554,
          229.240992,
          244.998,
          271.083008,
          281.801984,
          312.248992,
          327.015008,
          366.817984,
          316.121984,
          330.116,
          312.920992,
          342.209984,
          368.155008,
          289.996992,
          74.847,
          78.677,
          91.809,
          84.482,
          91.636,
          83.737,
          85.364,
          81.853,
          87.304,
          111.632,
          117.634,
          114.122,
          129.982,
          132.19,
          134.319008,
          112.089,
          112.11,
          118.39,
          93.414,
          78.218,
          61.209,
          52.635,
          33.562,
          33.087,
          32.929,
          35.95,
          35.238,
          54.303,
          69.56,
          99.175,
          111.969,
          125.114,
          105.203,
          114.45,
          118.804,
          124.224,
          91.104,
          -13.403,
          507.105984,
          610.670016,
          648.158016,
          718.350976,
          782.652992,
          798.444992,
          829.420992,
          788.632,
          839,
          879.209024,
          936.556032,
          978.4,
          1019,
          1136.999936,
          1172,
          1099.000064,
          826,
          982,
          1120.999936,
          1088.999936,
          850,
          1140,
          1271.000064,
          1239.000064,
          1135.000064,
          1140.999936,
          1311.000064,
          1778,
          2264,
          2240.999936,
          2275.000064,
          2036.999936,
          2248,
          2384.999936,
          2430.000128,
          2654.000128,
          2051.000064,
          1268.999936,
          0,
          0,
          0,
          0,
          0.328003,
          0,
          0,
          0,
          1.151957,
          1.291579,
          2.820731,
          5.051434,
          5.970452,
          11.204238,
          10.929771,
          9.984982,
          6.045701,
          8.97679,
          8.629007,
          7.362394,
          6.092388,
          7.104609,
          7.822543,
          9.830708,
          12.243793,
          14.503309,
          16.64393,
          23.188772,
          28.416364,
          27.522456,
          29.964404,
          23.008432,
          41.798316,
          51.334224,
          50.339104,
          52.231184,
          39.570328,
          10.636593,
          251.987008,
          282.844,
          315.414016,
          349.478016,
          314.384992,
          315.787008,
          357.184,
          418.342016,
          419.662016,
          430.543008,
          469.433984,
          481.436992,
          511.753984,
          552.086976,
          553.012992,
          527.256992,
          437.457984,
          404.617984,
          415.857984,
          455.892,
          353.971008,
          362.672992,
          401.764,
          590.257984,
          606.916992,
          565.302016,
          587.515008,
          651.062976,
          765.532992,
          745.198976,
          810.894016,
          880.689024,
          834.702016,
          689.691008,
          627.777024,
          637.148032,
          560.673984,
          502.348992,
          144.078,
          157.428,
          142.532,
          155.092992,
          135.878,
          134.756992,
          128.75,
          157.904992,
          146.236992,
          142.466,
          150.932992,
          146.008992,
          144.18,
          155.720992,
          138.794,
          110.488,
          68.337,
          66.169,
          60.116,
          50.099,
          34.272,
          29.163,
          47.959,
          30.293,
          42.412,
          45.782,
          49.019,
          58.694,
          52.752,
          51.347,
          65.034,
          88.152,
          72.064,
          74.703,
          72.014,
          69.85,
          53.377,
          24.846,
          304.239008,
          346.500992,
          355.939008,
          357.820992,
          256.179008,
          567.553984,
          561.768,
          1377.181952,
          495.604992,
          530.048992,
          481.107008,
          477.888,
          400.564992,
          289.422016,
          397.552,
          407.492,
          265.135008,
          196.603008,
          222.363008,
          157.668992,
          93.14,
          91.452,
          104.394,
          98.456,
          98.35,
          108.394,
          80.892,
          93.206,
          87.128,
          79.462,
          97.66,
          85.145,
          73.236,
          75.388,
          58.369,
          59.852,
          40.329,
          16.655,
          315.328992,
          377.872992,
          530.574016,
          379.542016,
          377.423008,
          304.42,
          378.951008,
          444.308,
          484.18,
          553.08,
          619.323008,
          608.243008,
          632.72,
          674.979968,
          618.785984,
          595.227008,
          401.736,
          444.262016,
          368.736,
          299.2,
          212.096992,
          291.768,
          330.272,
          346.239008,
          335.275008,
          287.854016,
          297.273984,
          340.000992,
          384.225984,
          404.415008,
          458.583008,
          392.931008,
          340.868992,
          406.910016,
          390.316992,
          451.147008,
          355.734016,
          169.540992,
          676.334976,
          765.166016,
          767.254976,
          744.150016,
          654.835008,
          606.076032,
          691.726976,
          777.355008,
          733.649024,
          862,
          868.366016,
          907.089024,
          1075.000064,
          1035,
          928,
          962,
          969,
          816,
          798,
          754,
          586,
          545,
          641,
          697,
          816,
          772,
          751,
          835,
          911,
          836,
          945,
          1076,
          980,
          701,
          724,
          813,
          685,
          530,
          200.039008,
          234.836,
          206.312,
          223.616,
          244.956992,
          221.144992,
          227.396992,
          254.562,
          233.732,
          244.508992,
          256.684992,
          239.252992,
          223.83,
          207.046,
          177.431008,
          184.78,
          154.998,
          149.524992,
          135.096,
          116.099,
          80.877,
          89.319,
          94.427,
          113.107,
          101.824,
          95.426,
          99.962,
          115.616,
          145.85,
          203.906,
          282.868,
          258.664,
          178.712992,
          286.809984,
          228.856992,
          233.24,
          187.764,
          88.874,
          5.715768,
          8.794596,
          8.555794,
          11.23435,
          9.574882,
          8.701734,
          7.038481,
          7.272359,
          6.723783,
          9.950824,
          14.933866,
          12.500601,
          11.578609,
          15.579884,
          14.752719,
          13.291018,
          34.73266,
          11.787875,
          18.179458,
          14.71486,
          11.892161,
          16.190266,
          14.265752,
          17.563218,
          30.407,
          32.293,
          51.977,
          54.401992,
          60.007,
          73.844,
          73.168,
          93.201,
          191.324,
          87.31,
          98.53,
          113.332,
          96.594,
          57.284,
          0,
          0,
          0,
          0,
          0,
          0,
          0,
          0,
          0,
          0,
          0,
          0,
          15.853,
          17.249,
          22.767,
          21.898,
          16.545,
          19.619,
          18.777,
          19.918,
          14.194,
          17.032,
          19.997,
          27.923,
          33.652,
          36.622,
          42.533,
          59.226,
          62.443,
          75.406,
          77.714,
          73.665,
          61.59,
          72.194,
          71.788,
          92.711,
          78.692,
          32.669,
          428.745984,
          476.256,
          470.444,
          493.456992,
          559.824,
          493.515008,
          521.592992,
          565.12,
          604.902976,
          651.430976,
          705.878016,
          702.379008,
          721.249984,
          825.76,
          804.233984,
          704.204992,
          551.681984,
          676.499008,
          538.915008,
          461.48,
          289.696992,
          358.547008,
          341.335008,
          363.900992,
          371.316992,
          311.515008,
          324.191008,
          474.412,
          515.083008,
          526.403008,
          566.694976,
          473.232992,
          389.488992,
          426.264,
          375.891008,
          380.600992,
          244.846,
          91.6,
          210.855008,
          252.922,
          245.371008,
          261.899008,
          235.886,
          215.512992,
          185.946,
          237.146,
          259.222,
          235.383008,
          244.555008,
          244.928,
          254.516,
          262.994,
          234.520992,
          196.676992,
          127.907,
          149.066,
          126.228,
          104.064,
          77.715,
          99.655,
          107.403,
          115.213,
          124.393,
          123.323,
          110.281,
          129.099,
          134.213,
          148.463008,
          153.747008,
          147.82,
          117.653,
          132.667,
          132.404,
          151.287008,
          133.52,
          77.819,
          428.630016,
          467.248992,
          435.556,
          433.164992,
          423.036,
          353.121984,
          406.912,
          440.868,
          427.081984,
          494.796,
          555.238976,
          516.846016,
          594.428992,
          635.651968,
          649.529024,
          552.206976,
          361.001984,
          424.283008,
          356.055008,
          311.279008,
          245.668,
          302.732,
          336.508,
          384.436,
          441.116,
          456.795008,
          466.656992,
          552.049024,
          554.745024,
          548.744,
          590.988992,
          620.110016,
          567.905984,
          552.700032,
          584.001024,
          645.230976,
          515.944,
          313.324,
          0,
          0,
          0,
          0,
          0,
          0,
          0,
          0,
          0,
          0,
          0,
          0,
          0,
          0,
          0,
          0,
          0,
          0,
          0,
          0,
          14.63,
          62.706,
          68.115,
          98.44,
          98.68,
          119.623,
          184.023008,
          202.020992,
          253.468,
          295.848,
          323.168992,
          311.775008,
          232.246,
          236.26,
          176.942,
          230.844,
          165.187008,
          63.129,
          0,
          0,
          0,
          0,
          0,
          0,
          0,
          0,
          0,
          0,
          0,
          0,
          0,
          0,
          0,
          0,
          0,
          0,
          0,
          0,
          14.63,
          62.706,
          68.115,
          98.44,
          98.68,
          119.623,
          184.023008,
          202.020992,
          253.468,
          295.848,
          323.168992,
          311.775008,
          232.246,
          236.26,
          176.942,
          230.844,
          165.187008,
          63.129
         ],
         "yaxis": "y"
        }
       ],
       "layout": {
        "barmode": "relative",
        "legend": {
         "tracegroupgap": 0
        },
        "margin": {
         "t": 60
        },
        "template": {
         "data": {
          "bar": [
           {
            "error_x": {
             "color": "#2a3f5f"
            },
            "error_y": {
             "color": "#2a3f5f"
            },
            "marker": {
             "line": {
              "color": "#E5ECF6",
              "width": 0.5
             },
             "pattern": {
              "fillmode": "overlay",
              "size": 10,
              "solidity": 0.2
             }
            },
            "type": "bar"
           }
          ],
          "barpolar": [
           {
            "marker": {
             "line": {
              "color": "#E5ECF6",
              "width": 0.5
             },
             "pattern": {
              "fillmode": "overlay",
              "size": 10,
              "solidity": 0.2
             }
            },
            "type": "barpolar"
           }
          ],
          "carpet": [
           {
            "aaxis": {
             "endlinecolor": "#2a3f5f",
             "gridcolor": "white",
             "linecolor": "white",
             "minorgridcolor": "white",
             "startlinecolor": "#2a3f5f"
            },
            "baxis": {
             "endlinecolor": "#2a3f5f",
             "gridcolor": "white",
             "linecolor": "white",
             "minorgridcolor": "white",
             "startlinecolor": "#2a3f5f"
            },
            "type": "carpet"
           }
          ],
          "choropleth": [
           {
            "colorbar": {
             "outlinewidth": 0,
             "ticks": ""
            },
            "type": "choropleth"
           }
          ],
          "contour": [
           {
            "colorbar": {
             "outlinewidth": 0,
             "ticks": ""
            },
            "colorscale": [
             [
              0,
              "#0d0887"
             ],
             [
              0.1111111111111111,
              "#46039f"
             ],
             [
              0.2222222222222222,
              "#7201a8"
             ],
             [
              0.3333333333333333,
              "#9c179e"
             ],
             [
              0.4444444444444444,
              "#bd3786"
             ],
             [
              0.5555555555555556,
              "#d8576b"
             ],
             [
              0.6666666666666666,
              "#ed7953"
             ],
             [
              0.7777777777777778,
              "#fb9f3a"
             ],
             [
              0.8888888888888888,
              "#fdca26"
             ],
             [
              1,
              "#f0f921"
             ]
            ],
            "type": "contour"
           }
          ],
          "contourcarpet": [
           {
            "colorbar": {
             "outlinewidth": 0,
             "ticks": ""
            },
            "type": "contourcarpet"
           }
          ],
          "heatmap": [
           {
            "colorbar": {
             "outlinewidth": 0,
             "ticks": ""
            },
            "colorscale": [
             [
              0,
              "#0d0887"
             ],
             [
              0.1111111111111111,
              "#46039f"
             ],
             [
              0.2222222222222222,
              "#7201a8"
             ],
             [
              0.3333333333333333,
              "#9c179e"
             ],
             [
              0.4444444444444444,
              "#bd3786"
             ],
             [
              0.5555555555555556,
              "#d8576b"
             ],
             [
              0.6666666666666666,
              "#ed7953"
             ],
             [
              0.7777777777777778,
              "#fb9f3a"
             ],
             [
              0.8888888888888888,
              "#fdca26"
             ],
             [
              1,
              "#f0f921"
             ]
            ],
            "type": "heatmap"
           }
          ],
          "heatmapgl": [
           {
            "colorbar": {
             "outlinewidth": 0,
             "ticks": ""
            },
            "colorscale": [
             [
              0,
              "#0d0887"
             ],
             [
              0.1111111111111111,
              "#46039f"
             ],
             [
              0.2222222222222222,
              "#7201a8"
             ],
             [
              0.3333333333333333,
              "#9c179e"
             ],
             [
              0.4444444444444444,
              "#bd3786"
             ],
             [
              0.5555555555555556,
              "#d8576b"
             ],
             [
              0.6666666666666666,
              "#ed7953"
             ],
             [
              0.7777777777777778,
              "#fb9f3a"
             ],
             [
              0.8888888888888888,
              "#fdca26"
             ],
             [
              1,
              "#f0f921"
             ]
            ],
            "type": "heatmapgl"
           }
          ],
          "histogram": [
           {
            "marker": {
             "pattern": {
              "fillmode": "overlay",
              "size": 10,
              "solidity": 0.2
             }
            },
            "type": "histogram"
           }
          ],
          "histogram2d": [
           {
            "colorbar": {
             "outlinewidth": 0,
             "ticks": ""
            },
            "colorscale": [
             [
              0,
              "#0d0887"
             ],
             [
              0.1111111111111111,
              "#46039f"
             ],
             [
              0.2222222222222222,
              "#7201a8"
             ],
             [
              0.3333333333333333,
              "#9c179e"
             ],
             [
              0.4444444444444444,
              "#bd3786"
             ],
             [
              0.5555555555555556,
              "#d8576b"
             ],
             [
              0.6666666666666666,
              "#ed7953"
             ],
             [
              0.7777777777777778,
              "#fb9f3a"
             ],
             [
              0.8888888888888888,
              "#fdca26"
             ],
             [
              1,
              "#f0f921"
             ]
            ],
            "type": "histogram2d"
           }
          ],
          "histogram2dcontour": [
           {
            "colorbar": {
             "outlinewidth": 0,
             "ticks": ""
            },
            "colorscale": [
             [
              0,
              "#0d0887"
             ],
             [
              0.1111111111111111,
              "#46039f"
             ],
             [
              0.2222222222222222,
              "#7201a8"
             ],
             [
              0.3333333333333333,
              "#9c179e"
             ],
             [
              0.4444444444444444,
              "#bd3786"
             ],
             [
              0.5555555555555556,
              "#d8576b"
             ],
             [
              0.6666666666666666,
              "#ed7953"
             ],
             [
              0.7777777777777778,
              "#fb9f3a"
             ],
             [
              0.8888888888888888,
              "#fdca26"
             ],
             [
              1,
              "#f0f921"
             ]
            ],
            "type": "histogram2dcontour"
           }
          ],
          "mesh3d": [
           {
            "colorbar": {
             "outlinewidth": 0,
             "ticks": ""
            },
            "type": "mesh3d"
           }
          ],
          "parcoords": [
           {
            "line": {
             "colorbar": {
              "outlinewidth": 0,
              "ticks": ""
             }
            },
            "type": "parcoords"
           }
          ],
          "pie": [
           {
            "automargin": true,
            "type": "pie"
           }
          ],
          "scatter": [
           {
            "fillpattern": {
             "fillmode": "overlay",
             "size": 10,
             "solidity": 0.2
            },
            "type": "scatter"
           }
          ],
          "scatter3d": [
           {
            "line": {
             "colorbar": {
              "outlinewidth": 0,
              "ticks": ""
             }
            },
            "marker": {
             "colorbar": {
              "outlinewidth": 0,
              "ticks": ""
             }
            },
            "type": "scatter3d"
           }
          ],
          "scattercarpet": [
           {
            "marker": {
             "colorbar": {
              "outlinewidth": 0,
              "ticks": ""
             }
            },
            "type": "scattercarpet"
           }
          ],
          "scattergeo": [
           {
            "marker": {
             "colorbar": {
              "outlinewidth": 0,
              "ticks": ""
             }
            },
            "type": "scattergeo"
           }
          ],
          "scattergl": [
           {
            "marker": {
             "colorbar": {
              "outlinewidth": 0,
              "ticks": ""
             }
            },
            "type": "scattergl"
           }
          ],
          "scattermapbox": [
           {
            "marker": {
             "colorbar": {
              "outlinewidth": 0,
              "ticks": ""
             }
            },
            "type": "scattermapbox"
           }
          ],
          "scatterpolar": [
           {
            "marker": {
             "colorbar": {
              "outlinewidth": 0,
              "ticks": ""
             }
            },
            "type": "scatterpolar"
           }
          ],
          "scatterpolargl": [
           {
            "marker": {
             "colorbar": {
              "outlinewidth": 0,
              "ticks": ""
             }
            },
            "type": "scatterpolargl"
           }
          ],
          "scatterternary": [
           {
            "marker": {
             "colorbar": {
              "outlinewidth": 0,
              "ticks": ""
             }
            },
            "type": "scatterternary"
           }
          ],
          "surface": [
           {
            "colorbar": {
             "outlinewidth": 0,
             "ticks": ""
            },
            "colorscale": [
             [
              0,
              "#0d0887"
             ],
             [
              0.1111111111111111,
              "#46039f"
             ],
             [
              0.2222222222222222,
              "#7201a8"
             ],
             [
              0.3333333333333333,
              "#9c179e"
             ],
             [
              0.4444444444444444,
              "#bd3786"
             ],
             [
              0.5555555555555556,
              "#d8576b"
             ],
             [
              0.6666666666666666,
              "#ed7953"
             ],
             [
              0.7777777777777778,
              "#fb9f3a"
             ],
             [
              0.8888888888888888,
              "#fdca26"
             ],
             [
              1,
              "#f0f921"
             ]
            ],
            "type": "surface"
           }
          ],
          "table": [
           {
            "cells": {
             "fill": {
              "color": "#EBF0F8"
             },
             "line": {
              "color": "white"
             }
            },
            "header": {
             "fill": {
              "color": "#C8D4E3"
             },
             "line": {
              "color": "white"
             }
            },
            "type": "table"
           }
          ]
         },
         "layout": {
          "annotationdefaults": {
           "arrowcolor": "#2a3f5f",
           "arrowhead": 0,
           "arrowwidth": 1
          },
          "autotypenumbers": "strict",
          "coloraxis": {
           "colorbar": {
            "outlinewidth": 0,
            "ticks": ""
           }
          },
          "colorscale": {
           "diverging": [
            [
             0,
             "#8e0152"
            ],
            [
             0.1,
             "#c51b7d"
            ],
            [
             0.2,
             "#de77ae"
            ],
            [
             0.3,
             "#f1b6da"
            ],
            [
             0.4,
             "#fde0ef"
            ],
            [
             0.5,
             "#f7f7f7"
            ],
            [
             0.6,
             "#e6f5d0"
            ],
            [
             0.7,
             "#b8e186"
            ],
            [
             0.8,
             "#7fbc41"
            ],
            [
             0.9,
             "#4d9221"
            ],
            [
             1,
             "#276419"
            ]
           ],
           "sequential": [
            [
             0,
             "#0d0887"
            ],
            [
             0.1111111111111111,
             "#46039f"
            ],
            [
             0.2222222222222222,
             "#7201a8"
            ],
            [
             0.3333333333333333,
             "#9c179e"
            ],
            [
             0.4444444444444444,
             "#bd3786"
            ],
            [
             0.5555555555555556,
             "#d8576b"
            ],
            [
             0.6666666666666666,
             "#ed7953"
            ],
            [
             0.7777777777777778,
             "#fb9f3a"
            ],
            [
             0.8888888888888888,
             "#fdca26"
            ],
            [
             1,
             "#f0f921"
            ]
           ],
           "sequentialminus": [
            [
             0,
             "#0d0887"
            ],
            [
             0.1111111111111111,
             "#46039f"
            ],
            [
             0.2222222222222222,
             "#7201a8"
            ],
            [
             0.3333333333333333,
             "#9c179e"
            ],
            [
             0.4444444444444444,
             "#bd3786"
            ],
            [
             0.5555555555555556,
             "#d8576b"
            ],
            [
             0.6666666666666666,
             "#ed7953"
            ],
            [
             0.7777777777777778,
             "#fb9f3a"
            ],
            [
             0.8888888888888888,
             "#fdca26"
            ],
            [
             1,
             "#f0f921"
            ]
           ]
          },
          "colorway": [
           "#636efa",
           "#EF553B",
           "#00cc96",
           "#ab63fa",
           "#FFA15A",
           "#19d3f3",
           "#FF6692",
           "#B6E880",
           "#FF97FF",
           "#FECB52"
          ],
          "font": {
           "color": "#2a3f5f"
          },
          "geo": {
           "bgcolor": "white",
           "lakecolor": "white",
           "landcolor": "#E5ECF6",
           "showlakes": true,
           "showland": true,
           "subunitcolor": "white"
          },
          "hoverlabel": {
           "align": "left"
          },
          "hovermode": "closest",
          "mapbox": {
           "style": "light"
          },
          "paper_bgcolor": "white",
          "plot_bgcolor": "#E5ECF6",
          "polar": {
           "angularaxis": {
            "gridcolor": "white",
            "linecolor": "white",
            "ticks": ""
           },
           "bgcolor": "#E5ECF6",
           "radialaxis": {
            "gridcolor": "white",
            "linecolor": "white",
            "ticks": ""
           }
          },
          "scene": {
           "xaxis": {
            "backgroundcolor": "#E5ECF6",
            "gridcolor": "white",
            "gridwidth": 2,
            "linecolor": "white",
            "showbackground": true,
            "ticks": "",
            "zerolinecolor": "white"
           },
           "yaxis": {
            "backgroundcolor": "#E5ECF6",
            "gridcolor": "white",
            "gridwidth": 2,
            "linecolor": "white",
            "showbackground": true,
            "ticks": "",
            "zerolinecolor": "white"
           },
           "zaxis": {
            "backgroundcolor": "#E5ECF6",
            "gridcolor": "white",
            "gridwidth": 2,
            "linecolor": "white",
            "showbackground": true,
            "ticks": "",
            "zerolinecolor": "white"
           }
          },
          "shapedefaults": {
           "line": {
            "color": "#2a3f5f"
           }
          },
          "ternary": {
           "aaxis": {
            "gridcolor": "white",
            "linecolor": "white",
            "ticks": ""
           },
           "baxis": {
            "gridcolor": "white",
            "linecolor": "white",
            "ticks": ""
           },
           "bgcolor": "#E5ECF6",
           "caxis": {
            "gridcolor": "white",
            "linecolor": "white",
            "ticks": ""
           }
          },
          "title": {
           "x": 0.05
          },
          "xaxis": {
           "automargin": true,
           "gridcolor": "white",
           "linecolor": "white",
           "ticks": "",
           "title": {
            "standoff": 15
           },
           "zerolinecolor": "white",
           "zerolinewidth": 2
          },
          "yaxis": {
           "automargin": true,
           "gridcolor": "white",
           "linecolor": "white",
           "ticks": "",
           "title": {
            "standoff": 15
           },
           "zerolinecolor": "white",
           "zerolinewidth": 2
          }
         }
        },
        "xaxis": {
         "anchor": "y",
         "domain": [
          0,
          1
         ],
         "title": {
          "text": "index"
         }
        },
        "yaxis": {
         "anchor": "x",
         "domain": [
          0,
          1
         ],
         "title": {
          "text": "sum of rev"
         }
        }
       }
      }
     },
     "metadata": {},
     "output_type": "display_data"
    }
   ],
   "source": [
    "import plotly.express as px\n",
    "\n",
    "x = pd.DataFrame()\n",
    "x['rev'] = df['Revenue_0']\n",
    "x['index'] = df['Revenue_0'].index\n",
    "\n",
    "df = px.data.tips()\n",
    "fig = px.histogram(x, x=\"index\", y=\"rev\")\n",
    "fig.show()\n"
   ]
  },
  {
   "cell_type": "code",
   "execution_count": null,
   "metadata": {},
   "outputs": [],
   "source": [
    "\n"
   ]
  }
 ],
 "metadata": {
  "kernelspec": {
   "display_name": "Python 3.10.5 64-bit",
   "language": "python",
   "name": "python3"
  },
  "language_info": {
   "codemirror_mode": {
    "name": "ipython",
    "version": 3
   },
   "file_extension": ".py",
   "mimetype": "text/x-python",
   "name": "python",
   "nbconvert_exporter": "python",
   "pygments_lexer": "ipython3",
   "version": "3.10.5"
  },
  "orig_nbformat": 4,
  "vscode": {
   "interpreter": {
    "hash": "fc8ecb86bcfbdb858df10f28d4559f153d5a0350d93704f8ee89becaa46c30f1"
   }
  }
 },
 "nbformat": 4,
 "nbformat_minor": 2
}
